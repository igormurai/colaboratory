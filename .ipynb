{
 "cells": [
  {
   "attachments": {},
   "cell_type": "markdown",
   "metadata": {},
   "source": [
    "**1- Inicializar um vetor de inteiros com números de 0 a 10**"
   ]
  },
  {
   "cell_type": "code",
   "execution_count": null,
   "metadata": {},
   "outputs": [
    {
     "name": "stdout",
     "output_type": "stream",
     "text": [
      "banana\n",
      "morango\n",
      "maça\n",
      "abacaxi\n",
      "tomate\n",
      "acerola\n",
      "cenoura\n",
      "pessego\n",
      "laranja\n",
      "tangerina\n"
     ]
    }
   ],
   "source": [
    "# Lendo a lista\n",
    "\n",
    "lista=[\"banana\", \"morango\", \"maça\", \"abacaxi\", \"tomate\", \"acerola\", \"cenoura\", \"pessego\", \"laranja\", \"tangerina\"]\n",
    "\n",
    "# Imprimindo a lista\n",
    "\n",
    "for item in lista:\n",
    "  print(item)"
   ]
  },
  {
   "attachments": {},
   "cell_type": "markdown",
   "metadata": {},
   "source": [
    "**2- Escreva um algoritmo que leia um conjunto de 10 notas, armazene-as em uma variável composta chamada NOTA e calcule e imprima a sua média.**"
   ]
  },
  {
   "cell_type": "code",
   "execution_count": 1,
   "metadata": {},
   "outputs": [],
   "source": [
    "NOTA = []\n",
    "\n",
    "# Lendo as 10 notas\n",
    "\n",
    "for i in range(1, 11):\n",
    "    nota = float(input(\"Digite a nota {}:\".format(i)))\n",
    "    NOTA.append(nota)\n",
    "\n",
    "# Calculando a média\n",
    "\n",
    "soma = sum(NOTA)\n",
    "media = soma / len(NOTA)\n",
    "\n",
    "# Imprimindo a média\n",
    "\n",
    "print(f\" A média das notas é: {media}\" )"
   ]
  },
  {
   "attachments": {},
   "cell_type": "markdown",
   "metadata": {},
   "source": [
    "**3- Repita o algoritmo acima, porém imprima quantos valores estão acima da média.**"
   ]
  },
  {
   "cell_type": "code",
   "execution_count": 15,
   "metadata": {},
   "outputs": [],
   "source": [
    "# Lendo as 10 notas\n",
    "\n",
    "for i in range(1, 11):\n",
    "    nota = float(input(\"Digite a nota {}:\".format(i)))\n",
    "    NOTA.append(nota)\n",
    "\n",
    "# Calculando a média\n",
    "\n",
    "soma = sum(NOTA)\n",
    "media = soma / len(NOTA)\n",
    "\n",
    "acima_media = 0\n",
    "for nota in NOTA:\n",
    "    if nota > media:\n",
    "        acima_media += 1\n",
    "\n",
    "# Imprimindo a média e as notas acima da média\n",
    "\n",
    "print(f\" A média das notas é: {media}\" )\n",
    "print(f\" Quantidade de valores acima da média: {acima_media}\" )"
   ]
  },
  {
   "attachments": {},
   "cell_type": "markdown",
   "metadata": {},
   "source": [
    "**4- Faça um algoritmo que leia um vetor que contém as notas de 10 alunos. Imprima o maior valor, o menor valor, a média da turma e a quantidade de notas abaixo da média.**"
   ]
  },
  {
   "cell_type": "code",
   "execution_count": 1,
   "metadata": {},
   "outputs": [
    {
     "name": "stdout",
     "output_type": "stream",
     "text": [
      "Maior valor: 10.0 \n",
      "Menor valor: 5.0 \n",
      "Média da turma: 7.2 \n",
      "Quantidade de notas abaixo da média: 7 \n"
     ]
    }
   ],
   "source": [
    "notas = []\n",
    "\n",
    "# Lendo as notas dos 10 alunos\n",
    "\n",
    "for i in range(1, 11):\n",
    "    nota = float(input(\"Digite a nota do aluno {}: \".format(i)))\n",
    "    notas.append(nota)\n",
    "\n",
    "# Calculando o maior valor\n",
    "\n",
    "maior = max(notas)\n",
    "\n",
    "# Calculando o menor valor\n",
    "\n",
    "menor = min(notas)\n",
    "\n",
    "# Calculando a média da turma\n",
    "\n",
    "soma = sum(notas)\n",
    "media = soma / len(notas)\n",
    "\n",
    "# Contando quantas notas estão abaixo da média\n",
    "\n",
    "abaixo_media = 0\n",
    "for nota in notas:\n",
    "    if nota < media:\n",
    "        abaixo_media += 1\n",
    "\n",
    "# Imprimindo os resultados\n",
    "\n",
    "print(f\"Maior valor: {maior} \")\n",
    "print(f\"Menor valor: {menor} \")\n",
    "print(f\"Média da turma: {media} \")\n",
    "print(f\"Quantidade de notas abaixo da média: {abaixo_media} \")"
   ]
  },
  {
   "attachments": {},
   "cell_type": "markdown",
   "metadata": {},
   "source": [
    "**5- Ler um vetor de 10 elementos numéricos e verificar se existem elementos iguais a 30. Se existirem, escrever as posições em que estão armazenados.**"
   ]
  },
  {
   "cell_type": "code",
   "execution_count": 3,
   "metadata": {},
   "outputs": [
    {
     "name": "stdout",
     "output_type": "stream",
     "text": [
      "Elemento igual a 30 encontrado nas posições: [5, 7, 9]\n"
     ]
    }
   ],
   "source": [
    "vetor = []\n",
    "\n",
    "# Lendo os elementos do vetor\n",
    "\n",
    "for i in range(10):\n",
    "    elemento = int(input(\"Digite o elemento {}: \".format(i + 1)))\n",
    "    vetor.append(elemento)\n",
    "\n",
    "# Verificando se existem elementos iguais a 30\n",
    "\n",
    "posicoes = []\n",
    "for i in range(len(vetor)):\n",
    "    if vetor[i] == 30:\n",
    "        posicoes.append(i)\n",
    "\n",
    "# Imprimindo as posições dos elementos iguais a 30\n",
    "\n",
    "if len(posicoes) > 0:\n",
    "    print(\"Elemento igual a 30 encontrado nas posições:\", posicoes)\n",
    "else:\n",
    "    print(\"Não existem elementos iguais a 30 no vetor.\")"
   ]
  },
  {
   "attachments": {},
   "cell_type": "markdown",
   "metadata": {},
   "source": [
    "**6- Fazer um algoritmo que calcule e escreva o somatório dos valores armazenados numa variável composta unidimensional (vetor) A, de 10 elementos numéricos a serem lidos do dispositivo de entrada.**"
   ]
  },
  {
   "cell_type": "code",
   "execution_count": 4,
   "metadata": {},
   "outputs": [
    {
     "name": "stdout",
     "output_type": "stream",
     "text": [
      "A soma dos 10 valores é 828.0\n"
     ]
    }
   ],
   "source": [
    "A = []\n",
    "\n",
    "# Lendo os números\n",
    "\n",
    "for i in range (10):\n",
    "    numero = float(input(\"Digite um aleatório {}: \".format(i)))\n",
    "    A.append(numero)\n",
    "\n",
    "# Somandos os números\n",
    "\n",
    "soma = sum(A)\n",
    "\n",
    "#Imprimindo o resultado\n",
    "\n",
    "print(f\"A soma dos 10 valores é {soma}\")"
   ]
  },
  {
   "attachments": {},
   "cell_type": "markdown",
   "metadata": {},
   "source": [
    "**7- Escreva um algoritmo que leia um vetor de 10 valores numéricos reais e os imprima na ordem contrária em que foi lida.**"
   ]
  },
  {
   "cell_type": "code",
   "execution_count": 10,
   "metadata": {},
   "outputs": [
    {
     "name": "stdout",
     "output_type": "stream",
     "text": [
      "Vetor na ordem contrária:\n",
      "6.0\n",
      "89.0\n",
      "6.0\n",
      "7.0\n",
      "65.0\n",
      "87.0\n",
      "54.0\n",
      "43.0\n",
      "5.0\n",
      "6.0\n"
     ]
    }
   ],
   "source": [
    "# Inicializar o vetor com 10 elementos\n",
    "\n",
    "vetor = [0] * 10\n",
    "\n",
    "# Ler os valores do vetor\n",
    "\n",
    "for i in range(10):\n",
    "    vetor[i] = float(input(f'Digite o valor {i+1}: '))\n",
    "\n",
    "# Imprimir o vetor na ordem contrária\n",
    "\n",
    "print(\"Vetor na ordem contrária:\")\n",
    "for i in range(9, -1, -1):\n",
    "    print(vetor[i])\n"
   ]
  },
  {
   "attachments": {},
   "cell_type": "markdown",
   "metadata": {},
   "source": [
    "**8- Escreva um algoritmo para fazer a soma de dois vetores de 10 elementos reais lidos do teclado. O primeiro elemento do primeiro vetor deverá ser adicionado ao primeiro elemento do segundo vetor e, o resultado deverá ser acumulado em um terceiro vetor também de 10 elementos. Imprimir os três vetores conforme layout de impressão abaixo:**"
   ]
  },
  {
   "cell_type": "code",
   "execution_count": 11,
   "metadata": {},
   "outputs": [
    {
     "name": "stdout",
     "output_type": "stream",
     "text": [
      "Digite os valores do primeiro vetor:\n",
      "\n",
      "Digite os valores do segundo vetor:\n",
      "\n",
      "Vetor 1:\n",
      "65.0\n",
      "54.0\n",
      "45.0\n",
      "78.0\n",
      "87.0\n",
      "65.0\n",
      "33.0\n",
      "23.0\n",
      "15.0\n",
      "23.0\n",
      "\n",
      "Vetor 2:\n",
      "5.0\n",
      "4.0\n",
      "32.0\n",
      "64.0\n",
      "32.0\n",
      "78.0\n",
      "98.0\n",
      "65.0\n",
      "43.0\n",
      "56.0\n",
      "\n",
      "Vetor Resultado:\n",
      "70.0\n",
      "58.0\n",
      "77.0\n",
      "142.0\n",
      "119.0\n",
      "143.0\n",
      "131.0\n",
      "88.0\n",
      "58.0\n",
      "79.0\n"
     ]
    }
   ],
   "source": [
    "# Inicializar os vetores com 10 elementos\n",
    "\n",
    "vetor1 = [0] * 10\n",
    "vetor2 = [0] * 10\n",
    "vetor_resultado = [0] * 10\n",
    "\n",
    "# Ler os valores do primeiro vetor\n",
    "\n",
    "print(\"Digite os valores do primeiro vetor:\")\n",
    "for i in range(10):\n",
    "    vetor1[i] = float(input(f'Digite o valor {i+1}: '))\n",
    "\n",
    "# Ler os valores do segundo vetor\n",
    "\n",
    "print(\"\\nDigite os valores do segundo vetor:\")\n",
    "for i in range(10):\n",
    "    vetor2[i] = float(input(f'Digite o valor {i+1}: '))\n",
    "\n",
    "# Realizar a soma dos vetores e armazenar o resultado no vetor de resultado\n",
    "\n",
    "for i in range(10):\n",
    "    vetor_resultado[i] = vetor1[i] + vetor2[i]\n",
    "\n",
    "# Imprimir os três vetores\n",
    "\n",
    "print(\"\\nVetor 1:\")\n",
    "for i in range(10):\n",
    "    print(vetor1[i])\n",
    "\n",
    "print(\"\\nVetor 2:\")\n",
    "for i in range(10):\n",
    "    print(vetor2[i])\n",
    "\n",
    "print(\"\\nVetor Resultado:\")\n",
    "for i in range(10):\n",
    "    print(vetor_resultado[i])"
   ]
  },
  {
   "attachments": {},
   "cell_type": "markdown",
   "metadata": {},
   "source": [
    "**10- Escreva um algoritmo que:**\n",
    "\n",
    "**a- leia 100 valores numéricos e os armazene numa variável composta unidimensional A;**\n",
    "\n",
    "**b-  calcule e escreva:**\n",
    "\n",
    "**, onde ai é o i-ésimo valor armazenado na variável A;**\n",
    "\n",
    "**c- calcule e escreva quantos termos da série acima têm o numerador menor do que o denominador.**"
   ]
  },
  {
   "cell_type": "code",
   "execution_count": null,
   "metadata": {},
   "outputs": [],
   "source": [
    "# Lendo 100 valores numéricos\n",
    "\n",
    "A = []\n",
    "for _ in range(100):\n",
    "    valor = float(input(\"Digite um valor numérico: \"))\n",
    "    A.append(valor)\n",
    "\n",
    "# Calculando a série e contando os termos com numerador menor que o denominador\n",
    "\n",
    "soma = 0\n",
    "count = 0\n",
    "for i in range(len(A)):\n",
    "    soma += A[i] / (i + 1)\n",
    "    if A[i] < (i + 1):\n",
    "        count += 1\n",
    "\n",
    "# Imprimindo a soma e o número de termos com numerador menor que o denominador\n",
    "\n",
    "print(\"Soma da série:\", soma)\n",
    "print(\"Número de termos com numerador menor que o denominador:\", count)\n"
   ]
  },
  {
   "attachments": {},
   "cell_type": "markdown",
   "metadata": {},
   "source": [
    "**11- Faça um algoritmo que leia um conjunto de 10 elementos reais e os coloque em um vetor.**\n",
    "**Construa um segundo vetor formado da seguinte maneira:**\n",
    "\n",
    "**• Os elementos de ordem par são os correspondentes do primeiro vetor multiplicados por 3.**\n",
    "**• Os elementos de ordem ímpar são os correspondentes do primeiro vetor divididos por 2.**\n",
    "**• Imprima os dois vetores.**"
   ]
  },
  {
   "cell_type": "code",
   "execution_count": 2,
   "metadata": {},
   "outputs": [
    {
     "name": "stdout",
     "output_type": "stream",
     "text": [
      "Primeiro vetor: [76.0, 65.0, 76.0, 32.0, 453.0, 3455.0, 55.0, 343.0, 3432.0, 65.0]\n",
      "Segundo vetor: [228.0, 32.5, 228.0, 16.0, 1359.0, 1727.5, 165.0, 171.5, 10296.0, 32.5]\n"
     ]
    }
   ],
   "source": [
    "# Definindo o primeiro vetor\n",
    "\n",
    "primeiro_vetor = []\n",
    "\n",
    "# Lendo os valores e armazenando no primeiro vetor\n",
    "\n",
    "for i in range(10):\n",
    "    valor = float(input(\"Digite um valor real: \"))\n",
    "    primeiro_vetor.append(valor)\n",
    "\n",
    "# Construindo o segundo vetor\n",
    "\n",
    "segundo_vetor = []\n",
    "for i in range(10):\n",
    "    if i % 2 == 0:\n",
    "\n",
    "        # Elementos de ordem par: multiplicar por 3\n",
    "\n",
    "        segundo_vetor.append(primeiro_vetor[i] * 3)\n",
    "    else:\n",
    "        # Elementos de ordem ímpar: dividir por 2\n",
    "\n",
    "        segundo_vetor.append(primeiro_vetor[i] / 2)\n",
    "\n",
    "# Imprimindo os vetores\n",
    "\n",
    "print(\"Primeiro vetor:\", primeiro_vetor)\n",
    "print(\"Segundo vetor:\", segundo_vetor)\n"
   ]
  },
  {
   "attachments": {},
   "cell_type": "markdown",
   "metadata": {},
   "source": [
    "**12- Escreva um algoritmo que:**\n",
    "\n",
    "**a- leia um conjunto A de 20 elementos a partir de uma unidade de entrada;**\n",
    "\n",
    "**b- calcule e imprima o valor de S, onde:**\n",
    "\n",
    "**S = (A[0] - A[19])^2 + (A[1] - A[18])^2 + ... + (A[9] - A[10])^2**"
   ]
  },
  {
   "cell_type": "code",
   "execution_count": null,
   "metadata": {},
   "outputs": [],
   "source": [
    "# Definindo o vetor A\n",
    "\n",
    "A = []\n",
    "\n",
    "# Lendo os valores e armazenando no vetor A\n",
    "\n",
    "for i in range(20):\n",
    "    valor = int(input(\"Digite um valor: \"))\n",
    "    A.append(valor)\n",
    "\n",
    "# Calculando o valor de S\n",
    "\n",
    "S = 0\n",
    "for i in range(10):\n",
    "    diferenca = A[i] - A[19 - i]\n",
    "    S += diferenca ** 2\n",
    "\n",
    "# Imprimindo o valor de S\n",
    "\n",
    "print(\"O valor de S é:\", S)\n"
   ]
  },
  {
   "attachments": {},
   "cell_type": "markdown",
   "metadata": {},
   "source": [
    "**13- Escreva um algoritmo que:**\n",
    "\n",
    "**a- leia uma frase de 50 caracteres;**\n",
    "\n",
    "**b- conte quantos brancos existem na frase;**\n",
    "\n",
    "**c- conte quantas vezes a letra “A” aparece;**\n",
    "\n",
    "**d- imprima o que foi calculado nos itens b e c.**"
   ]
  },
  {
   "cell_type": "code",
   "execution_count": null,
   "metadata": {},
   "outputs": [],
   "source": [
    "# Lendo a frase de 50 caracteres\n",
    "\n",
    "frase = input(\"Digite uma frase de 50 caracteres: \")\n",
    "\n",
    "# Contando os espaços em branco\n",
    "\n",
    "contagem_brancos = 0\n",
    "for caractere in frase:\n",
    "    if caractere == \" \":\n",
    "        contagem_brancos += 1\n",
    "\n",
    "# Contando as ocorrências da letra \"A\"\n",
    "\n",
    "contagem_letra_A = 0\n",
    "for caractere in frase:\n",
    "    if caractere == \"A\" or caractere == \"a\":\n",
    "        contagem_letra_A += 1\n",
    "\n",
    "# Imprimindo os resultados\n",
    "\n",
    "print(\"Número de espaços em branco na frase:\", contagem_brancos)\n",
    "print(\"Número de vezes que a letra 'A' aparece na frase:\", contagem_letra_A)\n"
   ]
  },
  {
   "attachments": {},
   "cell_type": "markdown",
   "metadata": {},
   "source": [
    "**14- Um armazém trabalha com 100 mercadorias diferentes identificadas pelos números inteiros de 0 a 99. O dono do armazém anota a quantidade de cada mercadoria vendida durante o mês. Ele tem uma tabela mensal que indica para cada mercadoria o preço de venda. Escreva o algoritmo para calcular o faturamento mensal do armazém.**"
   ]
  },
  {
   "cell_type": "code",
   "execution_count": null,
   "metadata": {},
   "outputs": [],
   "source": [
    "# Tabela de preços de venda das mercadorias\n",
    "\n",
    "tabela_precos = [\n",
    "    10.99,  # Mercadoria 0\n",
    "    5.99,   # Mercadoria 1\n",
    "    15.99,  # Mercadoria 2\n",
    "    # Adicione os preços para as demais mercadorias aqui...\n",
    "]\n",
    "\n",
    "# Quantidades vendidas de cada mercadoria\n",
    "\n",
    "quantidades_vendidas = [\n",
    "    15,  # Quantidade vendida da mercadoria 0\n",
    "    20,  # Quantidade vendida da mercadoria 1\n",
    "    10,  # Quantidade vendida da mercadoria 2\n",
    "    # Adicione as quantidades vendidas para as demais mercadorias aqui...\n",
    "]\n",
    "\n",
    "# Cálculo do faturamento mensal\n",
    "\n",
    "faturamento_mensal = 0.0\n",
    "for i in range(len(quantidades_vendidas)):\n",
    "    preco = tabela_precos[i]\n",
    "    quantidade = quantidades_vendidas[i]\n",
    "    faturamento_mensal += preco * quantidade\n",
    "\n",
    "# Imprimindo o faturamento mensal\n",
    "\n",
    "print(\"O faturamento mensal do armazém é de R$\", faturamento_mensal)\n"
   ]
  },
  {
   "attachments": {},
   "cell_type": "markdown",
   "metadata": {},
   "source": [
    "**15- Classificar um vetor numérico VET de 20 elementos em ordem crescente.**"
   ]
  },
  {
   "cell_type": "code",
   "execution_count": null,
   "metadata": {},
   "outputs": [],
   "source": [
    "# Definindo o vetor numérico\n",
    "\n",
    "VET = [8, 2, 15, 1, 6, 10, 5, 12, 3, 17, 4, 9, 11, 7, 19, 13, 16, 18, 14, 20]\n",
    "\n",
    "# Tamanho do vetor\n",
    "\n",
    "n = len(VET)\n",
    "\n",
    "# Implementação do Selection Sort\n",
    "\n",
    "for i in range(n-1):\n",
    "\n",
    "    # Encontrando o índice do menor elemento não classificado\n",
    "\n",
    "    indice_min = i\n",
    "    for j in range(i+1, n):\n",
    "        if VET[j] < VET[indice_min]:\n",
    "            indice_min = j\n",
    "    \n",
    "    # Trocando os elementos de posição\n",
    "\n",
    "    VET[i], VET[indice_min] = VET[indice_min], VET[i]\n",
    "\n",
    "# Imprimindo o vetor classificado\n",
    "\n",
    "print(\"Vetor classificado em ordem crescente:\", VET)\n"
   ]
  },
  {
   "attachments": {},
   "cell_type": "markdown",
   "metadata": {},
   "source": [
    "**16- Dado um vetor de 128 elementos, verificar se existe um elemento igual a K (chave) no vetor. Se existir, imprimir a posição onde foi encontrada a chave; se não; imprimir a mensagem:**\n",
    "**“CHAVE K NÃO ENCONTRADA”. O vetor A e a chave K são lidos a partir de uma unidade de entrada.**"
   ]
  },
  {
   "cell_type": "code",
   "execution_count": null,
   "metadata": {},
   "outputs": [],
   "source": [
    "vetor = []\n",
    "\n",
    "# Lendo o vetor de 128 elementos\n",
    "\n",
    "for _ in range(128):\n",
    "    elemento = int(input(\"Digite um elemento do vetor: \"))\n",
    "    vetor.append(elemento)\n",
    "\n",
    "# Lendo a chave K\n",
    "\n",
    "chave = int(input(\"Digite a chave K: \"))\n",
    "\n",
    "# Verificando se a chave K existe no vetor\n",
    "\n",
    "encontrada = False\n",
    "posicao = -1\n",
    "for i in range(len(vetor)):\n",
    "    if vetor[i] == chave:\n",
    "        encontrada = True\n",
    "        posicao = i\n",
    "        break\n",
    "\n",
    "# Imprimindo a posição ou a mensagem\n",
    "\n",
    "if encontrada:\n",
    "    print(\"Chave\", chave, \"encontrada na posição\", posicao)\n",
    "else:\n",
    "    print(\"Chave\", chave, \"não encontrada\")\n"
   ]
  },
  {
   "attachments": {},
   "cell_type": "markdown",
   "metadata": {},
   "source": [
    "**17- Refaça o algoritmo acima otimizando-o usando uma técnica conhecida por Pesquisa Binária. Suponha primeiramente que o vetor já esteja ordenado. Procuramos então o elemento K dividindo o vetor em duas partes e testando em qual das duas partes ele deveria estar. Procede-se então, da mesma forma para a parte provável, e assim sucessivamente. Obs.: na pesquisa sequencial simple(problema 16), o número médio de comparações que devem ser feitas até encontrar a chave é N/2, onde N é o número de elementos do vetor. Nonosso caso, no algoritmo 16, teríamos, em média, 128/2 = 64 comparações. Na pesquisa binária, o número máximo de comparações é log2N. Teríamos, então, log2128=7 comparações, no máximo.**"
   ]
  },
  {
   "cell_type": "code",
   "execution_count": null,
   "metadata": {},
   "outputs": [],
   "source": [
    "# Lendo o vetor de 128 elementos\n",
    "\n",
    "vetor = []\n",
    "for _ in range(128):\n",
    "    elemento = int(input(\"Digite um elemento do vetor: \"))\n",
    "    vetor.append(elemento)\n",
    "\n",
    "# Ordenando o vetor\n",
    "\n",
    "vetor.sort()\n",
    "\n",
    "# Lendo a chave K\n",
    "\n",
    "chave = int(input(\"Digite a chave K: \"))\n",
    "\n",
    "# Pesquisa binária\n",
    "\n",
    "encontrada = False\n",
    "inicio = 0\n",
    "fim = len(vetor) - 1\n",
    "posicao = -1\n",
    "\n",
    "while inicio <= fim:\n",
    "    meio = (inicio + fim) // 2\n",
    "    if vetor[meio] == chave:\n",
    "        encontrada = True\n",
    "        posicao = meio\n",
    "        break\n",
    "    elif vetor[meio] < chave:\n",
    "        inicio = meio + 1\n",
    "    else:\n",
    "        fim = meio - 1\n",
    "\n",
    "# Imprimindo a posição ou a mensagem\n",
    "\n",
    "    print(\"Chave\", chave, \"encontrada na posição\", posicao)\n",
    "else:\n",
    "    print(\"Chave\", chave, \"não encontrada\")\n"
   ]
  },
  {
   "attachments": {},
   "cell_type": "markdown",
   "metadata": {},
   "source": [
    "**18- Faça um algoritmo qualquer que leia uma matriz A de 15 linhas por 25 colunas e imprima o seu conteúdo.**"
   ]
  },
  {
   "cell_type": "code",
   "execution_count": 4,
   "metadata": {},
   "outputs": [
    {
     "ename": "ValueError",
     "evalue": "invalid literal for int() with base 10: 'escape'",
     "output_type": "error",
     "traceback": [
      "\u001b[1;31m---------------------------------------------------------------------------\u001b[0m",
      "\u001b[1;31mValueError\u001b[0m                                Traceback (most recent call last)",
      "Cell \u001b[1;32mIn[4], line 15\u001b[0m\n\u001b[0;32m     13\u001b[0m linha \u001b[39m=\u001b[39m []\n\u001b[0;32m     14\u001b[0m \u001b[39mfor\u001b[39;00m j \u001b[39min\u001b[39;00m \u001b[39mrange\u001b[39m(colunas):\n\u001b[1;32m---> 15\u001b[0m     valor \u001b[39m=\u001b[39m \u001b[39mint\u001b[39;49m(\u001b[39minput\u001b[39;49m(\u001b[39mf\u001b[39;49m\u001b[39m\"\u001b[39;49m\u001b[39mDigite o valor para a posição (\u001b[39;49m\u001b[39m{\u001b[39;49;00mi\u001b[39m+\u001b[39;49m\u001b[39m1\u001b[39;49m\u001b[39m}\u001b[39;49;00m\u001b[39m, \u001b[39;49m\u001b[39m{\u001b[39;49;00mj\u001b[39m+\u001b[39;49m\u001b[39m1\u001b[39;49m\u001b[39m}\u001b[39;49;00m\u001b[39m): \u001b[39;49m\u001b[39m\"\u001b[39;49m))\n\u001b[0;32m     16\u001b[0m     linha\u001b[39m.\u001b[39mappend(valor)\n\u001b[0;32m     17\u001b[0m matriz\u001b[39m.\u001b[39mappend(linha)\n",
      "\u001b[1;31mValueError\u001b[0m: invalid literal for int() with base 10: 'escape'"
     ]
    }
   ],
   "source": [
    "# Definindo o tamanho da matriz\n",
    "\n",
    "linhas = 15\n",
    "colunas = 25\n",
    "\n",
    "# Criando a matriz\n",
    "\n",
    "matriz = []\n",
    "\n",
    "# Lendo os valores da matriz\n",
    "\n",
    "for i in range(linhas):\n",
    "    linha = []\n",
    "    for j in range(colunas):\n",
    "        valor = int(input(f\"Digite o valor para a posição ({i+1}, {j+1}): \"))\n",
    "        linha.append(valor)\n",
    "    matriz.append(linha)\n",
    "\n",
    "# Imprimindo o conteúdo da matriz\n",
    "\n",
    "print(\"Conteúdo da matriz:\")\n",
    "for i in range(linhas):\n",
    "    for j in range(colunas):\n",
    "        print(matriz[i][j], end=\" \")\n",
    "    print()\n"
   ]
  }
 ],
 "metadata": {
  "kernelspec": {
   "display_name": "Python 3",
   "language": "python",
   "name": "python3"
  },
  "language_info": {
   "codemirror_mode": {
    "name": "ipython",
    "version": 3
   },
   "file_extension": ".py",
   "mimetype": "text/x-python",
   "name": "python",
   "nbconvert_exporter": "python",
   "pygments_lexer": "ipython3",
   "version": "3.11.3"
  },
  "orig_nbformat": 4
 },
 "nbformat": 4,
 "nbformat_minor": 2
}
