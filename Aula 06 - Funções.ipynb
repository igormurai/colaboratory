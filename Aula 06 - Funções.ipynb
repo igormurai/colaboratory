{
  "cells": [
    {
      "cell_type": "markdown",
      "metadata": {
        "id": "view-in-github",
        "colab_type": "text"
      },
      "source": [
        "<a href=\"https://colab.research.google.com/github/igormurai/colaboratory/blob/main/Aula%2006%20-%20Fun%C3%A7%C3%B5es.ipynb\" target=\"_parent\"><img src=\"https://colab.research.google.com/assets/colab-badge.svg\" alt=\"Open In Colab\"/></a>"
      ]
    },
    {
      "cell_type": "markdown",
      "metadata": {
        "id": "gvEbWdAsDJ_s"
      },
      "source": [
        "**1- Faça uma função para converter uma temperatura em graus Fahrenheit para Celsius. A temperatura em Fahrenheit é o dado de entrada e a temperatura em Celsius é o dado de saída. Utilize a fórmula C = (F- 32) * 5/9, onde F é a temperatura em Fahrenheit e C é a temperatura em Celsius.**"
      ]
    },
    {
      "cell_type": "code",
      "execution_count": null,
      "metadata": {
        "id": "xORWO_8_DJ_x"
      },
      "outputs": [],
      "source": [
        "def fahrenheit_para_celsius(fahrenheit):\n",
        "    celsius = (fahrenheit-32)*5/9\n",
        "    return celsius\n",
        "\n",
        "temperatura_fahrenheit = int(input(\"Digite a temperatura em fahrenheit\"))\n",
        "temperatura_celsius = fahrenheit_para_celsius(temperatura_fahrenheit)\n",
        "print(f\"A temperatura em Celsius é:{temperatura_celsius}\")"
      ]
    },
    {
      "cell_type": "markdown",
      "metadata": {
        "id": "dBj7Nwq5DJ_z"
      },
      "source": [
        "**2- Faça uma função que calcule a hipotenusa. Os catetos são os dados de entrada e a hipotenusa é o dado de saída.**\n",
        "\n",
        "**hipotenusa = Raiz catetoA² + catetoB²**"
      ]
    },
    {
      "cell_type": "code",
      "execution_count": null,
      "metadata": {
        "id": "Vz_i0keZDJ_0"
      },
      "outputs": [],
      "source": [
        "import math\n",
        "\n",
        "def calcular_hipotenusa(cateto1, cateto2):\n",
        "    hipotenusa = math.sqrt(catetoA**2 + catetoB**2)\n",
        "    return hipotenusa\n",
        "\n",
        "# Exemplo de uso da função\n",
        "\n",
        "catetoA = float(input(\"Entre com o valor de Cateto A: \"))\n",
        "catetoB = float(input(\"Entre com o valor de Cateto B: \"))\n",
        "resultado = calcular_hipotenusa(catetoA, catetoB)\n",
        "print(f\"A hipotenusa é: {resultado}\")"
      ]
    },
    {
      "cell_type": "markdown",
      "metadata": {
        "id": "TVnVaGbhDJ_0"
      },
      "source": [
        "**3- Escreva um programa para ler as notas das duas avaliações de um aluno no semestre. Faça uma função que receba as duas notas por parâmetro e calcule e escreva a média semestral e a mensagem “PARABÉNS! Você foi aprovado!” somente se o aluno foi aprovado (considere 6.0 a média mínima para aprovação).**"
      ]
    },
    {
      "cell_type": "code",
      "execution_count": null,
      "metadata": {
        "id": "1yKJqXotDJ_1"
      },
      "outputs": [],
      "source": [
        "import math\n",
        "\n",
        "def calcular_media(nota1, nota2):\n",
        "    media = (nota1+nota2) / 2\n",
        "    return media\n",
        "\n",
        "#Uso da função\n",
        "\n",
        "nota1=float(input(\"Digite a nota da primeira prova: \"))\n",
        "nota2=float(input(\"Digite a nota da segunda prova: \"))\n",
        "resultado = calcular_media(nota1, nota2)\n",
        "print(f\"A média do aluno é: {resultado}\")"
      ]
    },
    {
      "cell_type": "markdown",
      "metadata": {
        "id": "0whKwfHsDJ_2"
      },
      "source": [
        "**4- Faça um programa que leia a altura e o sexo (codificado da seguinte forma: 1-feminino 2-masculino) de uma pessoa. Depois faça uma função chamada pesoideal que receba a altura e o sexo via parâmetro e que calcule e retorne seu peso ideal, utilizando as seguintes fórmulas:**\n",
        "**• para homens: (72.7 * h) – 58**\n",
        "**• para mulheres: (62.1 * h) – 44.7**\n",
        "**Observação: Altura = h (na fórmula acima).**"
      ]
    },
    {
      "cell_type": "code",
      "execution_count": null,
      "metadata": {
        "id": "Lb3ElurPDJ_3"
      },
      "outputs": [],
      "source": [
        "def pesoideal(altura, sexo):\n",
        "    if sexo == 1:  # Feminino\n",
        "        peso_ideal = (62.1 * altura) - 44.7\n",
        "    elif sexo == 2:  # Masculino\n",
        "        peso_ideal = (72.7 * altura) - 58\n",
        "    else:\n",
        "        return \"Código de sexo inválido. Use 1 para feminino e 2 para masculino.\"\n",
        "\n",
        "    return peso_ideal\n",
        "\n",
        "\n",
        "altura = float(input(\"Digite sua altura em metros: \"))\n",
        "sexo = int(input(\"Digite o código correspondente ao seu sexo (1-feminino, 2-masculino): \"))\n",
        "\n",
        "resultado = pesoideal(altura, sexo)\n",
        "\n",
        "if type(resultado) == str:\n",
        "    print(resultado)\n",
        "else:\n",
        "    print(\"Seu peso ideal é:\", resultado, \"kg\")\n"
      ]
    },
    {
      "cell_type": "markdown",
      "metadata": {
        "id": "WInQ5j8rDJ_3"
      },
      "source": [
        "**5- Escreva um programa para ler o número de lados de um polígono regular e a medida do lado (em cm). Faça uma função que receba como parâmetro o número de lados e a medida do lado deste polígono e calcule e imprima o seguinte:**\n",
        "**• Se o número de lados for igual a 3, escrever TRIÂNGULO e o valor do seu perímetro.**\n",
        "**• Se o número de lados for igual a 4, escrever QUADRADO e o valor da sua área.**\n",
        "**• Se o número de lados for igual a 5, escrever PENTÁGONO.**\n",
        "**Observação: Considere que o usuário só informará os valores 3, 4 ou 5.**"
      ]
    },
    {
      "cell_type": "code",
      "execution_count": null,
      "metadata": {
        "id": "wnuhMyugDJ_4"
      },
      "outputs": [],
      "source": [
        "def calcular_poligono_regular(num_lados, medida_lado):\n",
        "    if num_lados == 3:\n",
        "        perimetro = num_lados * medida_lado\n",
        "        print(\"TRIÂNGULO\")\n",
        "        print(\"Perímetro:\", perimetro)\n",
        "    elif num_lados == 4:\n",
        "        area = medida_lado ** 2\n",
        "        print(\"QUADRADO\")\n",
        "        print(\"Área:\", area)\n",
        "    elif num_lados == 5:\n",
        "        print(\"PENTÁGONO\")\n",
        "    else:\n",
        "        print(\"Polígono não suportado.\")\n",
        "\n",
        "num_lados = int(input(\"Digite o número de lados do polígono: \"))\n",
        "medida_lado = float(input(\"Digite a medida do lado do polígono (em cm): \"))\n",
        "\n",
        "calcular_poligono_regular(num_lados, medida_lado)"
      ]
    },
    {
      "cell_type": "markdown",
      "metadata": {
        "id": "4xd_kX5zDJ_4"
      },
      "source": [
        "**6- Escreva uma função que recebe 2 números inteiros n1 e n2 como entrada e retorna a soma de todos os números inteiros contidos no intervalo [n1,n2]. Use esta função em um programa que lê n1 e n2 do usuário e imprime a soma.**"
      ]
    },
    {
      "cell_type": "code",
      "execution_count": null,
      "metadata": {
        "id": "CMWRKslwDJ_5"
      },
      "outputs": [],
      "source": [
        "def calcular_numeros(n1, n2):\n",
        "    soma= n1 + n2\n",
        "    return soma\n",
        "\n",
        "n1 = int(input(\"Digite um número inteiro: \"))\n",
        "n2 = int(input(\"Digite outro número inteiro: \"))\n",
        "resultado=calcular_numeros(n1, n2)\n",
        "print(f\"a soma dos dois números inteiro é: {resultado} \")\n"
      ]
    },
    {
      "cell_type": "markdown",
      "metadata": {
        "id": "H6OjjhzLDJ_5"
      },
      "source": [
        "**7- Escreva uma função que receba um número inteiro e imprima o mês correspondente ao número. Por exemplo, 2 corresponde a “fevereiro”. O procedimento deve mostrar uma mensagem de erro caso o número recebido não faça sentido. Gere também um programa que leia um valor e chame a função criada.**"
      ]
    },
    {
      "cell_type": "code",
      "execution_count": null,
      "metadata": {
        "id": "_x5T9OSjDJ_5"
      },
      "outputs": [],
      "source": [
        "def imprimir_mes(numero):\n",
        "    meses = {\n",
        "        1: \"janeiro\",\n",
        "        2: \"fevereiro\",\n",
        "        3: \"março\",\n",
        "        4: \"abril\",\n",
        "        5: \"maio\",\n",
        "        6: \"junho\",\n",
        "        7: \"julho\",\n",
        "        8: \"agosto\",\n",
        "        9: \"setembro\",\n",
        "        10: \"outubro\",\n",
        "        11: \"novembro\",\n",
        "        12: \"dezembro\"\n",
        "    }\n",
        "\n",
        "    if numero in meses:\n",
        "        mes = meses[numero]\n",
        "        print(\"O número\", numero, \"corresponde ao mês de\", mes)\n",
        "    else:\n",
        "        print(\"Erro: Número de mês inválido!\")\n",
        "\n",
        "numero = int(input(\"Digite um número inteiro (1-12): \"))\n",
        "imprimir_mes(numero)"
      ]
    },
    {
      "cell_type": "markdown",
      "metadata": {
        "id": "zBgDgwNhDJ_6"
      },
      "source": [
        "**8- Escreva uma função que receba um número natural e imprima os três primeiros caracteres do dia da semana correspondente ao número. Por exemplo, 7 corresponde a “SAB”. O procedimento deve mostrar uma mensagem de erro caso o número recebido não corresponda a um dia da semana. Gere também um programa que utilize essa função, chamando-a, mas antes lendo um valor para passagem de parâmetro.**"
      ]
    },
    {
      "cell_type": "code",
      "execution_count": null,
      "metadata": {
        "id": "M4llaO4TDJ_6"
      },
      "outputs": [],
      "source": [
        "def imprimir_semana(numero):\n",
        "    semanas = {\n",
        "        1: \"segunda\",\n",
        "        2: \"terça\",\n",
        "        3: \"quarta\",\n",
        "        4: \"quinta\",\n",
        "        5: \"sexta\",\n",
        "        6: \"sabado\",\n",
        "        7: \"domingo\",\n",
        "\n",
        "    }\n",
        "\n",
        "    if numero in semanas:\n",
        "        semana = semanas[numero]\n",
        "        print(\"O número\", numero, \"corresponde ao dia da semana:\",semana)\n",
        "    else:\n",
        "        print(\"Erro: Número da semana inválido!\")\n",
        "\n",
        "numero = int(input(\"Digite um número inteiro (1-7): \"))\n",
        "imprimir_semana(numero)"
      ]
    },
    {
      "cell_type": "markdown",
      "metadata": {
        "id": "bCiFSy4WDJ_6"
      },
      "source": [
        "**9- Escreva uma função que receba dois números inteiros x e y. Essa função deve verificar se x é divisível por y. No caso positivo, a função deve retornar 1, caso contrário zero. Escreva também um programa para testar tal função.**"
      ]
    },
    {
      "cell_type": "code",
      "execution_count": null,
      "metadata": {
        "id": "njCVUDrCDJ_6"
      },
      "outputs": [],
      "source": [
        "def verificar_divisibilidade(x, y):\n",
        "    if x % y == 0:\n",
        "        return 1\n",
        "    else:\n",
        "        return 0\n",
        "\n",
        "# Programa de teste\n",
        "x = int(input(\"Digite o valor de x: \"))\n",
        "y = int(input(\"Digite o valor de y: \"))\n",
        "\n",
        "resultado = verificar_divisibilidade(x, y)\n",
        "\n",
        "if resultado == 1:\n",
        "    print(f\"{x} é divisível por {y}\")\n",
        "else:\n",
        "    print(f\"{x} não é divisível por {y}\")\n"
      ]
    },
    {
      "cell_type": "markdown",
      "metadata": {
        "id": "rGUJW2p6DJ_7"
      },
      "source": [
        "**10- Criar uma função que calcule e retorne o MAIOR entre dois valores recebidos como parâmetros. Um programa para testar tal função deve ser criado.**"
      ]
    },
    {
      "cell_type": "code",
      "execution_count": null,
      "metadata": {
        "id": "IqSEL0-JDJ_7"
      },
      "outputs": [],
      "source": [
        "def encontrar_maior(a, b):\n",
        "    if a > b:\n",
        "        return a\n",
        "    else:\n",
        "        return b\n",
        "\n",
        "# Programa de teste\n",
        "valor1 = float(input(\"Digite o primeiro valor: \"))\n",
        "valor2 = float(input(\"Digite o segundo valor: \"))\n",
        "\n",
        "maior_valor = encontrar_maior(valor1, valor2)\n",
        "print(\"O maior valor é:\", maior_valor)\n"
      ]
    },
    {
      "cell_type": "markdown",
      "metadata": {
        "id": "rLx5mWSqDJ_8"
      },
      "source": [
        "**11- Crie uma função que realize a conversão de Polegadas (pol) para Centímetros (cm), onde pol é passado como parâmetro e cm é retornado. Sabe-se que 1 polegada tem 2.54 centímetros. Crie também um programa para testar tal função.**"
      ]
    },
    {
      "cell_type": "code",
      "execution_count": null,
      "metadata": {
        "id": "yqDzl1NZDJ_8"
      },
      "outputs": [],
      "source": [
        "def converter_polegadas_para_cm(pol):\n",
        "    cm = pol * 2.54\n",
        "    return cm\n",
        "\n",
        "# Programa de teste\n",
        "polegadas = float(input(\"Digite o valor em polegadas: \"))\n",
        "\n",
        "centimetros = converter_polegadas_para_cm(polegadas)\n",
        "print(f\"{polegadas} polegadas equivalem a {centimetros} centímetros.\")\n"
      ]
    }
  ],
  "metadata": {
    "language_info": {
      "name": "python"
    },
    "orig_nbformat": 4,
    "colab": {
      "provenance": [],
      "include_colab_link": true
    }
  },
  "nbformat": 4,
  "nbformat_minor": 0
}