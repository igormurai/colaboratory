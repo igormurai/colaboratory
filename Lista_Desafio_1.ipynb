{
  "nbformat": 4,
  "nbformat_minor": 0,
  "metadata": {
    "colab": {
      "provenance": [],
      "authorship_tag": "ABX9TyPW0xzf9ul0bwp0HxyZiTOL",
      "include_colab_link": true
    },
    "kernelspec": {
      "name": "python3",
      "display_name": "Python 3"
    },
    "language_info": {
      "name": "python"
    }
  },
  "cells": [
    {
      "cell_type": "markdown",
      "metadata": {
        "id": "view-in-github",
        "colab_type": "text"
      },
      "source": [
        "<a href=\"https://colab.research.google.com/github/igormurai/colaboratory/blob/main/Lista_Desafio_1.ipynb\" target=\"_parent\"><img src=\"https://colab.research.google.com/assets/colab-badge.svg\" alt=\"Open In Colab\"/></a>"
      ]
    },
    {
      "cell_type": "markdown",
      "source": [
        "**1. Fazer um algoritmo para ler o valor do lado de um quadrado e mostrar sua área\n",
        "( lado2\n",
        ") e seu perímetro ( 4 x lado ).**"
      ],
      "metadata": {
        "id": "AR8xE8CKlNWk"
      }
    },
    {
      "cell_type": "code",
      "execution_count": null,
      "metadata": {
        "colab": {
          "base_uri": "https://localhost:8080/"
        },
        "id": "ehSgZxVzjK_n",
        "outputId": "9ce90130-4f09-4d85-9e6f-96c231f293e8"
      },
      "outputs": [
        {
          "output_type": "stream",
          "name": "stdout",
          "text": [
            " digite um numero em m: 56\n",
            "area do quadrado:3136.0 m\n",
            "perimetro do quadrado:224.0 m\n"
          ]
        }
      ],
      "source": [
        "lado=float(input(\" digite um numero em m: \"))\n",
        "area=lado**2\n",
        "perimetro=4*lado\n",
        "print(f\"area do quadrado:{area} m\")\n",
        "print(f\"perimetro do quadrado:{perimetro} m\")"
      ]
    },
    {
      "cell_type": "markdown",
      "source": [
        "**2. Elaborar um algoritmo para ler o nome e a quantidade de filhos de uma pessoa.\n",
        "Mostrar a mensagem: “Fulano tem 5 filhos.”**"
      ],
      "metadata": {
        "id": "D1e_RU44na_v"
      }
    },
    {
      "cell_type": "code",
      "source": [
        "nome=str(input(\"digite o seu nome: \"))\n",
        "quantidade_filhos=str(input(\"digite quantos filhos voce tem: \"))\n",
        "print(f\" {nome} tem {quantidade_filhos} filhos\")"
      ],
      "metadata": {
        "colab": {
          "base_uri": "https://localhost:8080/"
        },
        "id": "hUwCLMxTncGM",
        "outputId": "fb34ca1c-18e2-46e3-ad42-a10c1ced9d07"
      },
      "execution_count": null,
      "outputs": [
        {
          "output_type": "stream",
          "name": "stdout",
          "text": [
            "digite o seu nome: felipe\n",
            "digite quantos filhos voce tem: 2\n",
            " felipe tem 2 filhos\n"
          ]
        }
      ]
    },
    {
      "cell_type": "markdown",
      "source": [
        "**3. Fazer um algoritmo para ler os valores da base e altura de um retângulo e mostrar\n",
        "seu perímetro ( 2 x ( base + altura ) ) e sua área ( base x altura ).**"
      ],
      "metadata": {
        "id": "LZgz_XaAqH61"
      }
    },
    {
      "cell_type": "code",
      "source": [
        "base=float(input(\" digite um numero em m da base: \"))\n",
        "altura=float(input(\" digite um numero em m da altura: \"))\n",
        "perimetro=(2*(base+altura))\n",
        "area=(base*altura)\n",
        "print(f\"perimetro do retangulo:{perimetro} m\")\n",
        "print(f\"area do retangulo:{area} m\")"
      ],
      "metadata": {
        "colab": {
          "base_uri": "https://localhost:8080/"
        },
        "id": "mDD0FgaoqKxi",
        "outputId": "dc637d85-cd94-4fce-e609-dfbd28cc94ba"
      },
      "execution_count": null,
      "outputs": [
        {
          "output_type": "stream",
          "name": "stdout",
          "text": [
            " digite um numero em m da base: 30\n",
            " digite um numero em m da altura: 15\n",
            "perimetro do retangulo:90.0 m\n",
            "area do retangulo:450.0 m\n"
          ]
        }
      ]
    },
    {
      "cell_type": "markdown",
      "source": [
        "**4. Fazer um algoritmo para ler o valor do lado de um cubo e\n",
        "mostrar sua área ( 6 x lado2\n",
        ") e seu volume ( lado3\n",
        ").**"
      ],
      "metadata": {
        "id": "QaBkJU39styn"
      }
    },
    {
      "cell_type": "code",
      "source": [
        "lado=float(input(\" digite um numero de lado em m: \"))\n",
        "area=(6*lado**2)\n",
        "volume=(lado**3)\n",
        "print(f\"area do cubo:{area} m\")\n",
        "print(f\"volume do cubo:{volume} m\")"
      ],
      "metadata": {
        "colab": {
          "base_uri": "https://localhost:8080/"
        },
        "id": "GAh9Nz8kswkN",
        "outputId": "80cabe3a-dfa0-4597-89ac-afa2f288a399"
      },
      "execution_count": null,
      "outputs": [
        {
          "output_type": "stream",
          "name": "stdout",
          "text": [
            " digite um numero de lado em m: 60\n",
            "area do cubo:21600.0 m\n",
            "volume do cubo:216000.0 m\n"
          ]
        }
      ]
    },
    {
      "cell_type": "markdown",
      "source": [
        "**5. Elaborar um algoritmo para ler dois números e mostrar o quociente e o resto da\n",
        "divisão inteira do primeiro pelo segundo número.**"
      ],
      "metadata": {
        "id": "jvCOdNKYtsRx"
      }
    },
    {
      "cell_type": "code",
      "source": [
        "numero_1=float(input(\" digite um numero: \"))\n",
        "numero_2=float(input(\" digite um numero: \"))\n",
        "quociente=numero_1/numero_2\n",
        "resto=numero_1%numero_2\n",
        "print(f\"quociente da divisao:{quociente} \")\n",
        "print(f\"resto da divisão:{resto} \")"
      ],
      "metadata": {
        "colab": {
          "base_uri": "https://localhost:8080/"
        },
        "id": "H6xpCDx2tt0X",
        "outputId": "22000694-08c2-4a31-e70d-53668a3c12c2"
      },
      "execution_count": null,
      "outputs": [
        {
          "output_type": "stream",
          "name": "stdout",
          "text": [
            " digite um numero: 6\n",
            " digite um numero: 4\n",
            "quociente da divisao:1.5 \n",
            "resto da divisão:2.0 \n"
          ]
        }
      ]
    },
    {
      "cell_type": "markdown",
      "source": [
        "**6. Criar um algoritmo para ler a base e a altura de um triângulo e\n",
        "mostrar a sua área ( ( base x altura ) / 2 ).**"
      ],
      "metadata": {
        "id": "ZFXAJSCmvurK"
      }
    },
    {
      "cell_type": "code",
      "source": [
        "base=float(input(\" digite a base do triangulo: \"))\n",
        "altura=float(input(\" digite a altura do triangulo: \"))\n",
        "area=((base*altura)/2)\n",
        "print(f\"area do triangulo: {area} m\")"
      ],
      "metadata": {
        "colab": {
          "base_uri": "https://localhost:8080/"
        },
        "id": "PAxUDTXnCwDH",
        "outputId": "e90447b0-399f-4081-a268-30dca37b3c69"
      },
      "execution_count": null,
      "outputs": [
        {
          "output_type": "stream",
          "name": "stdout",
          "text": [
            " digite a base do triangulo: 20\n",
            " digite a altura do triangulo: 40\n",
            "area do triangulo: 400.0 m\n"
          ]
        }
      ]
    },
    {
      "cell_type": "markdown",
      "source": [
        "**7. Construir um algoritmo para ler o raio de uma circunferência e\n",
        "mostrar o perímetro ( 2 x π x raio ) e a área ( π x raio2). Utilize o π\n",
        "como constante.**"
      ],
      "metadata": {
        "id": "cBu3fVDuES6a"
      }
    },
    {
      "cell_type": "code",
      "source": [
        "raio=float(input(\" digite a dimensao do raio de uma circunferencia: \"))\n",
        "perimetro=(2*3.14*raio)\n",
        "area=(3.14*raio**2)\n",
        "print(f\"perimetro da circunferencia: {perimetro} m\")\n",
        "print(f\"area da circunferencia: {area} m\")"
      ],
      "metadata": {
        "colab": {
          "base_uri": "https://localhost:8080/"
        },
        "id": "q7TSGpdtETb8",
        "outputId": "d69bd023-e8a9-4214-f31d-8a4f4218e974"
      },
      "execution_count": null,
      "outputs": [
        {
          "output_type": "stream",
          "name": "stdout",
          "text": [
            " digite a dimensao do raio de uma circunferencia: 4\n",
            "perimetro da circunferencia: 25.12 m\n",
            "area da circunferencia: 50.24 m\n"
          ]
        }
      ]
    }
  ]
}