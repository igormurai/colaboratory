{
  "nbformat": 4,
  "nbformat_minor": 0,
  "metadata": {
    "colab": {
      "provenance": [],
      "authorship_tag": "ABX9TyNcIubWgfMaTgR7WKE5ksEn",
      "include_colab_link": true
    },
    "kernelspec": {
      "name": "python3",
      "display_name": "Python 3"
    },
    "language_info": {
      "name": "python"
    }
  },
  "cells": [
    {
      "cell_type": "markdown",
      "metadata": {
        "id": "view-in-github",
        "colab_type": "text"
      },
      "source": [
        "<a href=\"https://colab.research.google.com/github/igormurai/colaboratory/blob/main/Estrutura_Decis%C3%A3o.ipynb\" target=\"_parent\"><img src=\"https://colab.research.google.com/assets/colab-badge.svg\" alt=\"Open In Colab\"/></a>"
      ]
    },
    {
      "cell_type": "markdown",
      "source": [
        "**1- Atribua valores para as variáveis usadas e determine o resultado da execução dos\n",
        "algoritmos abaixo:**\n",
        "\n",
        "**algoritmo “Intervalo de Numeros”\n",
        "var\n",
        "numero : inteiro\n",
        "inicio\n",
        "escreva (“Digite um numero: ”)\n",
        "leia (numero)\n",
        "se ((numero >= 20) e (numero <= 90)) entao\n",
        "escreva (\"Numero no intervalo [20,90]\")\n",
        "senao\n",
        "escreva (\"Numero fora do intervalo [20,90]\")\n",
        "fim se\n",
        "fim algoritmo\n",
        "algoritmo “Calcula expressão”\n",
        "var\n",
        "a, b, c, d : inteiro\n",
        "inicio\n",
        "escreva (“Entre com 3 numeros: ”)\n",
        "ler (a, b, c)\n",
        "se (nao (c > 5)) entao\n",
        "d <- (a + b) * c\n",
        "senao\n",
        "d <- (a - b) * c\n",
        "fimse\n",
        "escreva (d)\n",
        "fimalgoritmo**"
      ],
      "metadata": {
        "id": "qdVx1tA3ZwHA"
      }
    },
    {
      "cell_type": "code",
      "source": [
        "numero = int(input(\"Digite um numero: \"))\n",
        "\n",
        "if numero >= 20 and numero <= 90:\n",
        "    print(\"Numero no intervalo [20,90]\")\n",
        "else:\n",
        "    print(\"Numero fora do intervalo [20,90]\")\n",
        "\n",
        "a = int(input(\"Entre com o primeiro numero: \"))\n",
        "b = int(input(\"Entre com o segundo numero: \"))\n",
        "c = int(input(\"Entre com o terceiro numero: \"))\n",
        "\n",
        "if c > 5:\n",
        "    d = (a - b) * c\n",
        "else:\n",
        "    d = (a + b) * c\n",
        "\n",
        "print(d)"
      ],
      "metadata": {
        "id": "62oCnoAWZ85v",
        "colab": {
          "base_uri": "https://localhost:8080/"
        },
        "outputId": "078977c5-03f2-4cba-896c-cabf125c3edc"
      },
      "execution_count": null,
      "outputs": [
        {
          "output_type": "stream",
          "name": "stdout",
          "text": [
            "Digite um numero: 5\n",
            "Numero fora do intervalo [20,90]\n",
            "Entre com o primeiro numero: 24\n",
            "Entre com o segundo numero: 34\n",
            "Entre com o terceiro numero: 2\n",
            "116\n"
          ]
        }
      ]
    },
    {
      "cell_type": "markdown",
      "source": [
        "**2- Ler um valor e escrever se é positivo, negativo ou zero.** "
      ],
      "metadata": {
        "id": "StTiEfVVa8jC"
      }
    },
    {
      "cell_type": "code",
      "source": [
        "numero=int(input(\" Digite um número: \"))\n",
        "if numero==0:\n",
        "  print(f\"\\n o número {numero} é igual a 0 \")\n",
        "elif numero<0:\n",
        "  print(f\"\\n o número {numero} é negativo \")\n",
        "else:\n",
        "  print(f\"\\n o número {numero} é positivo \")"
      ],
      "metadata": {
        "colab": {
          "base_uri": "https://localhost:8080/"
        },
        "id": "cCdeKwHja-F7",
        "outputId": "f810aaf5-ed2f-41f5-86bd-2669295f0ce6"
      },
      "execution_count": null,
      "outputs": [
        {
          "output_type": "stream",
          "name": "stdout",
          "text": [
            " Digite um número: -30\n",
            "\n",
            " o número -30 é negativo \n"
          ]
        }
      ]
    },
    {
      "cell_type": "markdown",
      "source": [
        "**3- Ler um valor e escrever a mensagem É MAIOR QUE 10! se o valor lido for maior que 10,\n",
        "caso contrário escrever NÃO É MAIOR QUE 10!**"
      ],
      "metadata": {
        "id": "oIDEr3THcZkl"
      }
    },
    {
      "cell_type": "code",
      "source": [
        "numero=int(input(\" Digite um número: \"))\n",
        "if numero==10:\n",
        "  print(f\"\\n o número {numero} é igual a 10 \")\n",
        "elif numero<10:\n",
        "  print(f\"\\n o número {numero} é menor que 10  \")\n",
        "else:\n",
        "  print(f\"\\n o número {numero} é maior que 10 \")"
      ],
      "metadata": {
        "id": "zeMccShzcabr",
        "colab": {
          "base_uri": "https://localhost:8080/"
        },
        "outputId": "23c32df1-4e12-4066-f5f8-d2d20b3341a2"
      },
      "execution_count": null,
      "outputs": [
        {
          "output_type": "stream",
          "name": "stdout",
          "text": [
            " Digite um número: 30\n",
            "\n",
            " o número 30 é maior que 10 \n"
          ]
        }
      ]
    },
    {
      "cell_type": "markdown",
      "source": [
        "**4- Calcule a soma de dois números, se o resultado for maior que 10, mostre-o na tela.**"
      ],
      "metadata": {
        "id": "bUR86zSaiunO"
      }
    },
    {
      "cell_type": "code",
      "source": [
        "numero=int(input(\" Digite um número: \"))\n",
        "calculo=numero*2\n",
        "if calculo==10:\n",
        "  print(f\"\\n o número {numero} é igual a 10 \")\n",
        "elif calculo<10:\n",
        "  print(f\"\\n o número {numero} é menor que 10  \")\n",
        "else:\n",
        "  print(f\"\\n o número {numero} é maior que 10 \")"
      ],
      "metadata": {
        "colab": {
          "base_uri": "https://localhost:8080/"
        },
        "id": "nJtkq0kiivZq",
        "outputId": "e4adecd4-c839-420b-8092-d1a643da1da8"
      },
      "execution_count": null,
      "outputs": [
        {
          "output_type": "stream",
          "name": "stdout",
          "text": [
            " Digite um número: 2\n",
            "\n",
            " o número 2 é menor que 10  \n"
          ]
        }
      ]
    },
    {
      "cell_type": "markdown",
      "source": [
        "**5- Entrar com um número e informar se ele é divisível por 5.**"
      ],
      "metadata": {
        "id": "p7GtxVtGjv_n"
      }
    },
    {
      "cell_type": "code",
      "source": [
        "numero = int(input(\"Digite um número: \"))\n",
        "\n",
        "if numero % 5 == 0:\n",
        "    print(numero, \"é divisível por 5\")\n",
        "else:\n",
        "    print(numero, \"não é divisível por 5\")"
      ],
      "metadata": {
        "id": "eRbnNdljjwvF"
      },
      "execution_count": null,
      "outputs": []
    },
    {
      "cell_type": "markdown",
      "source": [
        "**6- Construir um algoritmo que indique se o número digitado está entre 20 e 90 ou não.**"
      ],
      "metadata": {
        "id": "h-fL9uFrk2UL"
      }
    },
    {
      "cell_type": "code",
      "source": [
        "numero = int(input(\"Digite um número: \"))\n",
        "\n",
        "if numero >= 20 and numero <= 90:\n",
        "    print(\"O número está entre 20 e 90\")\n",
        "else:\n",
        "    print(\"O número não está entre 20 e 90\")\n",
        "    "
      ],
      "metadata": {
        "id": "pQzGdmcxk1zK"
      },
      "execution_count": null,
      "outputs": []
    },
    {
      "cell_type": "markdown",
      "source": [
        "**7- Ler o ano atual e o ano de nascimento de uma pessoa. Escrever uma mensagem que\n",
        "diga se ela poderá ou não votar este ano (não é necessário considerar o mês em que a\n",
        "pessoa nasceu).**"
      ],
      "metadata": {
        "id": "HDZpDcnZl1iF"
      }
    },
    {
      "cell_type": "code",
      "source": [
        "ano_atual = int(input(\"Digite o ano atual: \"))\n",
        "ano_nascimento = int(input(\"Digite o ano de nascimento: \"))\n",
        "\n",
        "idade = ano_atual - ano_nascimento\n",
        "\n",
        "if idade >= 16:\n",
        "    print(\"Você pode votar este ano!\")\n",
        "else:\n",
        "    print(\"Você não pode votar este ano.\")"
      ],
      "metadata": {
        "id": "INtuK848l2Jk"
      },
      "execution_count": null,
      "outputs": []
    },
    {
      "cell_type": "markdown",
      "source": [
        "**8- Entrar com o ano de nascimento de uma pessoa e imprimir a idade dela. Verificar se o\n",
        "ano digitado é válido.**"
      ],
      "metadata": {
        "id": "P0MajhWwqD4p"
      }
    },
    {
      "cell_type": "code",
      "source": [
        "ano_nascimento= int(input(\"Digite o ano de nascimento: \"))\n",
        "idade=2023-ano_nascimento\n",
        "\n",
        "if idade<130:\n",
        "  print(f\"Você tem {idade} anos de vida\" )\n",
        "else:\n",
        "  print(f\"Ano de nascimento invalido \")"
      ],
      "metadata": {
        "id": "RpLpJJWWqE5o",
        "colab": {
          "base_uri": "https://localhost:8080/"
        },
        "outputId": "aa4f4529-b567-4d83-fee9-7af6371527f7"
      },
      "execution_count": null,
      "outputs": [
        {
          "output_type": "stream",
          "name": "stdout",
          "text": [
            "Digite o ano de nascimento: 1910\n",
            "Você tem 113 anos de vida\n"
          ]
        }
      ]
    },
    {
      "cell_type": "markdown",
      "source": [
        "**9- Entrar com a idade de uma pessoa e exibir a mensagem; Maior de idade, menor de\n",
        "idade ou acima de 65 anos.**"
      ],
      "metadata": {
        "id": "eW8coJIiKRea"
      }
    },
    {
      "cell_type": "code",
      "source": [
        "ano_nascimento= int(input(\"Digite o ano de nascimento: \"))\n",
        "idade=2023-ano_nascimento\n",
        "\n",
        "if idade>=65:\n",
        "  print(\"Você tem mais de 65 anos\")\n",
        "elif idade>18:\n",
        "  print(\"Você é maior de idade\")\n",
        "else:\n",
        "  print(\"Você é menor de idade\")"
      ],
      "metadata": {
        "colab": {
          "base_uri": "https://localhost:8080/"
        },
        "id": "cNA8SP_6KSUi",
        "outputId": "be9bc19d-badd-4c01-f259-1d36a0a3e4a7"
      },
      "execution_count": null,
      "outputs": [
        {
          "output_type": "stream",
          "name": "stdout",
          "text": [
            "Digite o ano de nascimento: 1956\n",
            "Você tem mais de 65 anos\n"
          ]
        }
      ]
    },
    {
      "cell_type": "markdown",
      "source": [
        "**10- Ler as notas da 1a\n",
        ". e 2a\n",
        ". avaliações de um aluno. Calcular a média aritmética simples e\n",
        "escrever uma mensagem que diga se o aluno foi ou não aprovado (considerar que se a\n",
        "nota for igual ou maior que 6 o aluno é aprovado). Escrever também a média\n",
        "calculada.**"
      ],
      "metadata": {
        "id": "PmXaUKu8MWv8"
      }
    },
    {
      "cell_type": "code",
      "source": [
        "nota1=float(input(\"Digite a nota da 1° avaliação: \"))\n",
        "nota2=float(input(\"Digite a nota da 2° avaliação: \"))\n",
        "media= nota1 + nota2 / 2\n",
        "if media>=6:\n",
        "  print(f\"Você tirou {media} de média final, parabéns foi aprovado! \")\n",
        "else:\n",
        "  print(f\"Você tirou {media} de média final, infelizmente não foi aprovado\")"
      ],
      "metadata": {
        "colab": {
          "base_uri": "https://localhost:8080/"
        },
        "id": "FbVjdk1VMYU9",
        "outputId": "adef0abf-4635-4c69-c851-2bf72bb65d89"
      },
      "execution_count": null,
      "outputs": [
        {
          "output_type": "stream",
          "name": "stdout",
          "text": [
            "Digite a nota da 1° avaliação: 4\n",
            "Digite a nota da 2° avaliação: 3\n",
            "Você tirou 5.5 de média final, infelizmente não foi aprovado\n"
          ]
        }
      ]
    },
    {
      "cell_type": "markdown",
      "source": [
        "**11- Escrever um algoritmo para ler duas notas de um aluno e escrever na tela a palavra\n",
        "“Aprovado” se a média das duas notas for maior ou igual a 7,0. Caso a média seja\n",
        "inferior a 7,0, o programa deve ler a nota do exame e calcular a média final. Se esta\n",
        "média for maior ou igual a 5,0, o programa deve escrever “Aprovado”, caso contrário\n",
        "deve escrever “Reprovado”.**"
      ],
      "metadata": {
        "id": "696zhRG-PjGF"
      }
    },
    {
      "cell_type": "code",
      "source": [
        "nota1=float(input(\"Digite a primeira nota: \"))\n",
        "nota2=float(input(\"Digite a segunda nota: \"))\n",
        "\n",
        "media=(nota1+nota2)/2\n",
        "\n",
        "if media>=7.0:\n",
        "  print(f\"Aprovado com média {media}\")\n",
        "else:\n",
        "  nota_exame=float(input(\"Digite a nota do exame\"))\n",
        "\n",
        "media_final=(media+nota_exame*2)/3\n",
        "\n",
        "if media_final>=5.0:\n",
        "  print(f\"Aprovado com média final {media_final} \")\n",
        "else:\n",
        "  print(f\"Reprovado com média final {media_final} \")"
      ],
      "metadata": {
        "colab": {
          "base_uri": "https://localhost:8080/"
        },
        "id": "ReOjuajQPkO_",
        "outputId": "92870299-540d-4af5-946a-693f4b4669d3"
      },
      "execution_count": null,
      "outputs": [
        {
          "output_type": "stream",
          "name": "stdout",
          "text": [
            "Digite a primeira nota: 6\n",
            "Digite a segunda nota: 4\n",
            "Digite a nota do exame8\n",
            "Aprovado com média final 7.0 \n"
          ]
        }
      ]
    },
    {
      "cell_type": "markdown",
      "source": [
        "**12- Escrever um algoritmo para ler a quantidade de horas aula dadas por dois professores\n",
        "e o valor por hora recebido por cada um. Mostrar na tela qual dos professores tem\n",
        "salário total maior.**"
      ],
      "metadata": {
        "id": "R9rw-kkkSZR0"
      }
    },
    {
      "cell_type": "code",
      "source": [
        "horas1=int(input(\"Digite a quantidade de horas total trabalhada do primeiro professor: \"))\n",
        "salario_hora1=float(input(\"Digite quanto recebe por horas trabalhada do primeiro professor: \"))\n",
        "horas2=int(input(\"Digite a quantidade de horas total trabalhada do segundo professor: \"))\n",
        "salario_hora2=float(input(\"Digite quanto recebe por hora trabalhada do segundo professor: \"))\n",
        "salario_total1=horas1*salario_hora1\n",
        "salario_total2=horas2*salario_hora2\n",
        "if salario_total1>salario_total2:\n",
        "  print(f\"Professor 1 recebe R${salario_total1}, por seguinte é fato que ele recebe mais que o Professor 2 com salário de R${salario_total2} \")\n",
        "else:\n",
        "  print(f\"Professor 2 recebe R${salario_total2}, por seguinte é fato que ele recebe mais que o Professor 1 com salário de R${salario_total1} \")"
      ],
      "metadata": {
        "colab": {
          "base_uri": "https://localhost:8080/"
        },
        "id": "0HewExjnSaSr",
        "outputId": "c091d93c-1307-4c87-e7a1-6755bba74ba7"
      },
      "execution_count": null,
      "outputs": [
        {
          "output_type": "stream",
          "name": "stdout",
          "text": [
            "Digite a quantidade de horas total trabalhada do primeiro professor: 90\n",
            "Digite quanto recebe por horas trabalhada do primeiro professor: 120\n",
            "Digite a quantidade de horas total trabalhada do segundo professor: 90\n",
            "Digite quanto recebe por hora trabalhada do segundo professor: 70\n",
            "Professor 1 recebe R$10800.0, por seguinte é fato que ele recebe mais que o Professor 2 com salário de R$6300.0 \n"
          ]
        }
      ]
    },
    {
      "cell_type": "markdown",
      "source": [
        "**13- Faça um algoritmo que leia um número inteiro e mostre uma mensagem indicando se\n",
        "este número é par ou ímpar.**"
      ],
      "metadata": {
        "id": "LDVKJFGQWyaD"
      }
    },
    {
      "cell_type": "code",
      "source": [
        "numero = int(input(\"Digite um número inteiro: \"))\n",
        "\n",
        "if numero % 2 == 0:\n",
        "    print(numero, \"é par.\")\n",
        "else:\n",
        "    print(numero, \"é ímpar.\")"
      ],
      "metadata": {
        "id": "S-2e1D_aW1N0",
        "colab": {
          "base_uri": "https://localhost:8080/"
        },
        "outputId": "830a224c-622e-4c7d-be05-d3cdc49e2038"
      },
      "execution_count": null,
      "outputs": [
        {
          "output_type": "stream",
          "name": "stdout",
          "text": [
            "Digite um número inteiro: 23\n",
            "23 é ímpar.\n"
          ]
        }
      ]
    },
    {
      "cell_type": "markdown",
      "source": [
        "**14- Ler o nome de 2 times e o número de gols marcados na partida. Escrever o nome do\n",
        "vencedor. Caso não haja vencedor deverá ser impressa a palavra EMPATE.**"
      ],
      "metadata": {
        "id": "y7_NbR4_ZDXH"
      }
    },
    {
      "cell_type": "code",
      "source": [
        "Santos=int(input(\"Digite a quantidade de gols que o Santos fez na partida: \"))\n",
        "Palmeiras=int(input(\"Digite a quantidade de gols que o Palmeiras fez na partida: \"))\n",
        "vencedor=Santos-Palmeiras\n",
        "if vencedor==0:\n",
        "  print(f\" O Santos empata com o Palmeiras\")\n",
        "elif vencedor>0:\n",
        "  print(f\" O Santos vence o Palmeiras por {Santos} a {Palmeiras} e rebaixa o Alviverde para 2° divisão\")\n",
        "else:\n",
        "  print(f\" O Palmeiras vence o Santos\")"
      ],
      "metadata": {
        "colab": {
          "base_uri": "https://localhost:8080/"
        },
        "id": "oJxpziOAZEX2",
        "outputId": "a627b323-87ad-46f1-8510-fbb9b6ca4310"
      },
      "execution_count": null,
      "outputs": [
        {
          "output_type": "stream",
          "name": "stdout",
          "text": [
            "Digite a quantidade de gols que o Santos fez na partida: 7\n",
            "Digite a quantidade de gols que o Palmeiras fez na partida: 1\n",
            " O Santos vence o Palmeiras por 7 a 1 e rebaixa o Alviverde para 2° divisão\n"
          ]
        }
      ]
    },
    {
      "cell_type": "markdown",
      "source": [
        "**15- Entrar com a sigla do estado de uma pessoa e imprimir uma das mensagens: “Carioca,\n",
        "Paulista, Mineiro ou Outros”**"
      ],
      "metadata": {
        "id": "0lvH33QGcIOs"
      }
    },
    {
      "cell_type": "code",
      "source": [
        "\n",
        "estado = input(\"Digite a sigla do estado: \")\n",
        "\n",
        "if estado.upper() == \"RJ\":\n",
        "    print(\"Carioca\")\n",
        "elif estado.upper() == \"SP\":\n",
        "    print(\"Paulista\")\n",
        "elif estado.upper() == \"MG\":\n",
        "    print(\"Mineiro\")\n",
        "else:\n",
        "    print(\"Outros\")"
      ],
      "metadata": {
        "colab": {
          "base_uri": "https://localhost:8080/"
        },
        "id": "Kzk9AX-AcJIu",
        "outputId": "fdd18fe5-203e-4348-d1a6-74f4814e349a"
      },
      "execution_count": null,
      "outputs": [
        {
          "output_type": "stream",
          "name": "stdout",
          "text": [
            "Digite a sigla do estado: RJ\n",
            "Carioca\n"
          ]
        }
      ]
    },
    {
      "cell_type": "markdown",
      "source": [
        "**16- Um comerciante comprou um produto e quer vendê-lo com um lucro de 45% se o valor\n",
        "da compra for menor que R$ 20,00; Caso contrário, o lucro será de 30%. Entrar com o\n",
        "valor do produto e imprimir o valor da venda.**"
      ],
      "metadata": {
        "id": "SBJGkstRnj6w"
      }
    },
    {
      "cell_type": "code",
      "source": [
        "valor_compra = float(input(\"Digite o valor de compra do produto: \"))\n",
        "\n",
        "if valor_compra < 20:\n",
        "    lucro = 0.45\n",
        "else:\n",
        "    lucro = 0.3\n",
        "\n",
        "valor_venda = valor_compra * (1 + lucro)\n",
        "\n",
        "print(f\"O valor de venda é R${valor_venda}\")"
      ],
      "metadata": {
        "colab": {
          "base_uri": "https://localhost:8080/"
        },
        "id": "D0jta_vynkuR",
        "outputId": "018b71ae-acb0-4e68-e132-c9f53c9e4325"
      },
      "execution_count": null,
      "outputs": [
        {
          "output_type": "stream",
          "name": "stdout",
          "text": [
            "Digite o valor de compra do produto: 225\n",
            "O valor de venda é R$292.5\n"
          ]
        }
      ]
    },
    {
      "cell_type": "markdown",
      "source": [
        "**17- Entrar com um número de 1 a 12 e exibir o mês correspondente.**"
      ],
      "metadata": {
        "id": "4YwXCpQToP0n"
      }
    },
    {
      "cell_type": "code",
      "source": [
        "numero_mes = int(input(\"Digite um número de 1 a 12: \"))\n",
        "\n",
        "if numero_mes == 1:\n",
        "    print(\"Janeiro\")\n",
        "elif numero_mes == 2:\n",
        "    print(\"Fevereiro\")\n",
        "elif numero_mes == 3:\n",
        "    print(\"Março\")\n",
        "elif numero_mes == 4:\n",
        "    print(\"Abril\")\n",
        "elif numero_mes == 5:\n",
        "    print(\"Maio\")\n",
        "elif numero_mes == 6:\n",
        "    print(\"Junho\")\n",
        "elif numero_mes == 7:\n",
        "    print(\"Julho\")\n",
        "elif numero_mes == 8:\n",
        "    print(\"Agosto\")\n",
        "elif numero_mes == 9:\n",
        "    print(\"Setembro\")\n",
        "elif numero_mes == 10:\n",
        "    print(\"Outubro\")\n",
        "elif numero_mes == 11:\n",
        "    print(\"Novembro\")\n",
        "elif numero_mes == 12:\n",
        "    print(\"Dezembro\")\n",
        "else:\n",
        "    print(\"Número inválido. Digite um número de 1 a 12.\")"
      ],
      "metadata": {
        "colab": {
          "base_uri": "https://localhost:8080/"
        },
        "id": "nF9ZBnJqoRGU",
        "outputId": "1eb9e895-ead2-48c3-e0a8-b8c0f17d3264"
      },
      "execution_count": null,
      "outputs": [
        {
          "output_type": "stream",
          "name": "stdout",
          "text": [
            "Digite um número de 1 a 12: 5\n",
            "Maio\n"
          ]
        }
      ]
    },
    {
      "cell_type": "markdown",
      "source": [
        "**18- Faça um algoritmo que verifique se uma letra digitada é vogal ou consoante.**"
      ],
      "metadata": {
        "id": "1dbv6yfco3VF"
      }
    },
    {
      "cell_type": "code",
      "source": [
        "letra = input(\"Digite uma letra: \")\n",
        "\n",
        "if letra.lower() in ['a', 'e', 'i', 'o', 'u']:\n",
        "    print(\"A letra digitada é uma vogal.\")\n",
        "else:\n",
        "    print(\"A letra digitada é uma consoante.\")"
      ],
      "metadata": {
        "colab": {
          "base_uri": "https://localhost:8080/"
        },
        "id": "0Wk9orbBo4aC",
        "outputId": "511cfa7d-3a5e-4f80-9591-818ae44890b9"
      },
      "execution_count": null,
      "outputs": [
        {
          "output_type": "stream",
          "name": "stdout",
          "text": [
            "Digite uma letra: u\n",
            "A letra digitada é uma vogal.\n"
          ]
        }
      ]
    },
    {
      "cell_type": "markdown",
      "source": [
        "**19- Ler 2 valores (considere que não serão lidos valores iguais) e escrever o maior deles.**"
      ],
      "metadata": {
        "id": "jOChZYMTpQ5e"
      }
    },
    {
      "cell_type": "code",
      "source": [
        "valor1 = float(input(\"Digite o primeiro valor: \"))\n",
        "valor2 = float(input(\"Digite o segundo valor: \"))\n",
        "\n",
        "if valor1 > valor2:\n",
        "    print(\"O maior valor é\", valor1)\n",
        "else:\n",
        "    print(\"O maior valor é\", valor2)"
      ],
      "metadata": {
        "colab": {
          "base_uri": "https://localhost:8080/"
        },
        "id": "l5Ns-CpSpSV5",
        "outputId": "265ba234-0432-440f-e539-b55fca67eedd"
      },
      "execution_count": null,
      "outputs": [
        {
          "output_type": "stream",
          "name": "stdout",
          "text": [
            "Digite o primeiro valor: 67\n",
            "Digite o segundo valor: 90\n",
            "O maior valor é 90.0\n"
          ]
        }
      ]
    },
    {
      "cell_type": "markdown",
      "source": [
        "**20- Ler 2 valores (considere que não serão lidos valores iguais) e escrevê-los em ordem\n",
        "crescente.**"
      ],
      "metadata": {
        "id": "gj1WeBJ6p2PE"
      }
    },
    {
      "cell_type": "code",
      "source": [
        "valor1 = float(input(\"Digite o primeiro valor: \"))\n",
        "valor2 = float(input(\"Digite o segundo valor: \"))\n",
        "\n",
        "if valor1 > valor2:\n",
        "    temp = valor1\n",
        "    valor1 = valor2\n",
        "    valor2 = temp\n",
        "\n",
        "print(\"Os valores em ordem crescente são:\", valor1, valor2)"
      ],
      "metadata": {
        "colab": {
          "base_uri": "https://localhost:8080/"
        },
        "id": "T8k2-olLp3Q9",
        "outputId": "ab1fe874-25d5-428b-8977-1c2f89cee066"
      },
      "execution_count": null,
      "outputs": [
        {
          "output_type": "stream",
          "name": "stdout",
          "text": [
            "Digite o primeiro valor: 89\n",
            "Digite o segundo valor: 45\n",
            "Os valores em ordem crescente são: 45.0 89.0\n"
          ]
        }
      ]
    },
    {
      "cell_type": "markdown",
      "source": [
        "**21- Ler 3 valores (considere que não serão informados valores iguais) e escrever o maior\n",
        "deles.**"
      ],
      "metadata": {
        "id": "1VjkoIwAqUdW"
      }
    },
    {
      "cell_type": "code",
      "source": [
        "valor1 = float(input(\"Digite o primeiro valor: \"))\n",
        "valor2 = float(input(\"Digite o segundo valor: \"))\n",
        "valor3 = float(input(\"Digite o terceiro valor: \"))\n",
        "\n",
        "maior_valor = valor1\n",
        "\n",
        "if valor2 > maior_valor:\n",
        "    maior_valor = valor2\n",
        "\n",
        "if valor3 > maior_valor:\n",
        "    maior_valor = valor3\n",
        "\n",
        "print(\"O maior valor é\", maior_valor)"
      ],
      "metadata": {
        "colab": {
          "base_uri": "https://localhost:8080/"
        },
        "id": "jF_XX8Q8qVTN",
        "outputId": "51d27c95-000c-4f6c-c345-6d1c073a9daa"
      },
      "execution_count": null,
      "outputs": [
        {
          "output_type": "stream",
          "name": "stdout",
          "text": [
            "Digite o primeiro valor: 7\n",
            "Digite o segundo valor: 5\n",
            "Digite o terceiro valor: 9\n",
            "O maior valor é 9.0\n"
          ]
        }
      ]
    },
    {
      "cell_type": "markdown",
      "source": [
        "**22- Ler 3 valores (considere que não serão informados valores iguais) e escrever a soma\n",
        "dos 2 maiores.**"
      ],
      "metadata": {
        "id": "HowFwmNqq4Mh"
      }
    },
    {
      "cell_type": "code",
      "source": [
        "valor1 = float(input(\"Digite o primeiro valor: \"))\n",
        "valor2 = float(input(\"Digite o segundo valor: \"))\n",
        "valor3 = float(input(\"Digite o terceiro valor: \"))\n",
        "\n",
        "if valor1 > valor2:\n",
        "    maior_valor = valor1\n",
        "    segundo_maior = valor2\n",
        "else:\n",
        "    maior_valor = valor2\n",
        "    segundo_maior = valor1\n",
        "\n",
        "if valor3 > maior_valor:\n",
        "    segundo_maior = maior_valor\n",
        "    maior_valor = valor3\n",
        "elif valor3 > segundo_maior:\n",
        "    segundo_maior = valor3\n",
        "\n",
        "soma_maiores = maior_valor + segundo_maior\n",
        "\n",
        "print(\"A soma dos dois maiores valores é\", soma_maiores)"
      ],
      "metadata": {
        "colab": {
          "base_uri": "https://localhost:8080/"
        },
        "id": "GwiO0jdoq5L1",
        "outputId": "0200833d-f948-40c1-9f84-cbf645a7906a"
      },
      "execution_count": null,
      "outputs": [
        {
          "output_type": "stream",
          "name": "stdout",
          "text": [
            "Digite o primeiro valor: 56\n",
            "Digite o segundo valor: 59\n",
            "Digite o terceiro valor: 23\n",
            "A soma dos dois maiores valores é 115.0\n"
          ]
        }
      ]
    },
    {
      "cell_type": "markdown",
      "source": [
        "**23- Ler 3 valores (considere que não serão informados valores iguais) e escrevê-los em\n",
        "ordem crescente.**"
      ],
      "metadata": {
        "id": "UpXjY8QfrQ3m"
      }
    },
    {
      "cell_type": "code",
      "source": [
        "valor1 = float(input(\"Digite o primeiro valor: \"))\n",
        "valor2 = float(input(\"Digite o segundo valor: \"))\n",
        "valor3 = float(input(\"Digite o terceiro valor: \"))\n",
        "\n",
        "# Coloca os valores em uma lista\n",
        "lista_valores = [valor1, valor2, valor3]\n",
        "\n",
        "# Usa o método sort() para ordenar a lista em ordem crescente\n",
        "lista_valores.sort()\n",
        "\n",
        "# Exibe os valores em ordem crescente\n",
        "print(\"Os valores em ordem crescente são:\", lista_valores)"
      ],
      "metadata": {
        "colab": {
          "base_uri": "https://localhost:8080/"
        },
        "id": "SmCcQbhfrR7s",
        "outputId": "416cd287-7c06-469d-c46e-78624d402747"
      },
      "execution_count": null,
      "outputs": [
        {
          "output_type": "stream",
          "name": "stdout",
          "text": [
            "Digite o primeiro valor: 56\n",
            "Digite o segundo valor: 78\n",
            "Digite o terceiro valor: 90\n",
            "Os valores em ordem crescente são: [56.0, 78.0, 90.0]\n"
          ]
        }
      ]
    },
    {
      "cell_type": "markdown",
      "source": [
        "**24- Faça um algoritmo que leia as duas notas parciais obtidas por um aluno numa\n",
        "disciplina ao longo de um semestre, e calcule a sua média. A atribuição de conceitos\n",
        "obedece à tabela abaixo:**\n",
        "\n",
        "**Média de\n",
        "Aproveitamento Conceito**\n",
        "\n",
        "**Entre 9.0 e 10.0 A**\n",
        "\n",
        "**Entre 7.5 e 9.0 B**\n",
        "\n",
        "**Entre 6.0 e 7.5 C**\n",
        "\n",
        "**Entre 4.0 e 6.0 D**\n",
        "\n",
        "**Entre 4.0 e 0 E**\n",
        "\n",
        "**O algoritmo deve mostrar na tela as notas, a média, o conceito correspondente e a\n",
        "mensagem “APROVADO” se o conceito for A, B ou C ou “REPROVADO” se o conceito for D\n",
        "ou E.**"
      ],
      "metadata": {
        "id": "AUfnFk1-rkSX"
      }
    },
    {
      "cell_type": "code",
      "source": [
        "nota1 = float(input(\"Digite a primeira nota: \"))\n",
        "nota2 = float(input(\"Digite a segunda nota: \"))\n",
        "\n",
        "media = (nota1 + nota2) / 2\n",
        "\n",
        "if media >= 9.0:\n",
        "    conceito = \"A\"\n",
        "elif media >= 7.5:\n",
        "    conceito = \"B\"\n",
        "elif media >= 6.0:\n",
        "    conceito = \"C\"\n",
        "elif media >= 4.0:\n",
        "    conceito = \"D\"\n",
        "else:\n",
        "    conceito = \"E\"\n",
        "\n",
        "print(\"Notas: {} e {}\".format(nota1, nota2))\n",
        "print(\"Média: {:.1f}\".format(media))\n",
        "print(\"Conceito: {}\".format(conceito))\n",
        "\n",
        "if conceito in ['A', 'B', 'C']:\n",
        "    print(\"APROVADO\")\n",
        "else:\n",
        "    print(\"REPROVADO\")"
      ],
      "metadata": {
        "colab": {
          "base_uri": "https://localhost:8080/"
        },
        "id": "6BYDIC55rli1",
        "outputId": "9fdf1c71-9a5e-49c0-cc2b-13cd78c3cfcc"
      },
      "execution_count": null,
      "outputs": [
        {
          "output_type": "stream",
          "name": "stdout",
          "text": [
            "Digite a primeira nota: 5.5\n",
            "Digite a segunda nota: 7.7\n",
            "Notas: 5.5 e 7.7\n",
            "Média: 6.6\n",
            "Conceito: C\n",
            "APROVADO\n"
          ]
        }
      ]
    },
    {
      "cell_type": "markdown",
      "source": [
        "**25- Escrever um algoritmo para ler dois valores e uma das seguintes operações a serem\n",
        "executadas (codificadas da seguinte forma: 1 – Adição, 2 – Subtração, 3 – Multiplicação\n",
        "e 4 – Divisão). Calcular e escrever o resultado dessa operação sobre os dois valores\n",
        "lidos.**"
      ],
      "metadata": {
        "id": "w1PxOQsisDHP"
      }
    },
    {
      "cell_type": "code",
      "source": [
        "# leitura dos valores\n",
        "valor1 = float(input(\"Digite o primeiro valor: \"))\n",
        "valor2 = float(input(\"Digite o segundo valor: \"))\n",
        "\n",
        "# leitura da operação\n",
        "operacao = int(input(\"Digite o código da operação desejada: 1 - Adição, 2 - Subtração, 3 - Multiplicação, 4 - Divisão: \"))\n",
        "\n",
        "# realização da operação\n",
        "if operacao == 1:\n",
        "    resultado = valor1 + valor2\n",
        "    print(\"O resultado da adição é:\", resultado)\n",
        "elif operacao == 2:\n",
        "    resultado = valor1 - valor2\n",
        "    print(\"O resultado da subtração é:\", resultado)\n",
        "elif operacao == 3:\n",
        "    resultado = valor1 * valor2\n",
        "    print(\"O resultado da multiplicação é:\", resultado)\n",
        "elif operacao == 4:\n",
        "    resultado = valor1 / valor2\n",
        "    print(\"O resultado da divisão é:\", resultado)\n",
        "else:\n",
        "    print(\"Código de operação inválido.\")"
      ],
      "metadata": {
        "colab": {
          "base_uri": "https://localhost:8080/"
        },
        "id": "99i2kGOgsD_4",
        "outputId": "b006f8b9-1508-435c-fd8b-2bfc114917a6"
      },
      "execution_count": null,
      "outputs": [
        {
          "output_type": "stream",
          "name": "stdout",
          "text": [
            "Digite o primeiro valor: 65\n",
            "Digite o segundo valor: 96\n",
            "Digite o código da operação desejada: 1 - Adição, 2 - Subtração, 3 - Multiplicação, 4 - Divisão: 3\n",
            "O resultado da multiplicação é: 6240.0\n"
          ]
        }
      ]
    },
    {
      "cell_type": "markdown",
      "source": [
        "**26- Faça um algoritmo para calcular as raízes reais de uma equação quadrática: ax2 + bx +\n",
        "c = 0. Uma equação quadrática só tem raiz reais se (b2 - 4ac) for maior ou igual a\n",
        "zero. O algoritmo deverá informar as seguintes situações:**\n",
        "\n",
        "**- Se o delta calculado for negativo, a equação não possui raízes reais. Informe ao\n",
        "usuário e encerre o programa;**\n",
        "\n",
        "**- Se o delta calculado for igual a zero a equação possui apenas uma raiz real,\n",
        "informe-a ao usuário;**\n",
        "\n",
        "**- Se o delta for positivo, a equação possui duas raiz reais, informe-as ao usuário.**"
      ],
      "metadata": {
        "id": "C6QIWmVAs9ww"
      }
    },
    {
      "cell_type": "code",
      "source": [
        "import math\n",
        "\n",
        "a = float(input(\"Digite o valor de a: \"))\n",
        "b = float(input(\"Digite o valor de b: \"))\n",
        "c = float(input(\"Digite o valor de c: \"))\n",
        "\n",
        "delta = b**2 - 4*a*c\n",
        "\n",
        "if delta < 0:\n",
        "    print(\"A equação não possui raízes reais.\")\n",
        "elif delta == 0:\n",
        "    x = (-b + math.sqrt(delta)) / (2*a)\n",
        "    print(\"A equação possui uma raiz real:\", x)\n",
        "else:\n",
        "    x1 = (-b + math.sqrt(delta)) / (2*a)\n",
        "    x2 = (-b - math.sqrt(delta)) / (2*a)\n",
        "    print(\"A equação possui duas raízes reais:\", x1, \"e\", x2)"
      ],
      "metadata": {
        "colab": {
          "base_uri": "https://localhost:8080/"
        },
        "id": "8yNDboLVs-yS",
        "outputId": "c430c3b1-f172-45b5-f703-a387799f8132"
      },
      "execution_count": null,
      "outputs": [
        {
          "output_type": "stream",
          "name": "stdout",
          "text": [
            "Digite o valor de a: 23\n",
            "Digite o valor de b: 42\n",
            "Digite o valor de c: 12\n",
            "A equação possui duas raízes reais: -0.35455510527542916 e -1.47153185124631\n"
          ]
        }
      ]
    },
    {
      "cell_type": "markdown",
      "source": [
        "**27- Faça um algoritmo que leia 3 valores a, b, c, e verifique se podem ser os\n",
        "comprimentos dos lados de um triângulo. Em caso afirmativo, verifique se é “triângulo\n",
        "equilátero”, “triângulo isósceles” ou “triângulo escaleno”. Em caso negativo, escreva\n",
        "uma mensagem: “os valores lidos não formam um triângulo”. Considere que:**\n",
        "\n",
        "**- o comprimento de cada lado de um triângulo é menor que a soma dos\n",
        "comprimentos dos outros lados**\n",
        "\n",
        "**- um triângulo equilátero tem três lados iguais**\n",
        "\n",
        "**- um triângulo isósceles tem dois lados iguais e um diferente**\n",
        "\n",
        "**- um triângulo escaleno tem três lados diferentes.**"
      ],
      "metadata": {
        "id": "oF6XrLR6tT2m"
      }
    },
    {
      "cell_type": "code",
      "source": [
        "a = float(input(\"Digite o valor do primeiro lado: \"))\n",
        "b = float(input(\"Digite o valor do segundo lado: \"))\n",
        "c = float(input(\"Digite o valor do terceiro lado: \"))\n",
        "\n",
        "if a < b + c and b < a + c and c < a + b:\n",
        "    if a == b and b == c:\n",
        "        print(\"O triângulo é equilátero.\")\n",
        "    elif a == b or b == c or a == c:\n",
        "        print(\"O triângulo é isósceles.\")\n",
        "    else:\n",
        "        print(\"O triângulo é escaleno.\")\n",
        "else:\n",
        "    print(\"Os valores lidos não formam um triângulo.\")"
      ],
      "metadata": {
        "colab": {
          "base_uri": "https://localhost:8080/"
        },
        "id": "rt0AgSWmtbTc",
        "outputId": "263adbd5-6ce2-4c2d-8e34-2b92c80adc01"
      },
      "execution_count": null,
      "outputs": [
        {
          "output_type": "stream",
          "name": "stdout",
          "text": [
            "Digite o valor do primeiro lado: 63\n",
            "Digite o valor do segundo lado: 89\n",
            "Digite o valor do terceiro lado: 45\n",
            "O triângulo é escaleno.\n"
          ]
        }
      ]
    },
    {
      "cell_type": "markdown",
      "source": [
        "**28- Escreva um algoritmo que leia 4 valores (opção, a, b, c), onde opção é um valor\n",
        "inteiro e positivo e a, b, c são quaisquer valores reais. Escreva os valores lidos da\n",
        "seguinte maneira:**\n",
        "\n",
        "**se opção = 1 escreva os 3 valores a, b, c em ordem crescente**\n",
        "\n",
        "**se opção = 2 escreva os 3 valores a, b, c em ordem decrescente**\n",
        "\n",
        "**se opção = 3 escreva os 3 valores de forma que o maior valor entre a, b, c fica\n",
        "entre os outros 2.**"
      ],
      "metadata": {
        "id": "gRSlLj4Vt0bG"
      }
    },
    {
      "cell_type": "code",
      "source": [
        "opcao = int(input(\"Digite a opção desejada (1, 2 ou 3): \"))\n",
        "a = float(input(\"Digite o valor de a: \"))\n",
        "b = float(input(\"Digite o valor de b: \"))\n",
        "c = float(input(\"Digite o valor de c: \"))\n",
        "\n",
        "if opcao == 1:\n",
        "    ordem_crescente = sorted([a, b, c])\n",
        "    print(ordem_crescente[0], ordem_crescente[1], ordem_crescente[2])\n",
        "elif opcao == 2:\n",
        "    ordem_decrescente = sorted([a, b, c], reverse=True)\n",
        "    print(ordem_decrescente[0], ordem_decrescente[1], ordem_decrescente[2])\n",
        "elif opcao == 3:\n",
        "    maior_valor = max(a, b, c)\n",
        "    menor_valor = min(a, b, c)\n",
        "    meio_valor = (a + b + c) - maior_valor - menor_valor\n",
        "    print(menor_valor, meio_valor, maior_valor)\n",
        "else:\n",
        "    print(\"Opção inválida.\")"
      ],
      "metadata": {
        "colab": {
          "base_uri": "https://localhost:8080/"
        },
        "id": "l-BmpzX2t1Kj",
        "outputId": "6d5b9d1e-5eb8-486d-ac33-59f53ca8445e"
      },
      "execution_count": null,
      "outputs": [
        {
          "output_type": "stream",
          "name": "stdout",
          "text": [
            "Digite a opção desejada (1, 2 ou 3): 2\n",
            "Digite o valor de a: 32\n",
            "Digite o valor de b: 21\n",
            "Digite o valor de c: 45\n",
            "45.0 32.0 21.0\n"
          ]
        }
      ]
    },
    {
      "cell_type": "markdown",
      "source": [
        "**29- Uma empresa decidiu conceder um aumento de salário a seus funcionários de acordo\n",
        "com a tabela:**\n",
        "\n",
        "**salário  400.00 15%**\n",
        "\n",
        "**400.00 < salário 700.00 12%**\n",
        "\n",
        "**700.00 < salário 1000.00 10%**\n",
        "\n",
        "**1000.00 < salário 1500.00 7%**\n",
        "\n",
        "**1500.00 < salário 2000.00 4%**\n",
        "\n",
        "**salário > 2000.00 sem aumento**\n",
        "\n",
        "**Faça um algoritmo que leia o salário atual de um funcionário e escreva o índice de\n",
        "aumento e o valor do salário corrigido.**"
      ],
      "metadata": {
        "id": "4IhVoPjeuMiY"
      }
    },
    {
      "cell_type": "code",
      "source": [
        "salario = float(input(\"Digite o salário atual do funcionário: \"))\n",
        "\n",
        "if salario <= 400:\n",
        "    indice_aumento = 0.15\n",
        "elif salario <= 700:\n",
        "    indice_aumento = 0.12\n",
        "elif salario <= 1000:\n",
        "    indice_aumento = 0.10\n",
        "elif salario <= 1500:\n",
        "    indice_aumento = 0.07\n",
        "elif salario <= 2000:\n",
        "    indice_aumento = 0.04\n",
        "else:\n",
        "    indice_aumento = 0\n",
        "\n",
        "if indice_aumento == 0:\n",
        "    print(\"O salário do funcionário não terá aumento.\")\n",
        "else:\n",
        "    salario_corrigido = salario + (salario * indice_aumento)\n",
        "    print(f\"O índice de aumento é de {indice_aumento*100:.0f}% e o novo salário é de R${salario_corrigido:.2f}.\")"
      ],
      "metadata": {
        "colab": {
          "base_uri": "https://localhost:8080/"
        },
        "id": "LH07EklZuOXj",
        "outputId": "a5e7a5c4-7bc7-4603-e15f-2251c8373b57"
      },
      "execution_count": null,
      "outputs": [
        {
          "output_type": "stream",
          "name": "stdout",
          "text": [
            "Digite o salário atual do funcionário: 1500\n",
            "O índice de aumento é de 7% e o novo salário é de R$1605.00.\n"
          ]
        }
      ]
    },
    {
      "cell_type": "markdown",
      "source": [
        "**30- Faça um algoritmo para calcular o reajuste salarial de um funcionário, de acordo com\n",
        "os critérios abaixo:\n",
        "• se salário é inferior a 10.000,00 deve ter um reajuste de 55%\n",
        "• se salário está entre 10.000,00 (inclusive) e 25.000,00 (inclusive) deve ter\n",
        "um reajuste de 20%\n",
        "• se salário é superior a 25.000,00 deve ter um reajuste de 20%.**"
      ],
      "metadata": {
        "id": "aCvJAtO8uiat"
      }
    },
    {
      "cell_type": "code",
      "source": [
        "salario = float(input(\"Digite o salário atual do funcionário: \"))\n",
        "\n",
        "if salario < 10000:\n",
        "    reajuste = 0.55\n",
        "elif salario <= 25000:\n",
        "    reajuste = 0.20\n",
        "else:\n",
        "    reajuste = 0.10\n",
        "\n",
        "novo_salario = salario + (salario * reajuste)\n",
        "\n",
        "print(\"O novo salário do funcionário é R$ {:.2f}\".format(novo_salario))"
      ],
      "metadata": {
        "colab": {
          "base_uri": "https://localhost:8080/"
        },
        "id": "AHcyY5AUujmA",
        "outputId": "c058b6d1-92b1-46c1-9431-1da17eb9a37f"
      },
      "execution_count": null,
      "outputs": [
        {
          "output_type": "stream",
          "name": "stdout",
          "text": [
            "Digite o salário atual do funcionário: 1820\n",
            "O novo salário do funcionário é R$ 2821.00\n"
          ]
        }
      ]
    },
    {
      "cell_type": "markdown",
      "source": [
        "**31-Faça um algoritmo para controle de temperatura de um forno que derrete alumínio.**\n",
        "\n",
        "**O programa deverá perguntar qual a temperatura que o alumínio deverá ser trabalhado e\n",
        "operar nas seguintes condições:**\n",
        "\n",
        "**- Se temperatura for inferior ou igual 500°C enviar uma mensagem para tela\n",
        "\"Temperatura Inválida\";**\n",
        "\n",
        "**- Se temperatura for menor do que 700°C enviar uma mensagem para tela\n",
        "\"Aquecimento Ligado em 100%\";**\n",
        "\n",
        "**- Se temperatura for menor do que 735°C enviar uma mensagem para tela\n",
        "\"Aquecimento Ligado em 50%\";**\n",
        "\n",
        "**- Se temperatura for maior ou igual 735°C enviar uma mensagem para tela\n",
        "\"Aquecimento Desligado\";**\n",
        "\n",
        "**Se temperatura for maior do que 780°C enviar uma mensagem para tela\n",
        "\"Superaquecimento\";**\n",
        "\n",
        "**Os valores digitados devem ser inteiros e inferiores a 1000.**"
      ],
      "metadata": {
        "id": "gJyKGBylu0h1"
      }
    },
    {
      "cell_type": "code",
      "source": [
        "temperatura = int(input(\"Digite a temperatura que o alumínio deve ser trabalhado: \"))\n",
        "\n",
        "if temperatura <= 500:\n",
        "    print(\"Temperatura Inválida\")\n",
        "elif temperatura < 700:\n",
        "    print(\"Aquecimento Ligado em 100%\")\n",
        "elif temperatura < 735:\n",
        "    print(\"Aquecimento Ligado em 50%\")\n",
        "elif temperatura >= 735 and temperatura <= 780:\n",
        "    print(\"Aquecimento Desligado\")\n",
        "else:\n",
        "    print(\"Superaquecimento\")\n",
        "  "
      ],
      "metadata": {
        "colab": {
          "base_uri": "https://localhost:8080/"
        },
        "id": "-eaGPr_8u1eU",
        "outputId": "c8bc573a-af19-43fd-ab69-4ae79796bd4a"
      },
      "execution_count": null,
      "outputs": [
        {
          "output_type": "stream",
          "name": "stdout",
          "text": [
            "Digite a temperatura que o alumínio deve ser trabalhado: 96\n",
            "Temperatura Inválida\n"
          ]
        }
      ]
    },
    {
      "cell_type": "markdown",
      "source": [
        "**32- Faça um algoritmo que permita a entrada de um valor de 1 a 4. Em seguida, leia dois\n",
        "valores. Calcular e imprimir:\n",
        "\n",
        "**- Se valor digitado for 0, calcular e exibir a soma dos números**\n",
        "\n",
        "**- Se valor digitado for 1, calcular e exibir a subtração dos números**\n",
        "\n",
        "**- Se valor digitado for 2, calcular e exibir a multiplicação dos números**\n",
        "\n",
        "**- Se valor digitado for 3, calcular e exibir a divisão dos números**\n",
        "\n",
        "**- Se valor digitado for 4, calcular e exibir a média dos números**\n",
        "\n",
        "**- Diferente de 1,2,3 ou 4, exibir a mensagem “Valor errado. Programa encerrado sem cálculos”**"
      ],
      "metadata": {
        "id": "mcakOIq1vE54"
      }
    },
    {
      "cell_type": "code",
      "source": [
        "valor = int(input(\"Digite um valor de 1 a 4: \"))\n",
        "\n",
        "if valor == 0:\n",
        "    numero1 = int(input(\"Digite o primeiro número: \"))\n",
        "    numero2 = int(input(\"Digite o segundo número: \"))\n",
        "    resultado = numero1 + numero2\n",
        "    print(\"A soma dos números é:\", resultado)\n",
        "    \n",
        "elif valor == 1:\n",
        "    numero1 = int(input(\"Digite o primeiro número: \"))\n",
        "    numero2 = int(input(\"Digite o segundo número: \"))\n",
        "    resultado = numero1 - numero2\n",
        "    print(\"A subtração dos números é:\", resultado)\n",
        "    \n",
        "elif valor == 2:\n",
        "    numero1 = int(input(\"Digite o primeiro número: \"))\n",
        "    numero2 = int(input(\"Digite o segundo número: \"))\n",
        "    resultado = numero1 * numero2\n",
        "    print(\"A multiplicação dos números é:\", resultado)\n",
        "    \n",
        "elif valor == 3:\n",
        "    numero1 = int(input(\"Digite o primeiro número: \"))\n",
        "    numero2 = int(input(\"Digite o segundo número: \"))\n",
        "    if numero2 == 0:\n",
        "        print(\"Não é possível dividir por zero\")\n",
        "    else:\n",
        "        resultado = numero1 / numero2\n",
        "        print(\"A divisão dos números é:\", resultado)\n",
        "        \n",
        "elif valor == 4:\n",
        "    numero1 = int(input(\"Digite o primeiro número: \"))\n",
        "    numero2 = int(input(\"Digite o segundo número: \"))\n",
        "    resultado = (numero1 + numero2) / 2\n",
        "    print(\"A média dos números é:\", resultado)\n",
        "    \n",
        "else:\n",
        "    print(\"Valor errado. Programa encerrado sem cálculos\")"
      ],
      "metadata": {
        "colab": {
          "base_uri": "https://localhost:8080/"
        },
        "id": "iDZNSI5xvGAf",
        "outputId": "2d5a7ee2-0350-4983-ce8e-b116f9107125"
      },
      "execution_count": null,
      "outputs": [
        {
          "output_type": "stream",
          "name": "stdout",
          "text": [
            "Digite um valor de 1 a 4: 2\n",
            "Digite o primeiro número: 4\n",
            "Digite o segundo número: 3\n",
            "A multiplicação dos números é: 12\n"
          ]
        }
      ]
    },
    {
      "cell_type": "markdown",
      "source": [
        "**33- Escrever um algoritmo que leia valores inteiros em duas variáveis distintas e se o resto\n",
        "da divisão da primeira pela segunda for 1 mostre a soma dessas variáveis mais o resto\n",
        "da divisão; se for 2 escreva se o primeiro e o segundo valor são pares ou ímpares; se\n",
        "for igual a 3 multiplique a soma dos valores lidos pelo primeiro; se for igual a 4 divida\n",
        "a soma dos números lidos pelo segundo, se este for diferente de zero. Em qualquer\n",
        "outra situação mostre o quadrado dos números lidos.**"
      ],
      "metadata": {
        "id": "6pAHwhgyvYb0"
      }
    },
    {
      "cell_type": "code",
      "source": [
        "num1 = int(input(\"Digite o primeiro número: \"))\n",
        "num2 = int(input(\"Digite o segundo número: \"))\n",
        "\n",
        "resto = num1 % num2\n",
        "\n",
        "if resto == 1:\n",
        "    soma = num1 + num2 + resto\n",
        "    print(\"A soma dos números mais o resto da divisão é:\", soma)\n",
        "elif resto == 2:\n",
        "    if num1 % 2 == 0:\n",
        "        print(\"O primeiro número é par\")\n",
        "    else:\n",
        "        print(\"O primeiro número é ímpar\")\n",
        "    if num2 % 2 == 0:\n",
        "        print(\"O segundo número é par\")\n",
        "    else:\n",
        "        print(\"O segundo número é ímpar\")\n",
        "elif resto == 3:\n",
        "    resultado = (num1 + num2) * num1\n",
        "    print(\"O resultado da multiplicação é:\", resultado)\n",
        "elif resto == 4:\n",
        "    if num2 != 0:\n",
        "        resultado = (num1 + num2) / num2\n",
        "        print(\"O resultado da divisão é:\", resultado)\n",
        "    else:\n",
        "        print(\"Impossível dividir por zero!\")\n",
        "else:\n",
        "    print(\"O quadrado do primeiro número é:\", num1 ** 2)\n",
        "    print(\"O quadrado do segundo número é:\", num2 ** 2)"
      ],
      "metadata": {
        "colab": {
          "base_uri": "https://localhost:8080/"
        },
        "id": "RF5UGo40vaLe",
        "outputId": "145865ce-6a62-4a1f-ad62-8e025ef69586"
      },
      "execution_count": null,
      "outputs": [
        {
          "output_type": "stream",
          "name": "stdout",
          "text": [
            "Digite o primeiro número: 6\n",
            "Digite o segundo número: 7\n",
            "O quadrado do primeiro número é: 36\n",
            "O quadrado do segundo número é: 49\n"
          ]
        }
      ]
    },
    {
      "cell_type": "markdown",
      "source": [
        "**34-Escreva um algoritmo que leia as idades de 2 homens e 2 mulheres (considere que as\n",
        "idades dos homens serão sempre diferentes, bem como as das mulheres). Calcule e\n",
        "escreva a soma das idades do homem mais velho com a mulher mais nova, e o\n",
        "produto das idades do homem mais novo com a mulher mais velha.**"
      ],
      "metadata": {
        "id": "yytjAP3qvwMi"
      }
    },
    {
      "cell_type": "code",
      "source": [
        "# Leitura das idades\n",
        "idade_homem_1 = int(input(\"Digite a idade do primeiro homem: \"))\n",
        "idade_homem_2 = int(input(\"Digite a idade do segundo homem: \"))\n",
        "idade_mulher_1 = int(input(\"Digite a idade da primeira mulher: \"))\n",
        "idade_mulher_2 = int(input(\"Digite a idade da segunda mulher: \"))\n",
        "\n",
        "# Cálculo da soma e do produto\n",
        "homem_mais_velho = max(idade_homem_1, idade_homem_2)\n",
        "mulher_mais_nova = min(idade_mulher_1, idade_mulher_2)\n",
        "soma_idades = homem_mais_velho + mulher_mais_nova\n",
        "homem_mais_novo = min(idade_homem_1, idade_homem_2)\n",
        "mulher_mais_velha = max(idade_mulher_1, idade_mulher_2)\n",
        "produto_idades = homem_mais_novo * mulher_mais_velha\n",
        "\n",
        "# Impressão dos resultados\n",
        "print(\"A soma das idades do homem mais velho com a mulher mais nova é:\", soma_idades)\n",
        "print(\"O produto das idades do homem mais novo com a mulher mais velha é:\", produto_idades)\n"
      ],
      "metadata": {
        "colab": {
          "base_uri": "https://localhost:8080/"
        },
        "id": "_wFQTFY6vxkA",
        "outputId": "1aae3d8a-7599-410e-b32a-5ab3b221113c"
      },
      "execution_count": null,
      "outputs": [
        {
          "output_type": "stream",
          "name": "stdout",
          "text": [
            "Digite a idade do primeiro homem: 36\n",
            "Digite a idade do segundo homem: 42\n",
            "Digite a idade da primeira mulher: 78\n",
            "Digite a idade da segunda mulher: 15\n",
            "A soma das idades do homem mais velho com a mulher mais nova é: 57\n",
            "O produto das idades do homem mais novo com a mulher mais velha é: 2808\n"
          ]
        }
      ]
    },
    {
      "cell_type": "markdown",
      "source": [
        "**35- Existem números de 4 dígitos (entre 1000 e 9999) que obedecem à seguinte\n",
        "característica: se dividirmos o número em dois números de dois dígitos, um composto\n",
        "pela dezena e pela unidade, e outro pelo milhar e pela centena, e, ao somarmos estes\n",
        "dois novos números gerando um terceiro, o quadrado deste terceiro número é\n",
        "exatamente o número original de quatro dígitos. Por exemplo:\n",
        "2025 -> dividindo: 20 e 25 -> somando temos 45 -> 452 = 2025.\n",
        "Escreva um programa para ler um número e verificar se ele obedece a esta\n",
        "característica.**"
      ],
      "metadata": {
        "id": "s0gV2aR3wFji"
      }
    },
    {
      "cell_type": "code",
      "source": [
        "numero = int(input(\"Digite um número de 4 dígitos entre 1000 e 9999: \"))\n",
        "\n",
        "# Verifica se o número tem 4 dígitos\n",
        "if numero < 1000 or numero > 9999:\n",
        "    print(\"Número inválido! O número deve ter 4 dígitos.\")\n",
        "else:\n",
        "    dezena = numero % 100\n",
        "    milhar = numero // 100\n",
        "    terceiro = dezena + milhar\n",
        "    if terceiro ** 2 == numero:\n",
        "        print(\"O número atende à característica!\")\n",
        "    else:\n",
        "        print(\"O número não atende à característica.\")"
      ],
      "metadata": {
        "colab": {
          "base_uri": "https://localhost:8080/"
        },
        "id": "cg3dFyJFwGoB",
        "outputId": "10e9812a-05eb-4d1f-f7d3-bbeffc2848b8"
      },
      "execution_count": null,
      "outputs": [
        {
          "output_type": "stream",
          "name": "stdout",
          "text": [
            "Digite um número de 4 dígitos entre 1000 e 9999: 990\n",
            "Número inválido! O número deve ter 4 dígitos.\n"
          ]
        }
      ]
    }
  ]
}