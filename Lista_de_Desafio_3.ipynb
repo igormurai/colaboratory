{
  "nbformat": 4,
  "nbformat_minor": 0,
  "metadata": {
    "colab": {
      "provenance": [],
      "authorship_tag": "ABX9TyPzDBUhlnD/ZROCvtYKbghF",
      "include_colab_link": true
    },
    "kernelspec": {
      "name": "python3",
      "display_name": "Python 3"
    },
    "language_info": {
      "name": "python"
    }
  },
  "cells": [
    {
      "cell_type": "markdown",
      "metadata": {
        "id": "view-in-github",
        "colab_type": "text"
      },
      "source": [
        "<a href=\"https://colab.research.google.com/github/igormurai/colaboratory/blob/main/Lista_de_Desafio_3.ipynb\" target=\"_parent\"><img src=\"https://colab.research.google.com/assets/colab-badge.svg\" alt=\"Open In Colab\"/></a>"
      ]
    },
    {
      "cell_type": "markdown",
      "source": [
        "**1- Faça um algoritmo que calcule o volume de uma lata de óleo. Escreva o resultado. FÓRMULA: volume = π * raio2 * altura.**  \n"
      ],
      "metadata": {
        "id": "qque1jdgWjZ_"
      }
    },
    {
      "cell_type": "code",
      "execution_count": null,
      "metadata": {
        "colab": {
          "base_uri": "https://localhost:8080/"
        },
        "id": "Skl8jZD9VwjO",
        "outputId": "86e22308-d8ab-4e82-9ce5-48ea72848184"
      },
      "outputs": [
        {
          "output_type": "stream",
          "name": "stdout",
          "text": [
            "Insira o raio da lata de óleo em cm: 6\n",
            "Insira a altura da lata de óleo em cm: 6\n",
            "O volume da lata de óleo é de 678.24 cm³\n"
          ]
        }
      ],
      "source": [
        "PI = 3.14\n",
        "raio = float(input(\"Insira o raio da lata de óleo em cm: \"))\n",
        "altura = float(input(\"Insira a altura da lata de óleo em cm: \"))\n",
        "volume = PI * raio**2 * altura\n",
        "print(f\"O volume da lata de óleo é de {volume} cm³\")"
      ]
    },
    {
      "cell_type": "markdown",
      "source": [
        "**2- Faça um algoritmo que leia as 3 notas de um aluno e calcule e escreva a média final  deste aluno. Considerar que a média é ponderada e que o peso das notas é: 2,3 e 5,  respectivamente.**"
      ],
      "metadata": {
        "id": "J-oguMw4X1Fb"
      }
    },
    {
      "cell_type": "code",
      "source": [
        "nota_1 = float(input(\"Insira a primeira nota: \"))\n",
        "nota_2 = float(input(\"Insira a segunda nota: \"))\n",
        "nota_3 = float(input(\"Insira a terceira nota: \"))\n",
        "peso_1 = 2\n",
        "peso_2 = 3\n",
        "peso_3 = 5\n",
        "media = (nota_1*peso_1 + nota_2*peso_2 + nota_3*peso_3) / (peso_1+peso_2+peso_3)\n",
        "print(f\"A média final do aluno é {media}\")\n"
      ],
      "metadata": {
        "colab": {
          "base_uri": "https://localhost:8080/"
        },
        "id": "d8FG1D0dX14B",
        "outputId": "565c3ce1-8de3-4913-e9d6-fdaaab2471c3"
      },
      "execution_count": null,
      "outputs": [
        {
          "output_type": "stream",
          "name": "stdout",
          "text": [
            "Insira a primeira nota: 6\n",
            "Insira a segunda nota: 6\n",
            "Insira a terceira nota: 7\n",
            "A média final do aluno é 6.5\n"
          ]
        }
      ]
    },
    {
      "cell_type": "markdown",
      "source": [
        "**3- Faça um algoritmo que leia as coordenadas de dois pontos, P1 (x1, y1) e P2 (x2, y2)\n",
        "respectivamente, e calcule e escreva a distância entre eles.**\n",
        "\n",
        "**FÓRMULA:\n",
        "d=RAIZ(X2-X1)^2 + (Y2-Y1)^2** \n"
      ],
      "metadata": {
        "id": "7UC2dvw4YnFy"
      }
    },
    {
      "cell_type": "markdown",
      "source": [],
      "metadata": {
        "id": "eScQYJ7FMtAW"
      }
    },
    {
      "cell_type": "code",
      "source": [
        "import math\n",
        "x1=float(input(\"Insira o número do x1: \"))\n",
        "x2=float(input(\"Insira o número do x2: \"))\n",
        "y1=float(input(\"Insira o número do y1: \"))\n",
        "y2=float(input(\"Insira o número do y2: \"))\n",
        "distancia = math.sqrt((x2 - x1)**2 + (y2 - y1)**2)\n",
        "print(f\"A distância entre os pontos P1({x1}, {y1}) e P2({x2}, {y2}) é {distancia:.2f}.\")"
      ],
      "metadata": {
        "id": "M9C6RHDGYnyd",
        "colab": {
          "base_uri": "https://localhost:8080/"
        },
        "outputId": "cb68022a-d42c-4ad1-e9a5-3a6c32ec29ee"
      },
      "execution_count": null,
      "outputs": [
        {
          "output_type": "stream",
          "name": "stdout",
          "text": [
            "Insira o número do x1: 5\n",
            "Insira o número do x2: 3\n",
            "Insira o número do y1: 7\n",
            "Insira o número do y2: 6\n",
            "A distância entre os pontos P1(5.0, 7.0) e P2(3.0, 6.0) é 2.24.\n"
          ]
        }
      ]
    },
    {
      "cell_type": "markdown",
      "source": [
        "**4- Um sistema de equações lineares da forma:**\n",
        "\n",
        "**{ax + by = c , dx + ey = f**\n",
        "\n",
        "**pode ser resolvido utilizando-se as seguintes fórmulas:**\n",
        "\n",
        "**x = ce - by / ae - bd**\n",
        "\n",
        "**y = af - cd / ae - bd**\n",
        "\n",
        "**Faça um algoritmo que leia os valores a, b, c, d, e, f, e calcule x e y.**\n",
        "\n",
        "\n"
      ],
      "metadata": {
        "id": "UWM-MMT8kJRX"
      }
    },
    {
      "cell_type": "code",
      "source": [
        "import math\n",
        "ax=float(input(\"Insira o número do ay: \"))\n",
        "dx=float(input(\"Insira o número do dy: \"))\n",
        "by=float(input(\"Insira o número do by: \"))\n",
        "ey=float(input(\"Insira o número do ey: \"))\n",
        "c=ax+by\n",
        "f=dx+ey\n",
        "x=c*ey-by*f/ax*ey-by*dx\n",
        "y=ax*f-c*dx/ax*ey-by*dx\n",
        "print(f\"letra ax= {ax}, letra dx= {dx}, letra by= {by}, letra ey= {ey}, letra c= {c}, letra f= {f}, letra x= {x:.2f} e letra y= {y:.2f} \")\n"
      ],
      "metadata": {
        "colab": {
          "base_uri": "https://localhost:8080/"
        },
        "id": "B60sAhIvkJ8Q",
        "outputId": "6e985815-6545-490b-9591-c97cb55c698e"
      },
      "execution_count": null,
      "outputs": [
        {
          "output_type": "stream",
          "name": "stdout",
          "text": [
            "Insira o número do ay: 3\n",
            "Insira o número do dy: 7\n",
            "Insira o número do by: 5\n",
            "Insira o número do ey: 7\n",
            "letra ax= 3.0, letra dx= 7.0, letra by= 5.0, letra ey= 7.0, letra c= 8.0, letra f= 14.0, letra x= -142.33 e letra y= -123.67 \n"
          ]
        }
      ]
    },
    {
      "cell_type": "markdown",
      "source": [
        "**5- Faça um algoritmo que leia a idade de uma pessoa expressa em dias e mostre-a\n",
        "expressa em anos, meses e dias.**"
      ],
      "metadata": {
        "id": "bwCdzDNxnsls"
      }
    },
    {
      "cell_type": "code",
      "source": [
        "# lendo a idade em dias\n",
        "idade_em_dias = int(input(\"Digite a idade em dias: \"))\n",
        "\n",
        "# convertendo para anos, meses e dias\n",
        "anos = idade_em_dias // 365\n",
        "meses = (idade_em_dias % 365) // 30\n",
        "dias = (idade_em_dias % 365) % 30\n",
        "\n",
        "# imprimindo o resultado\n",
        "print(f\"A idade é de {anos} anos, {meses} meses e {dias} dias.\")\n",
        "\n"
      ],
      "metadata": {
        "colab": {
          "base_uri": "https://localhost:8080/"
        },
        "id": "gjN5JUYkntJ7",
        "outputId": "de5a3cbc-ab04-4b0e-9497-b5f61bd1dfaa"
      },
      "execution_count": null,
      "outputs": [
        {
          "output_type": "stream",
          "name": "stdout",
          "text": [
            "Digite a idade em dias: 7613\n",
            "A idade é de 20 anos, 10 meses e 13 dias.\n"
          ]
        }
      ]
    },
    {
      "cell_type": "markdown",
      "source": [
        "**6- Faça um algoritmo que leia o tempo de duração de um evento em uma fábrica\n",
        "expressa em segundos e mostre-o expresso em horas, minutos e segundos.**"
      ],
      "metadata": {
        "id": "CI_cuJBhpJ1x"
      }
    },
    {
      "cell_type": "code",
      "source": [
        "# lendo a duração do evento em segundos\n",
        "duração_segundos=float(input(\"Digite a duração em segundos: \"))\n",
        "\n",
        "#convertendo para horas,minutos e segundos\n",
        "horas=duração_segundos//3600\n",
        "minutos=(duração_segundos % 3600 )//60\n",
        "segundos=(duração_segundos % 3600)% 60\n",
        "\n",
        "# imprimindo o resultado\n",
        "print(f\"O evento durou {horas} horas, {minutos} minutos e {segundos} segundos.\")"
      ],
      "metadata": {
        "colab": {
          "base_uri": "https://localhost:8080/"
        },
        "id": "lfwLFDWSpy7j",
        "outputId": "d5bfb645-1686-4552-d992-1d756e6745aa"
      },
      "execution_count": null,
      "outputs": [
        {
          "output_type": "stream",
          "name": "stdout",
          "text": [
            "Digite a duração em segundos: 10000\n",
            "O evento durou 2.0 horas, 46.0 minutos e 40.0 segundos.\n"
          ]
        }
      ]
    },
    {
      "cell_type": "markdown",
      "source": [
        "**7- O governador acaba de liberar R$ 1.000.000.000,00 para construção de casas\n",
        "populares. Cada casa custa o equivalente a 90 salários mínimos. Faça um algoritmo\n",
        "que leia o valor do salário mínimo e calcule a quantidade de casas que podem ser\n",
        "construídas com o recurso liberado.**"
      ],
      "metadata": {
        "id": "8awsViMoquef"
      }
    },
    {
      "cell_type": "code",
      "source": [
        "# lendo o valor do salário mínimo\n",
        "valor_salario_minimo = float(input(\"Digite o valor do salário mínimo: \"))\n",
        "\n",
        "# calculando o custo de uma casa\n",
        "custo_casa = 90 * valor_salario_minimo\n",
        "\n",
        "# calculando a quantidade de casas que podem ser construídas\n",
        "quantidade_casas = int(1000000000 // custo_casa)\n",
        "\n",
        "# imprimindo o resultado\n",
        "print(f\"Com R$ 1.000.000.000,00 é possível construir {quantidade_casas} casas populares.\")\n"
      ],
      "metadata": {
        "colab": {
          "base_uri": "https://localhost:8080/"
        },
        "id": "ULfV-Lsbq-Qr",
        "outputId": "498b0000-2b7a-4433-b6bc-bb9e726bd95a"
      },
      "execution_count": null,
      "outputs": [
        {
          "output_type": "stream",
          "name": "stdout",
          "text": [
            "Digite o valor do salário mínimo: 1302\n",
            "Com R$ 1.000.000.000,00 é possível construir 8533 casas populares.\n"
          ]
        }
      ]
    },
    {
      "cell_type": "markdown",
      "source": [
        "**8- Faça um algoritmo que leia as medidas dos 4 lados de um terreno, o preço de um\n",
        "mourão e o preço de um metro de arame farpado. Deve ser escrito:\n",
        "• o número de mourões necessários para cercar o terreno, colocando um mourão a\n",
        "cada 3 metros;\n",
        "• o gasto total, o gasto em mourões e o gasto em arame, supondo que a cerca seja\n",
        "feita com 4 fios de arame.** "
      ],
      "metadata": {
        "id": "yl0lzWi7rObT"
      }
    },
    {
      "cell_type": "code",
      "source": [
        "# lendo as medidas dos 4 lados do terreno\n",
        "lado1 = float(input(\"Digite a medida do primeiro lado: \"))\n",
        "lado2 = float(input(\"Digite a medida do segundo lado: \"))\n",
        "lado3 = float(input(\"Digite a medida do terceiro lado: \"))\n",
        "lado4 = float(input(\"Digite a medida do quarto lado: \"))\n",
        "\n",
        "# lendo o preço do mourão e do arame farpado\n",
        "preco_mourao = float(input(\"Digite o preço de um mourão: \"))\n",
        "preco_arame = float(input(\"Digite o preço de um metro de arame farpado: \"))\n",
        "\n",
        "# calculando o número de mourões necessários para cercar o terreno\n",
        "perimetro = lado1 + lado2 + lado3 + lado4\n",
        "numero_mourao = int(perimetro / 3)\n",
        "\n",
        "# calculando o gasto total, o gasto em mourões e o gasto em arame\n",
        "comprimento = perimetro * 4\n",
        "gasto_mourao = numero_mourao * preco_mourao\n",
        "gasto_arame = comprimento * preco_arame\n",
        "gasto_total = gasto_mourao + gasto_arame\n",
        "\n",
        "# imprimindo o resultado\n",
        "print(f\"O número de mourões necessários é de {numero_mourao}.\")\n",
        "print(f\"O gasto em mourões é de R$ {gasto_mourao:.2f}.\")\n",
        "print(f\"O gasto em arame é de R$ {gasto_arame:.2f}.\")\n",
        "print(f\"O gasto total é de R$ {gasto_total:.2f}.\")\n"
      ],
      "metadata": {
        "colab": {
          "base_uri": "https://localhost:8080/"
        },
        "id": "CVyNt6tyrPoI",
        "outputId": "1e007b51-8bd4-4709-cf40-42ac1cc53d04"
      },
      "execution_count": null,
      "outputs": [
        {
          "output_type": "stream",
          "name": "stdout",
          "text": [
            "Digite a medida do primeiro lado: 50\n",
            "Digite a medida do segundo lado: 30\n",
            "Digite a medida do terceiro lado: 50\n",
            "Digite a medida do quarto lado: 30\n",
            "Digite o preço de um mourão: 80\n",
            "Digite o preço de um metro de arame farpado: 50\n",
            "O número de mourões necessários é de 53.\n",
            "O gasto em mourões é de R$ 4240.00.\n",
            "O gasto em arame é de R$ 32000.00.\n",
            "O gasto total é de R$ 36240.00.\n"
          ]
        }
      ]
    }
  ]
}