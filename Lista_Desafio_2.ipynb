{
  "nbformat": 4,
  "nbformat_minor": 0,
  "metadata": {
    "colab": {
      "provenance": [],
      "authorship_tag": "ABX9TyPU5tm1z6Ao2FH4nAfm4wYv",
      "include_colab_link": true
    },
    "kernelspec": {
      "name": "python3",
      "display_name": "Python 3"
    },
    "language_info": {
      "name": "python"
    }
  },
  "cells": [
    {
      "cell_type": "markdown",
      "metadata": {
        "id": "view-in-github",
        "colab_type": "text"
      },
      "source": [
        "<a href=\"https://colab.research.google.com/github/igormurai/colaboratory/blob/main/Lista_Desafio_2.ipynb\" target=\"_parent\"><img src=\"https://colab.research.google.com/assets/colab-badge.svg\" alt=\"Open In Colab\"/></a>"
      ]
    },
    {
      "cell_type": "markdown",
      "source": [
        "**1- Faça um Programa que mostre a mensagem \"Alo mundo\" na tela.**  \n"
      ],
      "metadata": {
        "id": "p7CwItIXIx__"
      }
    },
    {
      "cell_type": "code",
      "source": [
        "palavra = input(\"digite a palavra: \")\n",
        "print(f\" alo {palavra} \")"
      ],
      "metadata": {
        "colab": {
          "base_uri": "https://localhost:8080/"
        },
        "id": "eWeo5vYLIzLp",
        "outputId": "57a4d754-b25e-4f90-9c05-bb98c55693ae"
      },
      "execution_count": null,
      "outputs": [
        {
          "output_type": "stream",
          "name": "stdout",
          "text": [
            "digite a palavra: mundo\n",
            " alo mundo \n"
          ]
        }
      ]
    },
    {
      "cell_type": "markdown",
      "source": [
        "**2- Faça um Programa que peça um número e então mostre a mensagem O número informado foi [número].**"
      ],
      "metadata": {
        "id": "N4lMU92_I_fP"
      }
    },
    {
      "cell_type": "code",
      "source": [
        "numero= input(\"digite um numero: \")\n",
        "print(f\" o numero informado foi: {numero} \")\n"
      ],
      "metadata": {
        "colab": {
          "base_uri": "https://localhost:8080/"
        },
        "id": "qqKeGPmjI__L",
        "outputId": "bfe64a27-344f-4adf-8300-71bf3214ff97"
      },
      "execution_count": null,
      "outputs": [
        {
          "output_type": "stream",
          "name": "stdout",
          "text": [
            "digite um numero: 6\n",
            " o numero informado foi: 6 \n"
          ]
        }
      ]
    },
    {
      "cell_type": "markdown",
      "source": [
        "**3- Faça um Programa que peça dois números e imprima a soma.**."
      ],
      "metadata": {
        "id": "f-3lKx8eJFRS"
      }
    },
    {
      "cell_type": "code",
      "source": [
        "numero_1=int(input(\"digite um numero: \"))\n",
        "numero_2=int(input(\"digite um numero: \"))\n",
        "soma=numero_1+numero_2\n",
        "print(f\"a soma dos numeros é: {soma} \")"
      ],
      "metadata": {
        "colab": {
          "base_uri": "https://localhost:8080/"
        },
        "id": "Vlg6FwmfJF7v",
        "outputId": "7f4a9789-41a9-46b2-c37c-b06c43f01c5a"
      },
      "execution_count": null,
      "outputs": [
        {
          "output_type": "stream",
          "name": "stdout",
          "text": [
            "digite um numero: 6\n",
            "digite um numero: 9\n",
            "a soma dos numeros é: 15 \n"
          ]
        }
      ]
    },
    {
      "cell_type": "markdown",
      "source": [
        "**4- Faça um Programa que peça as 4 notas bimestrais e mostre a média.**"
      ],
      "metadata": {
        "id": "9tdL59CeJMKk"
      }
    },
    {
      "cell_type": "code",
      "source": [
        "b1=float(input(\"digite a nota do primeiro bimestre: \"))\n",
        "b2=float(input(\"digite a nota do segundo bimestre: \"))\n",
        "b3=float(input(\"digite a nota do terceiro bimestre: \"))\n",
        "b4=float(input(\"digite a nota do quarto bimestre: \"))\n",
        "media=(b1+b2+b3+b4)/4\n",
        "print(f\" a média dos 4 bimestres são: {media} \")"
      ],
      "metadata": {
        "colab": {
          "base_uri": "https://localhost:8080/"
        },
        "id": "PHM-lwapJNPT",
        "outputId": "3b991857-a34b-427b-a0ff-5eba94f28e40"
      },
      "execution_count": null,
      "outputs": [
        {
          "output_type": "stream",
          "name": "stdout",
          "text": [
            "digite a nota do primeiro bimestre: 6.5\n",
            "digite a nota do segundo bimestre: 7.9\n",
            "digite a nota do terceiro bimestre: 8.9\n",
            "digite a nota do quarto bimestre: 7.2\n",
            " a média dos 4 bimestres são: 7.625 \n"
          ]
        }
      ]
    },
    {
      "cell_type": "markdown",
      "source": [
        "**5- Faça um Programa que converta metros para centímetros.**"
      ],
      "metadata": {
        "id": "9biXhGGNLEbA"
      }
    },
    {
      "cell_type": "code",
      "source": [
        "metros=float(input(\"digite um numero em metros: \"))\n",
        "centimetro=metros*100\n",
        "print(f\" o metro convertido em centimetro é: {centimetro} cm\")\n"
      ],
      "metadata": {
        "colab": {
          "base_uri": "https://localhost:8080/"
        },
        "id": "q2Gnm_6KLFWY",
        "outputId": "28dab0cf-076b-49c5-dfa0-6573d1bb419b"
      },
      "execution_count": null,
      "outputs": [
        {
          "output_type": "stream",
          "name": "stdout",
          "text": [
            "digite um numero em metros: 6\n",
            " o metro convertido em centimetro é: 600.0 cm\n"
          ]
        }
      ]
    },
    {
      "cell_type": "markdown",
      "source": [
        "**6- Faça um Programa que peça o raio de um círculo, calcule e mostre sua área.**"
      ],
      "metadata": {
        "id": "WJM1HV8ZMA02"
      }
    },
    {
      "cell_type": "code",
      "source": [
        "raio=float(input(\"digite o tamanho do raio do circulo: \"))\n",
        "area=(3.14*raio**2)\n",
        "print(f\" o tamanho da area do circulo será de: {area} m\")"
      ],
      "metadata": {
        "colab": {
          "base_uri": "https://localhost:8080/"
        },
        "id": "0LGBOD4gMB9N",
        "outputId": "5d1de4eb-740a-40e7-d5e7-be74609cc0a3"
      },
      "execution_count": null,
      "outputs": [
        {
          "output_type": "stream",
          "name": "stdout",
          "text": [
            "digite o tamanho do raio do circulo: 6\n",
            " o tamanho da area do circulo será de: 113.04 m\n"
          ]
        }
      ]
    },
    {
      "cell_type": "markdown",
      "source": [
        "**7- Faça um Programa que calcule a área de um quadrado, em seguida mostre o dobro desta área para o usuário.**"
      ],
      "metadata": {
        "id": "sO2hbeMfNiwJ"
      }
    },
    {
      "cell_type": "code",
      "source": [
        "area=float(input(\"digite o tamanho da area de um quadrado em m: \"))\n",
        "dobro=area*2\n",
        "print(f\" o dobro da area do quadrado será de:{dobro} m\")\n"
      ],
      "metadata": {
        "colab": {
          "base_uri": "https://localhost:8080/"
        },
        "id": "HLzEnUVxNjXx",
        "outputId": "cfdd3d00-a6c0-466c-8e5b-30e4f235391f"
      },
      "execution_count": null,
      "outputs": [
        {
          "output_type": "stream",
          "name": "stdout",
          "text": [
            "digite o tamanho da area de um quadrado em m: 500\n",
            " o dobro da area do quadrado será de:1000.0 m\n"
          ]
        }
      ]
    },
    {
      "cell_type": "markdown",
      "source": [
        "**8- Faça um Programa que pergunte quanto você ganha por hora e o número de horas trabalhadas no mês.\n",
        "Calcule e mostre o total do seu salário no referido mês.**"
      ],
      "metadata": {
        "id": "jBuOb0aROACu"
      }
    },
    {
      "cell_type": "code",
      "source": [
        "salario_horas=float(input(\"digite quantos voce recebe por horas trabalhada: \"))\n",
        "numeros_horas=float(input(\"digite quantas horas voce trabalha por mes: \"))\n",
        "salario_mensal=salario_horas*numeros_horas\n",
        "print(f\" o seu salario mensal é de:R${salario_mensal} \")"
      ],
      "metadata": {
        "colab": {
          "base_uri": "https://localhost:8080/"
        },
        "id": "Y4hGJ82zOBBy",
        "outputId": "94349b89-6b49-4758-9a1e-da23d947170f"
      },
      "execution_count": null,
      "outputs": [
        {
          "output_type": "stream",
          "name": "stdout",
          "text": [
            "digite quantos voce recebe por horas trabalhada: 50\n",
            "digite quantas horas voce trabalha por mes: 140\n",
            " o seu salario mensal é de:R$7000.0 \n"
          ]
        }
      ]
    },
    {
      "cell_type": "markdown",
      "source": [
        "**9- Faça um Programa que peça a temperatura em graus Farenheit, transforme e mostre a temperatura em graus\n",
        "Celsius.\n",
        "C = (5 * (F-32) / 9).**"
      ],
      "metadata": {
        "id": "bgAT1G0hPG80"
      }
    },
    {
      "cell_type": "code",
      "source": [
        "fahrenheit=float(input(\"digite a temperatura em fahrenheit: \"))\n",
        "celsius=(5*(fahrenheit-32)/9)\n",
        "print(f\"fahrenheit convertido em celsius será: {celsius} C°\")\n"
      ],
      "metadata": {
        "colab": {
          "base_uri": "https://localhost:8080/"
        },
        "id": "yUI-u809PH1z",
        "outputId": "e9e19fce-f94b-4ed2-dc1a-cc3230711041"
      },
      "execution_count": null,
      "outputs": [
        {
          "output_type": "stream",
          "name": "stdout",
          "text": [
            "digite a temperatura em fahrenheit: 75\n",
            "fahrenheit convertido em celsius será: 23.88888888888889 C°\n"
          ]
        }
      ]
    },
    {
      "cell_type": "markdown",
      "source": [
        "**10- Faça um Programa que peça a temperatura em graus Celsius, transforme e mostre em graus Farenheit.**"
      ],
      "metadata": {
        "id": "57VLGj_UQDpu"
      }
    },
    {
      "cell_type": "code",
      "source": [
        "celsius=float(input(\"digite a temperatura em celsius: \"))\n",
        "fahrenheit=(celsius*9/5)+32\n",
        "print(f\"celsius convertido para fahrenheit será: {fahrenheit} F°\")"
      ],
      "metadata": {
        "colab": {
          "base_uri": "https://localhost:8080/"
        },
        "id": "DNLqWoSdQEzR",
        "outputId": "6d3ba37f-2c32-4e3c-c34e-e714d3a6f90c"
      },
      "execution_count": null,
      "outputs": [
        {
          "output_type": "stream",
          "name": "stdout",
          "text": [
            "digite a temperatura em celsius: 28\n",
            "celsius convertido para fahrenheit será: 82.4 F°\n"
          ]
        }
      ]
    },
    {
      "cell_type": "markdown",
      "source": [
        "**11- Faça um Programa que peça 2 números inteiros e um número real. Calcule e mostre:**\n",
        "\n",
        "**A-) o produto do dobro do primeiro com metade do segundo.**"
      ],
      "metadata": {
        "id": "1vJAs91PRWJq"
      }
    },
    {
      "cell_type": "code",
      "source": [
        "n1_int=int(input(\"digite um numero inteiro: \"))\n",
        "n2_int=int(input(\"digite um numero inteiro: \"))\n",
        "multiplicacao=(n1_int*2)*(n2_int/2)\n",
        "print(f\"o dobro do primeiro com metade do segundo será: {multiplicacao} \")\n"
      ],
      "metadata": {
        "colab": {
          "base_uri": "https://localhost:8080/"
        },
        "id": "b52HYUklRXDn",
        "outputId": "fa57f474-f1a5-4064-9720-f4bd0290d1d1"
      },
      "execution_count": null,
      "outputs": [
        {
          "output_type": "stream",
          "name": "stdout",
          "text": [
            "digite um numero inteiro: 6\n",
            "digite um numero inteiro: 10\n",
            "o dobro do primeiro com metade do segundo será: 60.0 \n"
          ]
        }
      ]
    },
    {
      "cell_type": "markdown",
      "source": [
        "**B-) a soma do triplo do primeiro com o terceiro.**"
      ],
      "metadata": {
        "id": "zobpn7GJTx1F"
      }
    },
    {
      "cell_type": "code",
      "source": [
        "n1_int=int(input(\"digite um numero inteiro: \"))\n",
        "n_real=float(input(\"digite um numero real: \"))\n",
        "soma=(n1_int*3)+n_real\n",
        "print(f\" a soma do triplo do primeiro com o terceiro: {soma} \")"
      ],
      "metadata": {
        "colab": {
          "base_uri": "https://localhost:8080/"
        },
        "id": "vkVFKdPUT0uj",
        "outputId": "5602a365-f9ad-4a56-a79f-6529e764f214"
      },
      "execution_count": null,
      "outputs": [
        {
          "output_type": "stream",
          "name": "stdout",
          "text": [
            "digite um numero inteiro: 6\n",
            "digite um numero real: 3.5\n",
            " a soma do triplo do primeiro com o terceiro: 21.5 \n"
          ]
        }
      ]
    },
    {
      "cell_type": "markdown",
      "source": [
        "**C-) o terceiro elevado ao cubo.**"
      ],
      "metadata": {
        "id": "SuEOv7KTU8_3"
      }
    },
    {
      "cell_type": "code",
      "source": [
        "n_real=float(input(\"digite um numero real: \"))\n",
        "elevado=n_real**3\n",
        "print(f\" o terceiro elevado ao cubo: {elevado} \")"
      ],
      "metadata": {
        "colab": {
          "base_uri": "https://localhost:8080/"
        },
        "id": "2cYKNtTHU_iv",
        "outputId": "29be6689-2966-4e42-9109-73349ff76b48"
      },
      "execution_count": null,
      "outputs": [
        {
          "output_type": "stream",
          "name": "stdout",
          "text": [
            "digite um numero real: 3.5\n",
            " o terceiro elevado ao cubo: 42.875 \n"
          ]
        }
      ]
    },
    {
      "cell_type": "markdown",
      "source": [
        "**12- Tendo como dados de entrada a altura de uma pessoa, construa um algoritmo que calcule seu peso ideal,\n",
        "usando a seguinte fórmula: (72.7*altura) - 58**"
      ],
      "metadata": {
        "id": "gVlMVamCVXky"
      }
    },
    {
      "cell_type": "code",
      "source": [
        "altura=float(input(\"digite a sua altura: \"))\n",
        "peso=(72.7*altura)-58\n",
        "print(f\"seu peso ideal é: {peso} kg\")\n"
      ],
      "metadata": {
        "id": "iCTXc-baVY9y",
        "colab": {
          "base_uri": "https://localhost:8080/"
        },
        "outputId": "08b58e05-0f1e-4d4e-936d-838e738bfb36"
      },
      "execution_count": null,
      "outputs": [
        {
          "output_type": "stream",
          "name": "stdout",
          "text": [
            "digite a sua altura: 1.62\n",
            "seu peso ideal é: 59.774000000000015 kg\n"
          ]
        }
      ]
    },
    {
      "cell_type": "markdown",
      "source": [
        "**13- Tendo como dados de entrada a altura e o sexo de uma pessoa, construa um algoritmo que calcule seu peso\n",
        "ideal, utilizando as seguintes fórmulas:**\n",
        "\n",
        "**a. Para homens: (72.7*h) - 58**\n",
        "\n",
        "**b. Para mulheres: (62.1*h) - 44.7 (h = altura)**\n",
        "\n",
        "**c. Peça o peso da pessoa e informe se ela está dentro, acima ou abaixo do peso.**"
      ],
      "metadata": {
        "id": "bcY5arKMZhMi"
      }
    },
    {
      "cell_type": "code",
      "source": [
        "altura=float(input(\"Digite a altura: \"))\n",
        "sexo=input(\"digite o sexo(M ou F): \")\n",
        "peso=float(input(\"digite o peso atual:\"))\n",
        "if sexo==\"M\":\n",
        "  peso_ideal=(72.7*altura)-58\n",
        "elif sexo==\"F\":\n",
        "  peso_ideal=(62.1*altura)-44.7\n",
        "else:\n",
        "  print(\"Sexo inválido. Digite M para Masculino ou F para Feminino.\")\n",
        "  exit()\n",
        "if peso < peso_ideal:\n",
        "  prprint(\"O tempo aproximado de download é de {:.2f} minutos.\".format(tempo_download))\n",
        "int(\"A pessoa está abaixo do peso ideal.\")\n",
        "elif peso > peso_ideal:\n",
        "  print(\"A pessoa está acima do peso ideal.\")\n",
        "else:\n",
        "  print(\"A pessoa está no peso ideal.\")\n",
        "print(f\" seu peso ideal é: {peso} kg\")"
      ],
      "metadata": {
        "id": "8jPUyaUvZiHm",
        "colab": {
          "base_uri": "https://localhost:8080/"
        },
        "outputId": "412a9b8a-ced5-4ee2-ec85-98e2281ed2af"
      },
      "execution_count": null,
      "outputs": [
        {
          "output_type": "stream",
          "name": "stdout",
          "text": [
            "Digite a altura: 1.63\n",
            "digite o sexo(M ou F): M\n",
            "digite o peso atual:59\n",
            "A pessoa está abaixo do peso ideal.\n",
            " seu peso ideal é: 59.0 kg\n"
          ]
        }
      ]
    },
    {
      "cell_type": "markdown",
      "source": [
        "**14- João Papo-de-Pescador, homem de bem, comprou um microcomputador para controlar o rendimento diário de\n",
        "seu trabalho. Toda vez que ele traz um peso de peixes maior que o estabelecido pelo regulamento de pesca do\n",
        "estado de São Paulo (50 quilos) deve pagar uma multa de R$ 4,00 por quilo excedente. João precisa que você\n",
        "faça um programa que leia a variável peso (peso de peixes) e verifique se há excesso. Se houver, gravar na\n",
        "variável excesso e na variável multa o valor da multa que João deverá pagar. Caso contrário mostrar tais\n",
        "variáveis com o conteúdo ZERO.**"
      ],
      "metadata": {
        "id": "jgDyzPfVJSk9"
      }
    },
    {
      "cell_type": "code",
      "source": [
        "peso = float(input(\"Informe o peso dos peixes (em quilos): \"))\n",
        "excesso = peso - 50\n",
        "if excesso <= 0:\n",
        "  excesso = 0\n",
        "  multa = 0\n",
        "else:\n",
        "  multa = excesso * 4\n",
        "  print(\"Excesso de peso: {:.2f} kg\".format(excesso))\n",
        "print(\"Multa a pagar: R$ {:.2f}\".format(multa))\n"
      ],
      "metadata": {
        "colab": {
          "base_uri": "https://localhost:8080/"
        },
        "id": "oAcTWZ_jTpkA",
        "outputId": "cb091dd5-1d04-4758-d3a3-a5d44c28471a"
      },
      "execution_count": null,
      "outputs": [
        {
          "output_type": "stream",
          "name": "stdout",
          "text": [
            "Informe o peso dos peixes (em quilos): 150\n",
            "Excesso de peso: 100.00 kg\n",
            "Multa a pagar: R$ 400.00\n"
          ]
        }
      ]
    },
    {
      "cell_type": "markdown",
      "source": [
        "**15- Faça um Programa que pergunte quanto você ganha por hora e o número de horas trabalhadas no mês.\n",
        "Calcule e mostre o total do seu salário no referido mês, sabendo-se que são descontados 11% para o Imposto\n",
        "de Renda, 8% para o INSS e 5% para o sindicato, faça um programa que nos dê:**\n",
        "\n",
        "**a. salário bruto.**\n",
        "\n",
        "**b. quanto pagou ao INSS.**\n",
        "\n",
        "**c. quanto pagou ao sindicato.**\n",
        "\n",
        "**d. o salário líquido.**\n",
        "\n",
        "**e. calcule os descontos e o salário líquido, conforme a tabela abaixo:**\n",
        "\n",
        "**- Salário Bruto : R$**\n",
        "\n",
        "**- IR (11%) : R$**\n",
        "\n",
        "**- INSS (8%) : R$**\n",
        "\n",
        "**- Sindicato ( 5%) : R$**\n",
        "\n",
        "**- Salário Liquido : R$**\n"
      ],
      "metadata": {
        "id": "M2mQAd9ZJpSE"
      }
    },
    {
      "cell_type": "code",
      "source": [
        "salario_hora=float(input(\"Digite quantos R$ recebe de salário por hora trabalhada: \"))\n",
        "trabalho_hora=float(input(\"Digite quantas horas você trabalha por mês: \"))\n",
        "salario_bruto=salario_hora*trabalho_hora\n",
        "ir=salario_bruto*0.11\n",
        "INSS=salario_bruto*0.08\n",
        "Sindicato=salario_bruto*0.05\n",
        "salario_liquido=salario_bruto-ir-INSS-Sindicato\n",
        "print(f\" O seu salário liquido é de: R${salario_liquido} \")"
      ],
      "metadata": {
        "colab": {
          "base_uri": "https://localhost:8080/"
        },
        "id": "LaNOGoeWJqP8",
        "outputId": "cd79e2a0-d0f6-4f83-ffc2-97b644fde6b4"
      },
      "execution_count": null,
      "outputs": [
        {
          "output_type": "stream",
          "name": "stdout",
          "text": [
            "Digite quantos R$ recebe de salário por hora trabalhada: 80\n",
            "Digite quantas horas você trabalha por mês: 200\n",
            " O seu salário liquido é de: R$12160.0 \n"
          ]
        }
      ]
    },
    {
      "cell_type": "markdown",
      "source": [
        "**16- Faça um programa para uma loja de tintas. O programa deverá pedir o tamanho em metros quadrados da área\n",
        "a ser pintada. Considere que a cobertura da tinta é de 1 litro para cada 3 metros quadrados e que a tinta é\n",
        "vendida em latas de 18 litros, que custam R$ 80,00. Informe ao usuário a quantidades de latas de tinta a serem\n",
        "compradas e o preço total.**"
      ],
      "metadata": {
        "id": "uA13-eicNIeP"
      }
    },
    {
      "cell_type": "code",
      "source": [
        "import math\n",
        "\n",
        "metros_quadrados = float(input(\"Digite a área em metros quadrados a ser pintada: \"))\n",
        "\n",
        "litros_necessarios = metros_quadrados / 3\n",
        "quantidade_latas = math.ceil(litros_necessarios / 18)\n",
        "preco_total = quantidade_latas * 80\n",
        "\n",
        "print(\"Você precisará de\", quantidade_latas, \"latas de tinta\")\n",
        "print(\"O preço total será de R$\", preco_total)\n"
      ],
      "metadata": {
        "colab": {
          "base_uri": "https://localhost:8080/"
        },
        "id": "yKXT6_ixNJOv",
        "outputId": "105fcd0f-9476-4706-9247-9ef6d07cb1c8"
      },
      "execution_count": null,
      "outputs": [
        {
          "output_type": "stream",
          "name": "stdout",
          "text": [
            "Digite a área em metros quadrados a ser pintada: 15\n",
            "Você precisará de 1 latas de tinta\n",
            "O preço total será de R$ 80\n"
          ]
        }
      ]
    },
    {
      "cell_type": "markdown",
      "source": [
        "**17- Faça um Programa para uma loja de tintas. O programa deverá pedir o tamanho em metros quadrados da área\n",
        "a ser pintada. Considere que a cobertura da tinta é de 1 litro para cada 6 metros quadrados e que a tinta é\n",
        "vendida em latas de 18 litros, que custam 80 reais ou em galões de 3,6 litros, que custam 25 reais.\n",
        "Informe ao usuário as quantidades de tinta a serem compradas e os respectivos preços em 3 situações:**\n",
        "\n",
        "**- comprar apenas latas de 18 litros;**\n",
        "\n",
        "**- comprar apenas galões de 3,6 litros;**\n",
        "\n",
        "**- misturar latas e galões, de forma que o preço seja o menor. Acrescente 10% de folga e sempre\n",
        "arredonde os valores para cima, isto é, considere latas cheias.**"
      ],
      "metadata": {
        "id": "i1YJ8VavSKnx"
      }
    },
    {
      "cell_type": "code",
      "source": [
        "import math\n",
        "\n",
        "area = float(input(\"Digite o tamanho em metros quadrados da área a ser pintada: \"))\n",
        "litros_necessarios = area / 6\n",
        "litros_necessarios += litros_necessarios * 0.1\n",
        "\n",
        "latas = math.ceil(litros_necessarios / 18)\n",
        "preco_latas = latas * 80\n",
        "\n",
        "galoes = math.ceil(litros_necessarios / 3.6)\n",
        "preco_galoes = galoes * 25\n",
        "\n",
        "latas_misturadas = math.floor(litros_necessarios / 18)\n",
        "litros_restantes = litros_necessarios % 18\n",
        "galoes_misturados = math.ceil(litros_restantes / 3.6)\n",
        "preco_mistura = latas_misturadas * 80 + galoes_misturados * 25\n",
        "\n",
        "print(\"Comprando apenas latas de 18 litros:\")\n",
        "print(\"Você precisará de\", latas, \"latas de tinta\")\n",
        "print(\"Preço total: R$\", preco_latas)\n",
        "\n",
        "print(\"\\nComprando apenas galões de 3,6 litros:\")\n",
        "print(\"Você precisará de\", galoes, \"galões de tinta\")\n",
        "print(\"Preço total: R$\", preco_galoes)\n",
        "\n",
        "print(\"\\nMisturando latas e galões:\")\n",
        "print(\"Você precisará de\", latas_misturadas, \"latas e\", galoes_misturados, \"galões de tinta\")\n",
        "print(\"Preço total: R$\", preco_mistura)"
      ],
      "metadata": {
        "colab": {
          "base_uri": "https://localhost:8080/"
        },
        "id": "YDi_8IU9SNUR",
        "outputId": "87b4dded-fa01-45ad-fef7-0947033435c6"
      },
      "execution_count": null,
      "outputs": [
        {
          "output_type": "stream",
          "name": "stdout",
          "text": [
            "Digite o tamanho em metros quadrados da área a ser pintada: 15\n",
            "Comprando apenas latas de 18 litros:\n",
            "Você precisará de 1 latas de tinta\n",
            "Preço total: R$ 80\n",
            "\n",
            "Comprando apenas galões de 3,6 litros:\n",
            "Você precisará de 1 galões de tinta\n",
            "Preço total: R$ 25\n",
            "\n",
            "Misturando latas e galões:\n",
            "Você precisará de 0 latas e 1 galões de tinta\n",
            "Preço total: R$ 25\n"
          ]
        }
      ]
    },
    {
      "cell_type": "markdown",
      "source": [
        "**18- Faça um programa que peça o tamanho de um arquivo para download (em MB) e a velocidade de um link de\n",
        "Internet (em Mbps), calcule e informe o tempo aproximado de download do arquivo usando este link (em\n",
        "minutos).**"
      ],
      "metadata": {
        "id": "eib83KhcUL-y"
      }
    },
    {
      "cell_type": "code",
      "source": [
        "tamanho_arquivo = float(input(\"Informe o tamanho do arquivo para download (em MB): \"))\n",
        "velocidade_internet = float(input(\"Informe a velocidade da conexão de internet (em Mbps): \"))\n",
        "tempo_download = (tamanho_arquivo * 8) / (velocidade_internet * 60)\n",
        "print(\"O tempo aproximado de download é de {:.2f} minutos.\".format(tempo_download))\n"
      ],
      "metadata": {
        "colab": {
          "base_uri": "https://localhost:8080/"
        },
        "id": "cTziF-bqUNIp",
        "outputId": "b986b029-e332-4f09-faf2-9a66e9ae979d"
      },
      "execution_count": null,
      "outputs": [
        {
          "output_type": "stream",
          "name": "stdout",
          "text": [
            "Informe o tamanho do arquivo para download (em MB): 256\n",
            "Informe a velocidade da conexão de internet (em Mbps): 50\n",
            "O tempo aproximado de download é de 0.68 minutos.\n"
          ]
        }
      ]
    }
  ]
}