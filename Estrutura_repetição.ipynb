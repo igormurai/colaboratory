{
  "nbformat": 4,
  "nbformat_minor": 0,
  "metadata": {
    "colab": {
      "provenance": [],
      "authorship_tag": "ABX9TyP+1gbeir0dfDEhr+aRxpdG",
      "include_colab_link": true
    },
    "kernelspec": {
      "name": "python3",
      "display_name": "Python 3"
    },
    "language_info": {
      "name": "python"
    }
  },
  "cells": [
    {
      "cell_type": "markdown",
      "metadata": {
        "id": "view-in-github",
        "colab_type": "text"
      },
      "source": [
        "<a href=\"https://colab.research.google.com/github/igormurai/colaboratory/blob/main/Estrutura_repeti%C3%A7%C3%A3o.ipynb\" target=\"_parent\"><img src=\"https://colab.research.google.com/assets/colab-badge.svg\" alt=\"Open In Colab\"/></a>"
      ]
    },
    {
      "cell_type": "markdown",
      "source": [
        "**1.Faça um algoritmo que:\n",
        "leia 20 números inteiros;\n",
        "escreva os números que são negativos;\n",
        "escreva a média dos números positivos.**"
      ],
      "metadata": {
        "id": "B1Apl4A1Rxv0"
      }
    },
    {
      "cell_type": "code",
      "source": [
        "# Inicializa as variáveis de soma dos números positivos e contador de números positivos\n",
        "soma_positivos = 0\n",
        "contador_positivos = 0\n",
        "\n",
        "# Loop que solicita a entrada de 20 números inteiros e processa cada um deles\n",
        "for i in range(20):\n",
        "    numero = int(input(\"Digite o número {}: \".format(i+1)))\n",
        "    if numero < 0:\n",
        "        print(\"O número {} é negativo.\".format(numero))\n",
        "    else:\n",
        "        soma_positivos += numero\n",
        "        contador_positivos += 1\n",
        "\n",
        "# Calcula a média dos números positivos\n",
        "if contador_positivos > 0:\n",
        "    media_positivos = soma_positivos / contador_positivos\n",
        "    print(\"A média dos números positivos é: {:.2f}\".format(media_positivos))\n",
        "else:\n",
        "    print(\"Não foram digitados números positivos.\")"
      ],
      "metadata": {
        "colab": {
          "base_uri": "https://localhost:8080/"
        },
        "id": "hI5pM6aeRxQr",
        "outputId": "28369ec1-2f1f-4e1b-dcb8-59fe8c11914b"
      },
      "execution_count": null,
      "outputs": [
        {
          "output_type": "stream",
          "name": "stdout",
          "text": [
            "Digite o número 1: 5\n",
            "Digite o número 2: 4\n",
            "Digite o número 3: 7\n",
            "Digite o número 4: 6\n",
            "Digite o número 5: 5\n",
            "Digite o número 6: 3\n",
            "Digite o número 7: 1\n",
            "Digite o número 8: -1\n",
            "O número -1 é negativo.\n",
            "Digite o número 9: -8\n",
            "O número -8 é negativo.\n",
            "Digite o número 10: 4\n",
            "Digite o número 11: 9\n",
            "Digite o número 12: 4\n",
            "Digite o número 13: 98\n",
            "Digite o número 14: -10\n",
            "O número -10 é negativo.\n",
            "Digite o número 15: 3\n",
            "Digite o número 16: 4\n",
            "Digite o número 17: 6\n",
            "Digite o número 18: 54\n",
            "Digite o número 19: 3\n",
            "Digite o número 20: 23\n",
            "A média dos números positivos é: 14.06\n"
          ]
        }
      ]
    },
    {
      "cell_type": "markdown",
      "source": [
        "**2. Faça um algoritmo que leia 15 números inteiros e escreva, para cada número lido, se é\n",
        "par ou ímpar.**"
      ],
      "metadata": {
        "id": "Jiqj7zQyUW5Q"
      }
    },
    {
      "cell_type": "code",
      "source": [
        "for i in range(15):\n",
        "    num = int(input(\"Digite um número inteiro: \"))\n",
        "    if num % 2 == 0:\n",
        "        print(num, \"é par\")\n",
        "    else:\n",
        "        print(num, \"é ímpar\")"
      ],
      "metadata": {
        "colab": {
          "base_uri": "https://localhost:8080/"
        },
        "id": "iiuPPYXPUfVk",
        "outputId": "95f300e4-07fa-49e9-b636-4febfded6f88"
      },
      "execution_count": null,
      "outputs": [
        {
          "output_type": "stream",
          "name": "stdout",
          "text": [
            "Digite um número inteiro: 1\n",
            "1 é ímpar\n",
            "Digite um número inteiro: 2\n",
            "2 é par\n",
            "Digite um número inteiro: 3\n",
            "3 é ímpar\n",
            "Digite um número inteiro: 4\n",
            "4 é par\n",
            "Digite um número inteiro: 5\n",
            "5 é ímpar\n",
            "Digite um número inteiro: 6\n",
            "6 é par\n",
            "Digite um número inteiro: 7\n",
            "7 é ímpar\n",
            "Digite um número inteiro: 8\n",
            "8 é par\n",
            "Digite um número inteiro: 9\n",
            "9 é ímpar\n",
            "Digite um número inteiro: 10\n",
            "10 é par\n",
            "Digite um número inteiro: 11\n",
            "11 é ímpar\n",
            "Digite um número inteiro: 12\n",
            "12 é par\n",
            "Digite um número inteiro: 13\n",
            "13 é ímpar\n",
            "Digite um número inteiro: 14\n",
            "14 é par\n",
            "Digite um número inteiro: 15\n",
            "15 é ímpar\n"
          ]
        }
      ]
    },
    {
      "cell_type": "markdown",
      "source": [
        "**3. Dado um conjunto de valores inteiros positivos, determinar qual o menor e qual o\n",
        "maior valor do conjunto. Um número com valor “0” (zero) indica o fim dos dados e\n",
        "não deve ser considerado.**"
      ],
      "metadata": {
        "id": "kNEKB3UaVDcC"
      }
    },
    {
      "cell_type": "code",
      "source": [
        "num = int(input(\"Digite um número inteiro (ou 0 para terminar): \"))\n",
        "maior = num\n",
        "menor = num\n",
        "\n",
        "while num != 0:\n",
        "    if num > maior:\n",
        "        maior = num\n",
        "    if num < menor:\n",
        "        menor = num\n",
        "    num = int(input(\"Digite um número inteiro (ou 0 para terminar): \"))\n",
        "\n",
        "print(\"Maior valor: \", maior)\n",
        "print(\"Menor valor: \", menor)"
      ],
      "metadata": {
        "colab": {
          "base_uri": "https://localhost:8080/"
        },
        "id": "dUkfV2plVNlK",
        "outputId": "b1ed8cd8-f67d-4793-af65-a00f560ba9fa"
      },
      "execution_count": null,
      "outputs": [
        {
          "output_type": "stream",
          "name": "stdout",
          "text": [
            "Digite um número inteiro (ou 0 para terminar): 6\n",
            "Digite um número inteiro (ou 0 para terminar): 13\n",
            "Digite um número inteiro (ou 0 para terminar): 60\n",
            "Digite um número inteiro (ou 0 para terminar): 2\n",
            "Digite um número inteiro (ou 0 para terminar): 0\n",
            "Maior valor:  60\n",
            "Menor valor:  2\n"
          ]
        }
      ]
    },
    {
      "cell_type": "markdown",
      "source": [
        "**4. Faça um algoritmo que calcule e escreva a soma dos números pares e a soma dos\n",
        "números ímpares entre 1 e 100.**"
      ],
      "metadata": {
        "id": "KJ89GDFJW1Ec"
      }
    },
    {
      "cell_type": "code",
      "source": [
        "# Inicializa as variáveis de soma dos números pares e ímpares\n",
        "soma_pares = 0\n",
        "soma_impares = 0\n",
        "\n",
        "# Loop que percorre os números de 1 a 100\n",
        "for num in range(1, 101):\n",
        "    # Verifica se o número é par\n",
        "    if num % 2 == 0:\n",
        "        soma_pares += num\n",
        "    # Caso contrário, o número é ímpar\n",
        "    else:\n",
        "        soma_impares += num\n",
        "\n",
        "# Imprime os resultados\n",
        "print(\"Soma dos números pares: \", soma_pares)\n",
        "print(\"Soma dos números ímpares: \", soma_impares)"
      ],
      "metadata": {
        "colab": {
          "base_uri": "https://localhost:8080/"
        },
        "id": "nd3axk49Xp5p",
        "outputId": "d7068211-c516-4650-d543-bf39fb58444e"
      },
      "execution_count": null,
      "outputs": [
        {
          "output_type": "stream",
          "name": "stdout",
          "text": [
            "Soma dos números pares:  2550\n",
            "Soma dos números ímpares:  2500\n"
          ]
        }
      ]
    },
    {
      "cell_type": "markdown",
      "source": [
        "**5. Faça um algoritmo que leia a altura de 20 pessoas e calcule a média aritmética das\n",
        "alturas.**"
      ],
      "metadata": {
        "id": "Lu9B-IB3ZU0B"
      }
    },
    {
      "cell_type": "code",
      "source": [
        "# Inicializa a variável de soma das alturas\n",
        "soma_alturas = 0\n",
        "\n",
        "# Loop que solicita a entrada da altura de cada pessoa e acumula a soma das alturas\n",
        "for i in range(20):\n",
        "    altura = float(input(\"Digite a altura da pessoa {}: \".format(i+1)))\n",
        "    soma_alturas += altura\n",
        "\n",
        "# Calcula a média aritmética das alturas\n",
        "media_alturas = soma_alturas / 20\n",
        "\n",
        "# Imprime o resultado\n",
        "print(\"A média aritmética das alturas é: {:.2f} metros\".format(media_alturas))\n"
      ],
      "metadata": {
        "colab": {
          "base_uri": "https://localhost:8080/"
        },
        "id": "TBBmyHeYZaNI",
        "outputId": "e8ed520a-b9be-49c3-b981-baa636c5e7c5"
      },
      "execution_count": null,
      "outputs": [
        {
          "output_type": "stream",
          "name": "stdout",
          "text": [
            "Digite a altura da pessoa 1: 1.50\n",
            "Digite a altura da pessoa 2: 1.60\n",
            "Digite a altura da pessoa 3: 2.00\n",
            "Digite a altura da pessoa 4: 1.82\n",
            "Digite a altura da pessoa 5: 1.87\n",
            "Digite a altura da pessoa 6: 1.50\n",
            "Digite a altura da pessoa 7: 1.40\n",
            "Digite a altura da pessoa 8: 1.49\n",
            "Digite a altura da pessoa 9: 1.65\n",
            "Digite a altura da pessoa 10: 1.62\n",
            "Digite a altura da pessoa 11: 1.75\n",
            "Digite a altura da pessoa 12: 1.76\n",
            "Digite a altura da pessoa 13: 1.69\n",
            "Digite a altura da pessoa 14: 1.63\n",
            "Digite a altura da pessoa 15: 1.72\n",
            "Digite a altura da pessoa 16: 1.77\n",
            "Digite a altura da pessoa 17: 1.79\n",
            "Digite a altura da pessoa 18: 2.01\n",
            "Digite a altura da pessoa 19: 1.94\n",
            "Digite a altura da pessoa 20: 1.68\n",
            "A média aritmética das alturas é: 1.71 metros\n"
          ]
        }
      ]
    },
    {
      "cell_type": "markdown",
      "source": [
        "**6. Faça um algoritmo que leia n valores inteiros e escreva quantos desses valores são\n",
        "negativos.**"
      ],
      "metadata": {
        "id": "X44b0OWtb3yF"
      }
    },
    {
      "cell_type": "code",
      "source": [
        "# Solicita a entrada do valor de n\n",
        "n = int(input(\"Digite a quantidade de valores que serão lidos: \"))\n",
        "\n",
        "# Inicializa o contador de números negativos\n",
        "contador_negativos = 0\n",
        "\n",
        "# Loop que solicita a entrada dos valores e verifica se são negativos\n",
        "for i in range(n):\n",
        "    valor = int(input(\"Digite o valor {}: \".format(i+1)))\n",
        "    if valor < 0:\n",
        "        contador_negativos += 1\n",
        "\n",
        "# Imprime o resultado\n",
        "print(\"Foram digitados {} números negativos.\".format(contador_negativos))"
      ],
      "metadata": {
        "colab": {
          "base_uri": "https://localhost:8080/"
        },
        "id": "ex4CbUglcEY8",
        "outputId": "49c93699-7328-4352-d481-334489285d10"
      },
      "execution_count": null,
      "outputs": [
        {
          "output_type": "stream",
          "name": "stdout",
          "text": [
            "Digite a quantidade de valores que serão lidos: 6\n",
            "Digite o valor 1: 3\n",
            "Digite o valor 2: 6\n",
            "Digite o valor 3: 7\n",
            "Digite o valor 4: -19\n",
            "Digite o valor 5: -2\n",
            "Digite o valor 6: -7\n",
            "Foram digitados 3 números negativos.\n"
          ]
        }
      ]
    },
    {
      "cell_type": "markdown",
      "source": [
        "**7.Faça um algoritmo que leia a quantidade de tinta que uma caneta, e enquanto a\n",
        "caneta tiver tinta para escrever, escreva “Enquanto tem tinta a caneta escreve...”.\n",
        "Considere que a cada comando de escrita a caneta gasta 2% da tinta que possui.**"
      ],
      "metadata": {
        "id": "wTgzQU9ifveD"
      }
    },
    {
      "cell_type": "code",
      "source": [
        "def escrever_com_caneta(quantidade_tinta):\n",
        "    while quantidade_tinta > 0:\n",
        "        print(\"Enquanto tem tinta a caneta escreve...\")\n",
        "        quantidade_tinta -= quantidade_tinta * 0.02\n",
        "\n",
        "# Leitura da quantidade de tinta da caneta\n",
        "quantidade_tinta = float(input(\"Digite a quantidade de tinta na caneta: \"))\n",
        "\n",
        "# Chamada da função para escrever com a caneta enquanto houver tinta\n",
        "escrever_com_caneta(quantidade_tinta)\n",
        "\n",
        "\n"
      ],
      "metadata": {
        "id": "MSqZuDNbgBfn"
      },
      "execution_count": null,
      "outputs": []
    },
    {
      "cell_type": "markdown",
      "source": [
        "**8.Faça um algoritmo que leia n pares de valores, sendo o primeiro valor o número de\n",
        "inscrição do atleta e o segundo a altura (em cm) do atleta. Escreva:\n",
        "• o número de inscrição e a altura do atleta mais alto;\n",
        "• o número de inscrição e a altura do atleta mais baixo;\n",
        "• a altura média do grupo de atletas.**"
      ],
      "metadata": {
        "id": "g4nUSM1egOCX"
      }
    },
    {
      "cell_type": "code",
      "source": [
        "# Leitura do número de pares de valores\n",
        "n = int(input(\"Digite o número de pares de valores: \"))\n",
        "\n",
        "# Variáveis para armazenar o atleta mais alto e mais baixo\n",
        "mais_alto = None\n",
        "mais_baixo = None\n",
        "\n",
        "# Variável para armazenar a soma das alturas\n",
        "soma_alturas = 0\n",
        "\n",
        "# Loop para ler os pares de valores e calcular as informações\n",
        "for i in range(n):\n",
        "    # Leitura do número de inscrição e altura do atleta\n",
        "    numero_inscricao = int(input(\"Digite o número de inscrição do atleta: \"))\n",
        "    altura = float(input(\"Digite a altura do atleta em cm: \"))\n",
        "\n",
        "    # Verificação para atualizar o atleta mais alto\n",
        "    if mais_alto is None or altura > mais_alto[1]:\n",
        "        mais_alto = (numero_inscricao, altura)\n",
        "\n",
        "    # Verificação para atualizar o atleta mais baixo\n",
        "    if mais_baixo is None or altura < mais_baixo[1]:\n",
        "        mais_baixo = (numero_inscricao, altura)\n",
        "\n",
        "    # Adicionar a altura à soma das alturas\n",
        "    soma_alturas += altura\n",
        "\n",
        "# Cálculo da altura média\n",
        "altura_media = soma_alturas / n\n",
        "\n",
        "# Impressão das informações\n",
        "print(\"Atleta mais alto: Número de inscrição =\", mais_alto[0], \", Altura =\", mais_alto[1], \"cm\")\n",
        "print(\"Atleta mais baixo: Número de inscrição =\", mais_baixo[0], \", Altura =\", mais_baixo[1], \"cm\")\n",
        "print(\"Altura média do grupo: \", altura_media, \"cm\")"
      ],
      "metadata": {
        "id": "JnO3HLi-gnJP",
        "colab": {
          "base_uri": "https://localhost:8080/"
        },
        "outputId": "6195cda8-168b-4093-861c-f110b42da371"
      },
      "execution_count": null,
      "outputs": [
        {
          "output_type": "stream",
          "name": "stdout",
          "text": [
            "Digite o número de pares de valores: 6\n",
            "Digite o número de inscrição do atleta: 2\n",
            "Digite a altura do atleta em cm: 165\n",
            "Digite o número de inscrição do atleta: 7\n",
            "Digite a altura do atleta em cm: 189\n",
            "Digite o número de inscrição do atleta: 15\n",
            "Digite a altura do atleta em cm: 172\n",
            "Digite o número de inscrição do atleta: 19\n",
            "Digite a altura do atleta em cm: 168\n",
            "Digite o número de inscrição do atleta: 3\n",
            "Digite a altura do atleta em cm: 189\n",
            "Digite o número de inscrição do atleta: 23\n",
            "Digite a altura do atleta em cm: 185\n",
            "Atleta mais alto: Número de inscrição = 7 , Altura = 189.0 cm\n",
            "Atleta mais baixo: Número de inscrição = 2 , Altura = 165.0 cm\n",
            "Altura média do grupo:  178.0 cm\n"
          ]
        }
      ]
    },
    {
      "cell_type": "markdown",
      "source": [
        "**9.Faça um algoritmo que calcule e imprima os valores de y, onde: y=(3+2x+6x^2)/(1+9x+16^2)\n",
        ", para x variando de 1.0 até 5.0, em intervalos de 0.1 unidades.**"
      ],
      "metadata": {
        "id": "Gj1tp-twjB01"
      }
    },
    {
      "cell_type": "code",
      "source": [
        "# Loop para calcular e imprimir os valores de y para x variando de 1.0 a 5.0 em intervalos de 0.1\n",
        "for x in range(10, 51):\n",
        "    x = x / 10.0  # Convertendo o valor de x para float com uma casa decimal\n",
        "\n",
        "    # Cálculo do valor de y\n",
        "    numerador = 3 + 2 * x + 6 * x ** 2\n",
        "    denominador = 1 + 9 * x + 16 * x ** 2\n",
        "    y = numerador / denominador\n",
        "\n",
        "    # Impressão do valor de y\n",
        "    print(\"x =\", x, \"-> y =\", y)\n"
      ],
      "metadata": {
        "id": "9F1GU1iSjhZG",
        "colab": {
          "base_uri": "https://localhost:8080/"
        },
        "outputId": "4fd19f8d-7204-4581-cc09-09c0718e9131"
      },
      "execution_count": null,
      "outputs": [
        {
          "output_type": "stream",
          "name": "stdout",
          "text": [
            "x = 1.0 -> y = 0.4230769230769231\n",
            "x = 1.1 -> y = 0.4117647058823529\n",
            "x = 1.2 -> y = 0.4029850746268657\n",
            "x = 1.3 -> y = 0.3960744841469552\n",
            "x = 1.4 -> y = 0.39056939501779364\n",
            "x = 1.5 -> y = 0.38613861386138615\n",
            "x = 1.6 -> y = 0.38254080908445703\n",
            "x = 1.7 -> y = 0.3795970578829549\n",
            "x = 1.8 -> y = 0.37717265353418306\n",
            "x = 1.9 -> y = 0.37516477722119695\n",
            "x = 2.0 -> y = 0.37349397590361444\n",
            "x = 2.1 -> y = 0.3720981649347778\n",
            "x = 2.2 -> y = 0.370928338762215\n",
            "x = 2.3 -> y = 0.3699454579650179\n",
            "x = 2.4 -> y = 0.3691181596375044\n",
            "x = 2.5 -> y = 0.3684210526315789\n",
            "x = 2.6 -> y = 0.36783343391671697\n",
            "x = 2.7 -> y = 0.36733831196280115\n",
            "x = 2.8 -> y = 0.3669216565549987\n",
            "x = 2.9 -> y = 0.36657181739453176\n",
            "x = 3.0 -> y = 0.36627906976744184\n",
            "x = 3.1 -> y = 0.3660352567611957\n",
            "x = 3.2 -> y = 0.3658335054740756\n",
            "x = 3.3 -> y = 0.3656680003903581\n",
            "x = 3.4 -> y = 0.36553380125600293\n",
            "x = 3.5 -> y = 0.36542669584245074\n",
            "x = 3.6 -> y = 0.365343080245888\n",
            "x = 3.7 -> y = 0.365279861056288\n",
            "x = 3.8 -> y = 0.36523437499999994\n",
            "x = 3.9 -> y = 0.36520432262219993\n",
            "x = 4.0 -> y = 0.3651877133105802\n",
            "x = 4.1 -> y = 0.3651828195268201\n",
            "x = 4.2 -> y = 0.36518813854971344\n",
            "x = 4.3 -> y = 0.365202360374322\n",
            "x = 4.4 -> y = 0.3652243406781596\n",
            "x = 4.5 -> y = 0.3652530779753762\n",
            "x = 4.6 -> y = 0.36528769424611507\n",
            "x = 4.7 -> y = 0.3653274184604527\n",
            "x = 4.8 -> y = 0.36537157252204244\n",
            "x = 4.9 -> y = 0.36541955924148534\n",
            "x = 5.0 -> y = 0.3654708520179372\n"
          ]
        }
      ]
    },
    {
      "cell_type": "markdown",
      "source": [
        "**10.Construir um algoritmo que calcule o fatorial de um número N.**"
      ],
      "metadata": {
        "id": "sRQHrOefjhzn"
      }
    },
    {
      "cell_type": "code",
      "source": [
        "# Solicita a entrada do número N\n",
        "N = int(input(\"Digite um número inteiro positivo: \"))\n",
        "\n",
        "# Inicializa o fatorial com valor 1\n",
        "fatorial = 1\n",
        "\n",
        "# Loop para calcular o fatorial de N\n",
        "for i in range(1, N+1):\n",
        "    fatorial *= i\n",
        "\n",
        "# Imprime o resultado\n",
        "print(\"O fatorial de {} é: {}\".format(N, fatorial))"
      ],
      "metadata": {
        "colab": {
          "base_uri": "https://localhost:8080/"
        },
        "id": "_8nNet2ljpBE",
        "outputId": "f40b77d2-d03d-4dc5-c369-e7584e6d84a1"
      },
      "execution_count": null,
      "outputs": [
        {
          "output_type": "stream",
          "name": "stdout",
          "text": [
            "Digite um número inteiro positivo: 4\n",
            "O fatorial de 4 é: 24\n"
          ]
        }
      ]
    },
    {
      "cell_type": "markdown",
      "source": [
        "**11- Faça um algoritmo que calcule e escreva a soma da seguinte série de 100 termos:**"
      ],
      "metadata": {
        "id": "cnvaFUvQkVrB"
      }
    },
    {
      "cell_type": "code",
      "source": [
        "soma = 0\n",
        "\n",
        "for i in range(1, 101):\n",
        "    soma += i\n",
        "\n",
        "print(\"A soma dos 100 termos da série é:\", soma)"
      ],
      "metadata": {
        "colab": {
          "base_uri": "https://localhost:8080/"
        },
        "id": "OW2cyxJK-4ue",
        "outputId": "b65d8cd2-fc6c-4e22-b4e2-0d2694aaeffe"
      },
      "execution_count": null,
      "outputs": [
        {
          "output_type": "stream",
          "name": "stdout",
          "text": [
            "A soma dos 100 termos da série é: 4950\n"
          ]
        }
      ]
    },
    {
      "cell_type": "markdown",
      "source": [
        "**12- Faça um algoritmo que calcule e escreva a soma da seguinte série de 100 termos:1/1 + 1/2 + 1/3 +...+ 1/100** "
      ],
      "metadata": {
        "id": "w2XOUNYsDqgo"
      }
    },
    {
      "cell_type": "code",
      "source": [
        "soma = 0\n",
        "\n",
        "for i in range(1, 101):\n",
        "    termo = 1/i\n",
        "    soma += termo\n",
        "\n",
        "print(\"A soma dos 100 termos da série é:\", soma)"
      ],
      "metadata": {
        "colab": {
          "base_uri": "https://localhost:8080/"
        },
        "id": "Fw_gCtTVE0qF",
        "outputId": "2ec02c6b-d536-496d-99d4-10f03bbf431f"
      },
      "execution_count": null,
      "outputs": [
        {
          "output_type": "stream",
          "name": "stdout",
          "text": [
            "A soma dos 100 termos da série é: 5.187377517639621\n"
          ]
        }
      ]
    },
    {
      "cell_type": "markdown",
      "source": [
        "**13- Fazer um algoritmo para calcular o valor de S, dado por:S=1/N+2/N-1+3/N-2+...+N-1/2+N/1 sendo N lido.**"
      ],
      "metadata": {
        "id": "mJU5KXY9GUxS"
      }
    },
    {
      "cell_type": "code",
      "source": [
        "# Leitura do valor de N\n",
        "N = int(input(\"Digite o valor de N: \"))\n",
        "\n",
        "# Variável para armazenar o valor de S\n",
        "S = 0\n",
        "\n",
        "# Loop para calcular o valor de S\n",
        "for i in range(1, N+1):\n",
        "    S += i / (N - i + 1)\n",
        "\n",
        "# Impressão do valor de S\n",
        "print(\"O valor de S é:\", S)"
      ],
      "metadata": {
        "id": "R2VomHe_IPqD",
        "colab": {
          "base_uri": "https://localhost:8080/"
        },
        "outputId": "d1345c0c-fdf6-4d06-e604-5462b2581a6e"
      },
      "execution_count": null,
      "outputs": [
        {
          "output_type": "stream",
          "name": "stdout",
          "text": [
            "Digite o valor de N: 5\n",
            "O valor de S é: 8.7\n"
          ]
        }
      ]
    },
    {
      "cell_type": "markdown",
      "source": [
        "**14- O valor aproximado do número pi pode ser calculado usando-se a série:\n",
        "S=1-1/3^3+1/5^3-1/7^3+1/9^3-...**\n",
        "\n",
        "**sendo o valor de pi=raiz de Sx32^3. Faça um algoritmo que calcule e escreva o valor de p\n",
        "usando os 51 primeiros termos da série.**"
      ],
      "metadata": {
        "id": "-mVEUos6in3p"
      }
    },
    {
      "cell_type": "code",
      "source": [
        "import math\n",
        "\n",
        "# Variável para armazenar o valor de S\n",
        "S = 0\n",
        "\n",
        "# Loop para calcular o valor de S\n",
        "for i in range(51):\n",
        "    termo = (-1) ** i / (2 * i + 1) ** 3\n",
        "    S += termo\n",
        "\n",
        "# Cálculo do valor aproximado de pi\n",
        "pi = math.sqrt(S * 32 ** 3)\n",
        "\n",
        "# Impressão do valor de pi\n",
        "print(\"O valor aproximado de pi é:\", pi)\n"
      ],
      "metadata": {
        "colab": {
          "base_uri": "https://localhost:8080/"
        },
        "id": "RsTsSKYAjzQu",
        "outputId": "5f124aad-b69f-4ec7-96b8-7661c91a1365"
      },
      "execution_count": null,
      "outputs": [
        {
          "output_type": "stream",
          "name": "stdout",
          "text": [
            "O valor aproximado de pi é: 178.18653919626794\n"
          ]
        }
      ]
    },
    {
      "cell_type": "markdown",
      "source": [
        "**15-Fazer um algoritmo que calcule e escreva a soma dos 20 primeiros termos da série: 100/0! + 99/1! + 98/2! + 97/3! + ...**"
      ],
      "metadata": {
        "id": "P_fNOzwNj5vQ"
      }
    },
    {
      "cell_type": "code",
      "source": [
        "import math\n",
        "\n",
        "# Variável para armazenar a soma dos termos\n",
        "soma = 0\n",
        "\n",
        "# Loop para calcular a soma dos termos\n",
        "for i in range(20):\n",
        "    numerador = 100 - i\n",
        "    denominador = math.factorial(i)\n",
        "    termo = numerador / denominador\n",
        "    soma += termo\n",
        "\n",
        "# Impressão da soma dos termos\n",
        "print(\"A soma dos 20 primeiros termos da série é:\", soma)\n",
        "\n",
        "\n"
      ],
      "metadata": {
        "colab": {
          "base_uri": "https://localhost:8080/"
        },
        "id": "Jkouxlj-kPBP",
        "outputId": "df86ca9b-400a-45cb-d55a-d40dc3011ab7"
      },
      "execution_count": null,
      "outputs": [
        {
          "output_type": "stream",
          "name": "stdout",
          "text": [
            "A soma dos 20 primeiros termos da série é: 269.10990101744557\n"
          ]
        }
      ]
    },
    {
      "cell_type": "markdown",
      "source": [
        "**16- Fazer um algoritmo que calcule e imprima o valor de e^x através da série: e^x = x^0 + x^1/1! + x^2/2! + x^3/3! + ...** \n",
        "\n",
        "**Considerar para efeitos de cálculo os 30 primeiros termos. O algoritmo deverá ler o\n",
        "valor de x.**"
      ],
      "metadata": {
        "id": "BOzl6u5EnCTT"
      }
    },
    {
      "cell_type": "code",
      "source": [
        "import math\n",
        "\n",
        "# Leitura do valor de x\n",
        "x = float(input(\"Digite o valor de x: \"))\n",
        "\n",
        "# Variável para armazenar o valor de e^x\n",
        "exp_x = 0\n",
        "\n",
        "# Loop para calcular o valor de e^x\n",
        "for i in range(30):\n",
        "    termo = x ** i / math.factorial(i)\n",
        "    exp_x += termo\n",
        "\n",
        "# Impressão do valor de e^x\n",
        "print(\"O valor de e^x é:\", exp_x)"
      ],
      "metadata": {
        "colab": {
          "base_uri": "https://localhost:8080/"
        },
        "id": "RYneAh8Unlcq",
        "outputId": "dcd59cd6-9bbb-4fca-aee3-ec3f4e83f037"
      },
      "execution_count": null,
      "outputs": [
        {
          "output_type": "stream",
          "name": "stdout",
          "text": [
            "Digite o valor de x: 1\n",
            "O valor de e^x é: 2.7182818284590455\n"
          ]
        }
      ]
    },
    {
      "cell_type": "markdown",
      "source": [
        "**17- Foi feita uma pesquisa de audiência de canal de TV em n casas de um determinado\n",
        "bairro de Joinville, em um certo dia do mês. Na pesquisa foi utilizado um coletor de\n",
        "dados portátil. Para cada casa visitada, foi fornecido o número do canal (4, 5, 9, 12) e\n",
        "o número de pessoas que estavam assistindo a TV naquele horário, considerando que\n",
        "em cada casa só existia uma televisão. Em casas onde a televisão estava desligada, foi\n",
        "registrado zero para o número do canal e para o número de pessoas. Faça um\n",
        "algoritmo que calcule e escreva, para cada emissora, o percentual de audiência.** "
      ],
      "metadata": {
        "id": "poI3OeKgu6uo"
      }
    },
    {
      "cell_type": "code",
      "source": [
        "# Variáveis para armazenar a contagem de audiência de cada emissora\n",
        "audiencia_canal_4 = 0\n",
        "audiencia_canal_5 = 0\n",
        "audiencia_canal_9 = 0\n",
        "audiencia_canal_12 = 0\n",
        "\n",
        "# Variável para armazenar o número total de casas visitadas\n",
        "total_casas = 0\n",
        "\n",
        "# Loop para coletar os dados de audiência em cada casa\n",
        "while True:\n",
        "    canal = int(input(\"Digite o número do canal (4, 5, 9, 12) [0 para sair]: \"))\n",
        "    \n",
        "    if canal == 0:\n",
        "        break\n",
        "\n",
        "    pessoas_assistindo = int(input(\"Digite o número de pessoas assistindo: \"))\n",
        "\n",
        "    # Atualiza a contagem de audiência para o canal correspondente\n",
        "    if canal == 4:\n",
        "        audiencia_canal_4 += pessoas_assistindo\n",
        "    elif canal == 5:\n",
        "        audiencia_canal_5 += pessoas_assistindo\n",
        "    elif canal == 9:\n",
        "        audiencia_canal_9 += pessoas_assistindo\n",
        "    elif canal == 12:\n",
        "        audiencia_canal_12 += pessoas_assistindo\n",
        "\n",
        "    total_casas += 1\n",
        "\n",
        "# Cálculo do percentual de audiência para cada emissora\n",
        "percentual_4 = (audiencia_canal_4 / total_casas) * 100\n",
        "percentual_5 = (audiencia_canal_5 / total_casas) * 100\n",
        "percentual_9 = (audiencia_canal_9 / total_casas) * 100\n",
        "percentual_12 = (audiencia_canal_12 / total_casas) * 100\n",
        "\n",
        "# Impressão dos resultados\n",
        "print(\"Percentual de audiência para cada emissora:\")\n",
        "print(\"Canal 4: {:.2f}%\".format(percentual_4))\n",
        "print(\"Canal 5: {:.2f}%\".format(percentual_5))\n",
        "print(\"Canal 9: {:.2f}%\".format(percentual_9))\n",
        "print(\"Canal 12: {:.2f}%\".format(percentual_12))\n"
      ],
      "metadata": {
        "colab": {
          "base_uri": "https://localhost:8080/"
        },
        "id": "yQETmS6gu_m0",
        "outputId": "7bdd7f4d-7ee4-4403-bbe2-13520632db0c"
      },
      "execution_count": null,
      "outputs": [
        {
          "output_type": "stream",
          "name": "stdout",
          "text": [
            "Digite o número do canal (4, 5, 9, 12) [0 para sair]: 9\n",
            "Digite o número de pessoas assistindo: 500\n",
            "Digite o número do canal (4, 5, 9, 12) [0 para sair]: 4\n",
            "Digite o número de pessoas assistindo: 120\n",
            "Digite o número do canal (4, 5, 9, 12) [0 para sair]: 5\n",
            "Digite o número de pessoas assistindo: 89\n",
            "Digite o número do canal (4, 5, 9, 12) [0 para sair]: 12\n",
            "Digite o número de pessoas assistindo: 2000\n",
            "Digite o número do canal (4, 5, 9, 12) [0 para sair]: 0\n",
            "Percentual de audiência para cada emissora:\n",
            "Canal 4: 3000.00%\n",
            "Canal 5: 2225.00%\n",
            "Canal 9: 12500.00%\n",
            "Canal 12: 50000.00%\n"
          ]
        }
      ]
    },
    {
      "cell_type": "markdown",
      "source": [
        "**18- Uma companhia de teatro planeja dar uma série de espetáculos. A direção calcula que,\n",
        "a  5,00 o ingresso, serão vendidos 120 ingressos. Com a diminuição de  0,50 no\n",
        "preço dos ingressos, espera-se que haja um aumento de 26 ingressos vendidos. As\n",
        "despesas estão estipuladas em  200,00 independente do número de ingressos\n",
        "vendidos. Faça um algoritmo que escreva uma tabela contendo o preço do ingresso, o\n",
        "número de ingressos e o lucro esperado em função do preço do ingresso, fazendo-se\n",
        "variar este preço de  5,00 a  1,00 de  0,50 em 0,50. Escreva também o lucro\n",
        "máximo esperado, o preço e o número de ingressos correspondentes.**"
      ],
      "metadata": {
        "id": "9NQ_H3qJv48Y"
      }
    },
    {
      "cell_type": "code",
      "source": [
        "preco_ingresso = 5.00\n",
        "preco_ingresso_max_lucro = 0\n",
        "num_ingressos_max_lucro = 0\n",
        "lucro_max = 0\n",
        "\n",
        "tabela = []\n",
        "while preco_ingresso >= 1.00:\n",
        "    num_ingressos = 120 + ((5.00 - preco_ingresso) / 0.50) * 26\n",
        "    lucro = (preco_ingresso * num_ingressos) - 200.00\n",
        "    tabela.append([preco_ingresso, num_ingressos, lucro])\n",
        "    if lucro > lucro_max:\n",
        "        lucro_max = lucro\n",
        "        preco_ingresso_max_lucro = preco_ingresso\n",
        "        num_ingressos_max_lucro = num_ingressos\n",
        "    preco_ingresso -= 0.50\n",
        "\n",
        "print(\"Preço do ingresso | Número de ingressos vendidos | Lucro esperado\")\n",
        "for linha in tabela:\n",
        "    print(\"{:.2f} \\t\\t| {:.0f} \\t\\t\\t| {:.2f}\".format(linha[0], linha[1], linha[2]))\n",
        "\n",
        "print(\"\\nLucro máximo esperado: R$ {:.2f}\".format(lucro_max))\n",
        "print(\"Preço do ingresso correspondente: R$ {:.2f}\".format(preco_ingresso_max_lucro))\n",
        "print(\"Número de ingressos correspondente: {:.0f}\".format(num_ingressos_max_lucro))\n"
      ],
      "metadata": {
        "colab": {
          "base_uri": "https://localhost:8080/"
        },
        "id": "-5_1ONDhwSFw",
        "outputId": "5533b7b8-2124-40b2-d783-3128f2c46fde"
      },
      "execution_count": null,
      "outputs": [
        {
          "output_type": "stream",
          "name": "stdout",
          "text": [
            "Preço do ingresso | Número de ingressos vendidos | Lucro esperado\n",
            "5.00 \t\t| 120 \t\t\t| 400.00\n",
            "4.50 \t\t| 146 \t\t\t| 457.00\n",
            "4.00 \t\t| 172 \t\t\t| 488.00\n",
            "3.50 \t\t| 198 \t\t\t| 493.00\n",
            "3.00 \t\t| 224 \t\t\t| 472.00\n",
            "2.50 \t\t| 250 \t\t\t| 425.00\n",
            "2.00 \t\t| 276 \t\t\t| 352.00\n",
            "1.50 \t\t| 302 \t\t\t| 253.00\n",
            "1.00 \t\t| 328 \t\t\t| 128.00\n",
            "\n",
            "Lucro máximo esperado: R$ 493.00\n",
            "Preço do ingresso correspondente: R$ 3.50\n",
            "Número de ingressos correspondente: 198\n"
          ]
        }
      ]
    },
    {
      "cell_type": "markdown",
      "source": [
        "**19- Faça um algoritmo que leia n números inteiros e escreva, para cada número lido, os\n",
        "divisores e quantidade de divisores.**\n",
        "\n",
        "**coloque fim para finalizar o algoritmo**\n",
        "\n",
        "\n"
      ],
      "metadata": {
        "id": "mZX_eJwDzU3e"
      }
    },
    {
      "cell_type": "code",
      "source": [
        "while True:\n",
        "    numero = input(\"Digite um número inteiro (ou 'fim' para encerrar): \")\n",
        "    \n",
        "    if numero.lower() == \"fim\":\n",
        "        break\n",
        "    \n",
        "    numero = int(numero)\n",
        "    divisores = []\n",
        "    \n",
        "    for divisor in range(1, numero + 1):\n",
        "        if numero % divisor == 0:\n",
        "            divisores.append(divisor)\n",
        "    \n",
        "    print(f\"Número lido: {numero}\")\n",
        "    print(f\"Divisores: {divisores}\")\n",
        "    print(f\"Quantidade de divisores: {len(divisores)}\")\n",
        "    print()\n"
      ],
      "metadata": {
        "colab": {
          "base_uri": "https://localhost:8080/"
        },
        "id": "Atqfxkw9zZV6",
        "outputId": "d763273f-9da1-4aab-9065-a675aa197016"
      },
      "execution_count": null,
      "outputs": [
        {
          "name": "stdout",
          "output_type": "stream",
          "text": [
            "Digite um número inteiro (ou 'fim' para encerrar): 45\n",
            "Número lido: 45\n",
            "Divisores: [1, 3, 5, 9, 15, 45]\n",
            "Quantidade de divisores: 6\n",
            "\n",
            "Digite um número inteiro (ou 'fim' para encerrar): 23\n",
            "Número lido: 23\n",
            "Divisores: [1, 23]\n",
            "Quantidade de divisores: 2\n",
            "\n",
            "Digite um número inteiro (ou 'fim' para encerrar): fim\n"
          ]
        }
      ]
    },
    {
      "cell_type": "markdown",
      "source": [
        "**20- Uma máquina de biscoito está com problemas. Quando ligada, após 1 hora ela quebra\n",
        "1 biscoito, na segunda hora ela quebra 3 biscoitos, na hora seguinte ela quebra 3\n",
        "vezes a quantidade de biscoitos quebrados na hora anterior, e assim por diante. Faça\n",
        "um algoritmo que calcule quantos biscoitos são quebrados no final de cada dia (a\n",
        "máquina opera 16 horas por dia).**"
      ],
      "metadata": {
        "id": "P4Kc2SBM1gfb"
      }
    },
    {
      "cell_type": "code",
      "source": [
        "biscoitos_quebrados = 0  # variável para armazenar o número de biscoitos quebrados\n",
        "\n",
        "for hora in range(1, 17):\n",
        "    biscoitos_quebrados_hora_atual = 3**(hora - 1)  # calcula o número de biscoitos quebrados na hora atual\n",
        "    biscoitos_quebrados += biscoitos_quebrados_hora_atual\n",
        "\n",
        "    if hora % 8 == 0:\n",
        "        print(\"Total de biscoitos quebrados no final do dia\", hora // 8, \":\", biscoitos_quebrados)\n",
        "\n"
      ],
      "metadata": {
        "colab": {
          "base_uri": "https://localhost:8080/"
        },
        "id": "YLFlBUyx1hg9",
        "outputId": "fb1424a3-afc2-4dd6-8675-6b52b9c6a4ca"
      },
      "execution_count": null,
      "outputs": [
        {
          "output_type": "stream",
          "name": "stdout",
          "text": [
            "Total de biscoitos quebrados no final do dia 1 : 3280\n",
            "Total de biscoitos quebrados no final do dia 2 : 21523360\n"
          ]
        }
      ]
    },
    {
      "cell_type": "markdown",
      "source": [
        "**21- Uma turma tem 10 alunos. Faça um algoritmo que:\n",
        "• leia para cada aluno o seu nome e idade;\n",
        "• escreva os nomes dos alunos que tem 18 anos;\n",
        "• escreva a quantidade de alunos que tem idade acima de 20 anos.**"
      ],
      "metadata": {
        "id": "9jl5YlAwaP0N"
      }
    },
    {
      "cell_type": "code",
      "source": [
        "def turma():\n",
        "    quantidade_alunos_18 = 0\n",
        "    quantidade_alunos_acima_20 = 0\n",
        "    \n",
        "    for aluno in range(1, 11):\n",
        "        nome = input(\"Digite o nome do aluno: \")\n",
        "        idade = int(input(\"Digite a idade do aluno: \"))\n",
        "        \n",
        "        if idade == 18:\n",
        "            print(nome)\n",
        "            quantidade_alunos_18 += 1\n",
        "        \n",
        "        if idade > 20:\n",
        "            quantidade_alunos_acima_20 += 1\n",
        "    \n",
        "    print(\"Quantidade de alunos com 18 anos:\", quantidade_alunos_18)\n",
        "    print(\"Quantidade de alunos acima de 20 anos:\", quantidade_alunos_acima_20)\n",
        "\n",
        "turma()"
      ],
      "metadata": {
        "colab": {
          "base_uri": "https://localhost:8080/"
        },
        "id": "YXKY57KtadCW",
        "outputId": "f4fbea7f-c306-4318-d0d8-0fd18c62dbc4"
      },
      "execution_count": null,
      "outputs": [
        {
          "output_type": "stream",
          "name": "stdout",
          "text": [
            "Digite o nome do aluno: joao\n",
            "Digite a idade do aluno: 19\n",
            "Digite o nome do aluno: igor\n",
            "Digite a idade do aluno: 20\n",
            "Digite o nome do aluno: bruna\n",
            "Digite a idade do aluno: 21\n",
            "Digite o nome do aluno: rodrigo\n",
            "Digite a idade do aluno: 18\n",
            "rodrigo\n",
            "Digite o nome do aluno: ana\n",
            "Digite a idade do aluno: 24\n",
            "Digite o nome do aluno: felipe\n",
            "Digite a idade do aluno: 18\n",
            "felipe\n",
            "Digite o nome do aluno: jorge\n",
            "Digite a idade do aluno: 22\n",
            "Digite o nome do aluno: vinicus\n",
            "Digite a idade do aluno: 19\n",
            "Digite o nome do aluno: pedro\n",
            "Digite a idade do aluno: 18\n",
            "pedro\n",
            "Digite o nome do aluno: paulo\n",
            "Digite a idade do aluno: 25\n",
            "Quantidade de alunos com 18 anos: 3\n",
            "Quantidade de alunos acima de 20 anos: 4\n"
          ]
        }
      ]
    },
    {
      "cell_type": "markdown",
      "source": [
        "**22- Faça um algoritmo que:\n",
        "• leia, para n pessoas, a altura e o sexo (sexo = 'M' ou sexo = 'm' para masculino e\n",
        "sexo = 'F' ou sexo = 'f' para feminino);\n",
        "• escreva a média da altura das mulheres;\n",
        "• escreva a média da altura da turma.**"
      ],
      "metadata": {
        "id": "KbvekI3JeY3Z"
      }
    },
    {
      "cell_type": "code",
      "source": [
        "  n = int(input(\"Digite a quantidade de pessoas: \"))\n",
        "\n",
        "altura_total_mulheres = 0\n",
        "quantidade_mulheres = 0\n",
        "altura_total_turma = 0\n",
        "\n",
        "for i in range(n):\n",
        "    altura = float(input(\"Digite a altura da pessoa (em metros): \"))\n",
        "    sexo = input(\"Digite o sexo da pessoa (M/F): \")\n",
        "\n",
        "    altura_total_turma += altura\n",
        "\n",
        "    if sexo.lower() == \"f\":\n",
        "        altura_total_mulheres += altura\n",
        "        quantidade_mulheres += 1\n",
        "\n",
        "media_altura_mulheres = altura_total_mulheres / quantidade_mulheres\n",
        "media_altura_turma = altura_total_turma / n\n",
        "\n",
        "print(f\"Média da altura das mulheres: {media_altura_mulheres:.2f} metros\")\n",
        "print(f\"Média da altura da turma: {media_altura_turma:.2f} metros\")\n"
      ],
      "metadata": {
        "colab": {
          "base_uri": "https://localhost:8080/"
        },
        "id": "hgNXI1cPexPV",
        "outputId": "e9e15dfc-b238-40c2-8853-a8fc4008a7fa"
      },
      "execution_count": null,
      "outputs": [
        {
          "output_type": "stream",
          "name": "stdout",
          "text": [
            "Digite a quantidade de pessoas: 4\n",
            "Digite a altura da pessoa (em metros): 1.65\n",
            "Digite o sexo da pessoa (M/F): M\n",
            "Digite a altura da pessoa (em metros): 1.78\n",
            "Digite o sexo da pessoa (M/F): F\n",
            "Digite a altura da pessoa (em metros): 1.45\n",
            "Digite o sexo da pessoa (M/F): M\n",
            "Digite a altura da pessoa (em metros): 1.78\n",
            "Digite o sexo da pessoa (M/F): M\n",
            "Média da altura das mulheres: 1.78 metros\n",
            "Média da altura da turma: 1.67 metros\n"
          ]
        }
      ]
    },
    {
      "cell_type": "markdown",
      "source": [
        "**23- Uma loja de departamentos oferece para seus clientes um determinado desconto de\n",
        "acordo com o valor da compra efetuada. O desconto é de 20% caso o valor da compra\n",
        "seja maior que R$ 500,00 e de 15% caso seja menor ou igual. Faça um algoritmo que\n",
        "leia, para cada cliente, nome, endereço e valor da compra e escreva o total a pagar.\n",
        "Um nome de cliente igual a ULTIMO indica o fim da entrada de dados.**"
      ],
      "metadata": {
        "id": "Q62yH6YGiyvN"
      }
    },
    {
      "cell_type": "code",
      "source": [
        "def calcular_total_a_pagar(valor_compra):\n",
        "    if valor_compra > 500.00:\n",
        "        desconto = 0.20\n",
        "    else:\n",
        "        desconto = 0.15\n",
        "    \n",
        "    total_a_pagar = valor_compra - (valor_compra * desconto)\n",
        "    return total_a_pagar\n",
        "\n",
        "while True:\n",
        "    nome = input(\"Digite o nome do cliente: \")\n",
        "    if nome == \"ULTIMO\":\n",
        "        break\n",
        "    \n",
        "    endereco = input(\"Digite o endereço do cliente: \")\n",
        "    valor_compra = float(input(\"Digite o valor da compra: R$ \"))\n",
        "    \n",
        "    total_a_pagar = calcular_total_a_pagar(valor_compra)\n",
        "    \n",
        "    print(f\"Nome do cliente: {nome}\")\n",
        "    print(f\"Endereço do cliente: {endereco}\")\n",
        "    print(f\"Total a pagar: R$ {total_a_pagar:.2f}\")\n"
      ],
      "metadata": {
        "colab": {
          "base_uri": "https://localhost:8080/"
        },
        "id": "KDAuMSrujFgE",
        "outputId": "3cf8e84c-ba92-466b-fc8c-8bb70ed9649c"
      },
      "execution_count": null,
      "outputs": [
        {
          "name": "stdout",
          "output_type": "stream",
          "text": [
            "Digite o nome do cliente: João\n",
            "Digite o endereço do cliente: Rua Monteiro Lobato, 55\n",
            "Digite o valor da compra: R$ 456\n",
            "Nome do cliente: João\n",
            "Endereço do cliente: Rua Monteiro Lobato, 55\n",
            "Total a pagar: R$ 387.60\n",
            "Digite o nome do cliente: Felipe\n",
            "Digite o endereço do cliente: Rua José Fernades, 256\n",
            "Digite o valor da compra: R$ 1899\n",
            "Nome do cliente: Felipe\n",
            "Endereço do cliente: Rua José Fernades, 256\n",
            "Total a pagar: R$ 1519.20\n",
            "Digite o nome do cliente: Ana\n",
            "Digite o endereço do cliente: Rua B, 13\n",
            "Digite o valor da compra: R$ 155\n",
            "Nome do cliente: Ana\n",
            "Endereço do cliente: Rua B, 13\n",
            "Total a pagar: R$ 131.75\n",
            "Digite o nome do cliente: Ultimo\n",
            "Digite o endereço do cliente: Rua 4\n",
            "Digite o valor da compra: R$ 67\n",
            "Nome do cliente: Ultimo\n",
            "Endereço do cliente: Rua 4\n",
            "Total a pagar: R$ 56.95\n",
            "Digite o nome do cliente: ULTIMO\n"
          ]
        }
      ]
    },
    {
      "cell_type": "markdown",
      "source": [
        "**24- Faça um algoritmo que leia valores, sendo que cada valor representa a idade de uma\n",
        "pessoa. Calcule e escreva a idade média do grupo de pessoas. Só devem ser\n",
        "computados no cálculo valores maiores do que zero. O algoritmo deve apresentar ao\n",
        "usuário a seguinte mensagem:\n",
        "deseja digitar mais um valor: s (SIM) / n (NAO)?,\n",
        "antes de prosseguir com a entrada de dados.**"
      ],
      "metadata": {
        "id": "8NAV2aZ5knIW"
      }
    },
    {
      "cell_type": "code",
      "source": [
        "idades = []\n",
        "continuar = 's'\n",
        "\n",
        "while continuar.lower() == 's':\n",
        "    idade = int(input(\"Digite a idade da pessoa: \"))\n",
        "    if idade > 0:\n",
        "        idades.append(idade)\n",
        "    continuar = input(\"Deseja digitar mais um valor? (s/n): \")\n",
        "\n",
        "if len(idades) > 0:\n",
        "    media_idades = sum(idades) / len(idades)\n",
        "    print(f\"Idade média do grupo: {media_idades:.2f} anos\")\n",
        "else:\n",
        "    print(\"Nenhum valor válido foi digitado.\")\n"
      ],
      "metadata": {
        "colab": {
          "base_uri": "https://localhost:8080/"
        },
        "id": "GBq9kgT4k0Pm",
        "outputId": "e9d234f3-6bb3-4651-f277-910ccd9ea4da"
      },
      "execution_count": null,
      "outputs": [
        {
          "output_type": "stream",
          "name": "stdout",
          "text": [
            "Digite a idade da pessoa: 19\n",
            "Deseja digitar mais um valor? (s/n): s\n",
            "Digite a idade da pessoa: 26\n",
            "Deseja digitar mais um valor? (s/n): S\n",
            "Digite a idade da pessoa: 32\n",
            "Deseja digitar mais um valor? (s/n): S\n",
            "Digite a idade da pessoa: 72\n",
            "Deseja digitar mais um valor? (s/n): n\n",
            "Idade média do grupo: 37.25 anos\n"
          ]
        }
      ]
    },
    {
      "cell_type": "markdown",
      "source": [
        "**25- Um hotel cobra  50 reais de diária por hóspede e mais uma taxa de serviços. A taxa de\n",
        "serviços é de:**\n",
        "\n",
        "**•  7,50 reais por diária, caso o número de diárias seja menor que 15;**\n",
        "\n",
        "**•  6,50 reais por diária, caso o número de diárias seja igual a 15;**\n",
        "\n",
        "**•  5,00 reais por diária, caso o número de diárias seja maior que 15.**\n",
        "\n",
        "**Faça um algoritmo que apresente as seguintes opções ao recepcionista:**\n",
        "\n",
        "**1. encerrar a conta de um hóspede**\n",
        "\n",
        "**2. verificar número de contas encerradas**\n",
        "\n",
        "**3. finalizar a execução**\n",
        "\n",
        "**Caso a opção escolhida seja a primeira, leia o nome e o número de diárias do hóspede\n",
        "e escreva o nome e total a ser pago. Caso a opção escolhida seja a segunda, informe o\n",
        "número de hóspedes que deixaram o hotel (número de contas encerradas).**"
      ],
      "metadata": {
        "id": "kA2SldL0lOAj"
      }
    },
    {
      "cell_type": "code",
      "source": [
        "contas_encerradas = 0\n",
        "\n",
        "while True:\n",
        "    print(\"Escolha uma opção:\")\n",
        "    print(\"1. Encerrar a conta de um hóspede\")\n",
        "    print(\"2. Verificar número de contas encerradas\")\n",
        "    print(\"3. Finalizar a execução\")\n",
        "\n",
        "    opcao = input(\"Opção selecionada: \")\n",
        "\n",
        "    if opcao == \"1\":\n",
        "        nome = input(\"Digite o nome do hóspede: \")\n",
        "        num_diarias = int(input(\"Digite o número de diárias: \"))\n",
        "\n",
        "        if num_diarias < 15:\n",
        "            taxa_servicos = 7.50\n",
        "        elif num_diarias == 15:\n",
        "            taxa_servicos = 6.50\n",
        "        else:\n",
        "            taxa_servicos = 5.00\n",
        "\n",
        "        total_pagar = 50.00 * num_diarias + taxa_servicos\n",
        "\n",
        "        print(f\"Nome do hóspede: {nome}\")\n",
        "        print(f\"Total a ser pago: R$ {total_pagar:.2f}\")\n",
        "\n",
        "        contas_encerradas += 1\n",
        "\n",
        "    elif opcao == \"2\":\n",
        "        print(f\"Número de contas encerradas: {contas_encerradas}\")\n",
        "\n",
        "    elif opcao == \"3\":\n",
        "        break\n",
        "\n",
        "    else:\n",
        "        print(\"Opção inválida. Por favor, escolha uma opção válida.\")"
      ],
      "metadata": {
        "colab": {
          "base_uri": "https://localhost:8080/"
        },
        "id": "RasrO7X-l1ZE",
        "outputId": "dcf8360c-b5ec-4ab6-e96f-7d399e34c882"
      },
      "execution_count": null,
      "outputs": [
        {
          "name": "stdout",
          "output_type": "stream",
          "text": [
            "Escolha uma opção:\n",
            "1. Encerrar a conta de um hóspede\n",
            "2. Verificar número de contas encerradas\n",
            "3. Finalizar a execução\n",
            "Opção selecionada: 1\n",
            "Digite o nome do hóspede: Igor\n",
            "Digite o número de diárias: 45\n",
            "Nome do hóspede: Igor\n",
            "Total a ser pago: R$ 2255.00\n",
            "Escolha uma opção:\n",
            "1. Encerrar a conta de um hóspede\n",
            "2. Verificar número de contas encerradas\n",
            "3. Finalizar a execução\n",
            "Opção selecionada: 1\n",
            "Digite o nome do hóspede: Gustavo\n",
            "Digite o número de diárias: 5\n",
            "Nome do hóspede: Gustavo\n",
            "Total a ser pago: R$ 257.50\n",
            "Escolha uma opção:\n",
            "1. Encerrar a conta de um hóspede\n",
            "2. Verificar número de contas encerradas\n",
            "3. Finalizar a execução\n",
            "Opção selecionada: 2\n",
            "Número de contas encerradas: 2\n",
            "Escolha uma opção:\n",
            "1. Encerrar a conta de um hóspede\n",
            "2. Verificar número de contas encerradas\n",
            "3. Finalizar a execução\n",
            "Opção selecionada: 3\n"
          ]
        }
      ]
    },
    {
      "cell_type": "markdown",
      "source": [
        "**26- Um determinado material radioativo perde metade de sua massa a cada 50 segundos.\n",
        "Dada a sua massa inicial em Kg, faça um algoritmo que determine o tempo necessário\n",
        "para que essa massa se torne menor que 0,5 gramas. Escreva a massa inicial, a massa\n",
        "final e o tempo.**"
      ],
      "metadata": {
        "id": "LvsZmo2jmuJ6"
      }
    },
    {
      "cell_type": "code",
      "source": [
        "massa_inicial = float(input(\"Digite a massa inicial em kg: \"))\n",
        "massa_final = 0.5 / 1000  # Convertendo 0,5 gramas para kg\n",
        "tempo = 0\n",
        "\n",
        "while massa_inicial >= massa_final:\n",
        "    massa_inicial /= 2\n",
        "    tempo += 50\n",
        "\n",
        "print(f\"Massa inicial: {massa_inicial:.2f} kg\")\n",
        "print(f\"Massa final: {massa_final:.6f} kg\")\n",
        "print(f\"Tempo necessário: {tempo} segundos\")\n"
      ],
      "metadata": {
        "id": "8KovWVWWm_su"
      },
      "execution_count": null,
      "outputs": []
    },
    {
      "cell_type": "markdown",
      "source": [
        "**27- Um motorista acaba de voltar de um feriado prolongado. Antes de sair de viagem e\n",
        "imediatamente após retornar, o motorista encheu o tanque do veículo e registrou as\n",
        "medidas do odômetro. Em cada parada feita durante a viagem, foi registrado o valor\n",
        "do odômetro e a quantidade de combustível comprado para reabastecer o veículo\n",
        "(suponha que o tanque ficou vazio e foi enchido a cada parada). Faça um algoritmo\n",
        "que leia o número total de reabastecimentos feitos (incluindo o primeiro) e os dados\n",
        "registrados relativos à compra de combustível. Calcule e escreva:**\n",
        "\n",
        "**a) a quilometragem obtida por litro de combustível entre cada par de paradas**\n",
        "\n",
        "**b) a quilometragem média obtida por litro de combustível em toda a viagem.**"
      ],
      "metadata": {
        "id": "onDUTSETnFPW"
      }
    },
    {
      "cell_type": "code",
      "source": [
        "total_reabastecimentos = int(input(\"Digite o número total de reabastecimentos feitos: \"))\n",
        "\n",
        "odometro_inicio = float(input(\"Digite a medida do odômetro no início da viagem: \"))\n",
        "combustivel_inicio = float(input(\"Digite a quantidade de combustível comprada no início da viagem: \"))\n",
        "\n",
        "quilometragem_total = 0\n",
        "combustivel_total = combustivel_inicio\n",
        "\n",
        "for i in range(total_reabastecimentos - 1):\n",
        "    odometro_parada = float(input(f\"Digite a medida do odômetro na parada {i+1}: \"))\n",
        "    combustivel_parada = float(input(f\"Digite a quantidade de combustível comprada na parada {i+1}: \"))\n",
        "\n",
        "    quilometragem_parcial = odometro_parada - odometro_inicio\n",
        "    consumo_parcial = quilometragem_parcial / combustivel_parada\n",
        "\n",
        "    quilometragem_total += quilometragem_parcial\n",
        "    combustivel_total += combustivel_parada\n",
        "\n",
        "    print(f\"A quilometragem obtida por litro de combustível entre as paradas {i} e {i+1} é: {consumo_parcial:.2f} km/L\")\n",
        "\n",
        "quilometragem_media = quilometragem_total / combustivel_total\n",
        "\n",
        "print(f\"A quilometragem média obtida por litro de combustível em toda a viagem é: {quilometragem_media:.2f} km/L\")\n"
      ],
      "metadata": {
        "colab": {
          "base_uri": "https://localhost:8080/"
        },
        "id": "Nqj9BOEonUXT",
        "outputId": "4965cb0e-6588-4a3f-8c8a-3f513dab5232"
      },
      "execution_count": null,
      "outputs": [
        {
          "output_type": "stream",
          "name": "stdout",
          "text": [
            "Digite o número total de reabastecimentos feitos: 4\n",
            "Digite a medida do odômetro no início da viagem: 1240\n",
            "Digite a quantidade de combustível comprada no início da viagem: 4\n",
            "Digite a medida do odômetro na parada 1: 1230\n",
            "Digite a quantidade de combustível comprada na parada 1: 2\n",
            "A quilometragem obtida por litro de combustível entre as paradas 0 e 1 é: -5.00 km/L\n",
            "Digite a medida do odômetro na parada 2: 1450\n",
            "Digite a quantidade de combustível comprada na parada 2: 6\n",
            "A quilometragem obtida por litro de combustível entre as paradas 1 e 2 é: 35.00 km/L\n",
            "Digite a medida do odômetro na parada 3: 1460\n",
            "Digite a quantidade de combustível comprada na parada 3: 2\n",
            "A quilometragem obtida por litro de combustível entre as paradas 2 e 3 é: 110.00 km/L\n",
            "A quilometragem média obtida por litro de combustível em toda a viagem é: 30.00 km/L\n"
          ]
        }
      ]
    },
    {
      "cell_type": "markdown",
      "source": [
        "**28- Em uma disputa de pingue-pongue os pontos são anotados como D, ponto para o\n",
        "jogador do lado direito, e E, ponto para o jogador do lado esquerdo da mesa. Faça um\n",
        "algoritmo que leia o código do ponto de cada jogada e determine o vencedor. A\n",
        "partida encerra quando:**\n",
        "\n",
        "**a) um dos jogadores chegar a 21 pontos e a diferença de pontos entre os jogadores for\n",
        "maior ou igual a dois;**\n",
        "\n",
        "**b) o jogador com mais de 21 pontos conseguir uma diferença de dois pontos sobre o\n",
        "adversário, caso a primeira condição não seja atendida.**"
      ],
      "metadata": {
        "id": "PWRTQkV-oPX5"
      }
    },
    {
      "cell_type": "code",
      "source": [
        "Epontos_jogador_esquerdo = 0\n",
        "pontos_jogador_direito = 0\n",
        "\n",
        "while True:\n",
        "    codigo_ponto = input(\"Digite o código do ponto (D/E): \")\n",
        "\n",
        "    if codigo_ponto == \"D\":\n",
        "        pontos_jogador_direito += 1\n",
        "    elif codigo_ponto == \"E\":\n",
        "        pontos_jogador_esquerdo += 1\n",
        "    else:\n",
        "        print(\"Código de ponto inválido. Por favor, digite D para ponto do jogador direito ou E para ponto do jogador esquerdo.\")\n",
        "\n",
        "    diferenca_pontos = abs(pontos_jogador_direito - pontos_jogador_esquerdo)\n",
        "\n",
        "    if (pontos_jogador_direito >= 21 or pontos_jogador_esquerdo >= 21) and diferenca_pontos >= 2:\n",
        "        break\n",
        "\n",
        "    if (pontos_jogador_direito > 21 or pontos_jogador_esquerdo > 21) and diferenca_pontos >= 2:\n",
        "        break\n",
        "\n",
        "if pontos_jogador_direito > pontos_jogador_esquerdo:\n",
        "    vencedor = \"Jogador direito\"\n",
        "else:\n",
        "    vencedor = \"Jogador esquerdo\"\n",
        "\n",
        "print(f\"Vencedor: {vencedor}\")\n",
        "print(f\"Pontos do jogador direito: {pontos_jogador_direito}\")\n",
        "print(f\"Pontos do jogador esquerdo: {pontos_jogador_esquerdo}\")"
      ],
      "metadata": {
        "colab": {
          "base_uri": "https://localhost:8080/"
        },
        "id": "a8yrvpvuohZE",
        "outputId": "5048c6c9-2a3e-492f-eccb-add06c7082ed"
      },
      "execution_count": null,
      "outputs": [
        {
          "output_type": "stream",
          "name": "stdout",
          "text": [
            "Digite o código do ponto (D/E): D\n",
            "Digite o código do ponto (D/E): E\n",
            "Digite o código do ponto (D/E): E\n",
            "Digite o código do ponto (D/E): D\n",
            "Digite o código do ponto (D/E): E\n",
            "Digite o código do ponto (D/E): E\n",
            "Digite o código do ponto (D/E): D\n",
            "Digite o código do ponto (D/E): D\n",
            "Digite o código do ponto (D/E): E\n",
            "Digite o código do ponto (D/E): D\n",
            "Digite o código do ponto (D/E): G\n",
            "Código de ponto inválido. Por favor, digite D para ponto do jogador direito ou E para ponto do jogador esquerdo.\n",
            "Digite o código do ponto (D/E): E\n",
            "Digite o código do ponto (D/E): D\n",
            "Digite o código do ponto (D/E): E\n",
            "Digite o código do ponto (D/E): E\n",
            "Digite o código do ponto (D/E): E\n",
            "Digite o código do ponto (D/E): E\n",
            "Digite o código do ponto (D/E): D\n",
            "Digite o código do ponto (D/E): D\n",
            "Digite o código do ponto (D/E): D\n",
            "Digite o código do ponto (D/E): E\n",
            "Digite o código do ponto (D/E): E\n",
            "Digite o código do ponto (D/E): D\n",
            "Digite o código do ponto (D/E): D\n",
            "Digite o código do ponto (D/E): E\n",
            "Digite o código do ponto (D/E): D\n",
            "Digite o código do ponto (D/E): E\n",
            "Digite o código do ponto (D/E): E\n",
            "Digite o código do ponto (D/E): E\n",
            "Digite o código do ponto (D/E): E\n",
            "Digite o código do ponto (D/E): E\n",
            "Digite o código do ponto (D/E): D\n",
            "Digite o código do ponto (D/E): \n",
            "Código de ponto inválido. Por favor, digite D para ponto do jogador direito ou E para ponto do jogador esquerdo.\n",
            "Digite o código do ponto (D/E): D\n",
            "Digite o código do ponto (D/E): E\n",
            "Digite o código do ponto (D/E): D\n",
            "Digite o código do ponto (D/E): E\n",
            "Digite o código do ponto (D/E): E\n",
            "Vencedor: Jogador esquerdo\n",
            "Pontos do jogador direito: 15\n",
            "Pontos do jogador esquerdo: 21\n"
          ]
        }
      ]
    },
    {
      "cell_type": "markdown",
      "source": [
        "**29- Os regulamentos de uma competição de pesca impõem um limite no peso total de\n",
        "pesca de um dia. Faça um algoritmo que leia o limite diário (em quilogramas) e então\n",
        "leia o peso (em gramas) de cada peixe e escreva o peso total da pesca obtido até\n",
        "aquele ponto. Quando o limite diário for excedido escreva uma mensagem e encerre a\n",
        "execução do algoritmo. O algoritmo deve ainda apresentar ao usuário a seguinte\n",
        "mensagem: informar o peso de mais um peixe: s (SIM) / n (NÃO)? antes de prosseguir\n",
        "com a entrada de dados.**"
      ],
      "metadata": {
        "id": "5pZhRZWLpaNv"
      }
    },
    {
      "cell_type": "code",
      "source": [
        "limite_diario = float(input(\"Digite o limite diário de peso de pesca (em quilogramas): \"))\n",
        "peso_total = 0\n",
        "\n",
        "while True:\n",
        "    peso_peixe = float(input(\"Digite o peso do peixe (em gramas): \"))\n",
        "    peso_total += peso_peixe / 1000\n",
        "\n",
        "    if peso_total > limite_diario:\n",
        "        print(\"Limite diário de peso de pesca excedido!\")\n",
        "        break\n",
        "\n",
        "    continuar = input(\"Deseja informar o peso de mais um peixe? (s/N): \")\n",
        "    if continuar.lower() != \"s\":\n",
        "        break\n",
        "\n",
        "print(f\"Peso total da pesca: {peso_total:.2f} kg\")\n"
      ],
      "metadata": {
        "colab": {
          "base_uri": "https://localhost:8080/"
        },
        "id": "5mMSJGY3plE6",
        "outputId": "4915a4a1-0f48-477d-fb65-3eba4a8a399e"
      },
      "execution_count": null,
      "outputs": [
        {
          "output_type": "stream",
          "name": "stdout",
          "text": [
            "Digite o limite diário de peso de pesca (em quilogramas): 200\n",
            "Digite o peso do peixe (em gramas): 178\n",
            "Deseja informar o peso de mais um peixe? (s/N): s\n",
            "Peso total da pesca até o momento: 0.18 kg\n",
            "Digite o peso do peixe (em gramas): 79\n",
            "Deseja informar o peso de mais um peixe? (s/N): n\n",
            "Peso total da pesca: 0.26 kg\n"
          ]
        }
      ]
    },
    {
      "cell_type": "markdown",
      "source": [
        "**30- Foi feita uma pesquisa do consumo mensal de energia elétrica em uma determinada\n",
        "cidade. Para cada consumidor, são fornecidos os seguintes dados: número de\n",
        "identificação do consumidor, quantidade de kWh consumidos durante o mês, código\n",
        "do tipo de consumidor (R - residencial, C - comercial, I - industrial). Faça um algoritmo\n",
        "que:**\n",
        "\n",
        "**a) leia o preço do kWh por tipo de consumidor;**\n",
        "\n",
        "**b) leia os dados de n consumidores;**\n",
        "\n",
        "**c) escreva o número de identificação e o total a pagar, para cada consumidor;**\n",
        "\n",
        "**d) escreva a quantidade total de KWh consumida para cada um dos três tipos de\n",
        "consumidores;**\n",
        "\n",
        "**e) escreva a quantidade média geral de consumo.**"
      ],
      "metadata": {
        "id": "8Qrf6z_VsnpT"
      }
    },
    {
      "cell_type": "code",
      "source": [
        "# a) Leitura do preço do kWh por tipo de consumidor\n",
        "preco_residencial = float(input(\"Digite o preço do kWh para consumidor residencial: \"))\n",
        "preco_comercial = float(input(\"Digite o preço do kWh para consumidor comercial: \"))\n",
        "preco_industrial = float(input(\"Digite o preço do kWh para consumidor industrial: \"))\n",
        "\n",
        "# Variáveis para armazenar os totais\n",
        "consumo_total_residencial = 0\n",
        "consumo_total_comercial = 0\n",
        "consumo_total_industrial = 0\n",
        "consumo_total_geral = 0\n",
        "contador_consumidores = 0\n",
        "\n",
        "while True:\n",
        "    # b) Leitura dos dados de n consumidores\n",
        "    numero_identificacao = input(\"Digite o número de identificação do consumidor (ou 'fim' para encerrar): \")\n",
        "    if numero_identificacao.lower() == \"fim\":\n",
        "        break\n",
        "\n",
        "    consumo_kwh = float(input(\"Digite a quantidade de kWh consumidos durante o mês: \"))\n",
        "    tipo_consumidor = input(\"Digite o código do tipo de consumidor (R - residencial, C - comercial, I - industrial): \")\n",
        "\n",
        "    # c) Cálculo e escrita do número de identificação e total a pagar para cada consumidor\n",
        "    if tipo_consumidor == \"R\":\n",
        "        total_pagar = consumo_kwh * preco_residencial\n",
        "        consumo_total_residencial += consumo_kwh\n",
        "    elif tipo_consumidor == \"C\":\n",
        "        total_pagar = consumo_kwh * preco_comercial\n",
        "        consumo_total_comercial += consumo_kwh\n",
        "    elif tipo_consumidor == \"I\":\n",
        "        total_pagar = consumo_kwh * preco_industrial\n",
        "        consumo_total_industrial += consumo_kwh\n",
        "    else:\n",
        "        print(\"Código de tipo de consumidor inválido. Ignorando registro.\")\n",
        "        continue\n",
        "\n",
        "    print(f\"Número de identificação: {numero_identificacao}\")\n",
        "    print(f\"Total a pagar: R${total_pagar:.2f}\")\n",
        "    print()\n",
        "\n",
        "    consumo_total_geral += consumo_kwh\n",
        "    contador_consumidores += 1\n",
        "\n",
        "# d) Escrita da quantidade total de kWh consumida para cada tipo de consumidor\n",
        "print(\"Quantidade total de kWh consumida:\")\n",
        "print(f\"Residencial: {consumo_total_residencial} kWh\")\n",
        "print(f\"Comercial: {consumo_total_comercial} kWh\")\n",
        "print(f\"Industrial: {consumo_total_industrial} kWh\")\n",
        "print()\n",
        "\n",
        "# e) Cálculo e escrita da quantidade média geral de consumo\n",
        "quantidade_media_geral = consumo_total_geral / contador_consumidores if contador_consumidores > 0 else 0\n",
        "print(f\"Quantidade média geral de consumo: {quantidade_media_geral:.2f} kWh\")\n",
        "\n"
      ],
      "metadata": {
        "colab": {
          "base_uri": "https://localhost:8080/"
        },
        "id": "UPez5O1Ws4ns",
        "outputId": "17201d9f-0fe0-4cd9-dee2-b0059e737112"
      },
      "execution_count": null,
      "outputs": [
        {
          "output_type": "stream",
          "name": "stdout",
          "text": [
            "Digite o preço do kWh para consumidor residencial: 34\n",
            "Digite o preço do kWh para consumidor comercial: 45\n",
            "Digite o preço do kWh para consumidor industrial: 67\n",
            "Digite o número de identificação do consumidor (ou 'fim' para encerrar): 45\n",
            "Digite a quantidade de kWh consumidos durante o mês: 67\n",
            "Digite o código do tipo de consumidor (R - residencial, C - comercial, I - industrial): R\n",
            "Número de identificação: 45\n",
            "Total a pagar: R$2278.00\n",
            "\n",
            "Digite o número de identificação do consumidor (ou 'fim' para encerrar): 23\n",
            "Digite a quantidade de kWh consumidos durante o mês: 12\n",
            "Digite o código do tipo de consumidor (R - residencial, C - comercial, I - industrial): C\n",
            "Número de identificação: 23\n",
            "Total a pagar: R$540.00\n",
            "\n",
            "Digite o número de identificação do consumidor (ou 'fim' para encerrar): 40\n",
            "Digite a quantidade de kWh consumidos durante o mês: 44\n",
            "Digite o código do tipo de consumidor (R - residencial, C - comercial, I - industrial): I\n",
            "Número de identificação: 40\n",
            "Total a pagar: R$2948.00\n",
            "\n",
            "Digite o número de identificação do consumidor (ou 'fim' para encerrar): fim\n",
            "Quantidade total de kWh consumida:\n",
            "Residencial: 67.0 kWh\n",
            "Comercial: 12.0 kWh\n",
            "Industrial: 44.0 kWh\n",
            "\n",
            "Quantidade média geral de consumo: 41.00 kWh\n"
          ]
        }
      ]
    }
  ]
}